{
 "cells": [
  {
   "cell_type": "code",
   "execution_count": 1,
   "id": "e5dc9e9c-6778-4c21-b081-6ec4098e5ea3",
   "metadata": {},
   "outputs": [],
   "source": [
    "import pandas as pd\n",
    "import matplotlib.pyplot as plt\n",
    "import seaborn as sns\n",
    "from scipy import stats"
   ]
  },
  {
   "cell_type": "code",
   "execution_count": 2,
   "id": "fedd8b40-85ae-4053-8cac-9d92425ba6ac",
   "metadata": {},
   "outputs": [],
   "source": [
    "data1 = pd.read_csv('athletes.csv', parse_dates = ['born_date', 'died_date'])\n",
    "data2 = pd.read_csv('olympic_games_results.csv')\n",
    "df1 = pd.DataFrame(data1)\n",
    "df2 = pd.DataFrame(data2)"
   ]
  },
  {
   "cell_type": "code",
   "execution_count": 3,
   "id": "40cb4f26-2271-4963-9d8a-cab8ce88cae4",
   "metadata": {},
   "outputs": [
    {
     "name": "stdout",
     "output_type": "stream",
     "text": [
      "athlete_id           0\n",
      "name                 0\n",
      "born_date         1807\n",
      "born_city        34592\n",
      "born_region      34592\n",
      "born_country     34592\n",
      "noc                  1\n",
      "height_cm        38849\n",
      "weight_kg        43430\n",
      "died_date       111560\n",
      "dtype: int64\n",
      "--------------------------------------------------------------------------------\n",
      "['France', 'Great Britain', 'Germany West Germany', 'West Germany', 'Germany', ..., 'ROC', 'Democratic People's Republic of Korea Korea T..., 'France Sweden', 'Austria Czechia', NaN]\n",
      "Length: 697\n",
      "Categories (696, object): ['Afghanistan', 'Albania', 'Albania Australia', 'Albania Bulgaria', ..., 'Yemen', 'Yugoslavia', 'Zambia', 'Zimbabwe']\n",
      "--------------------------------------------------------------------------------\n",
      "<class 'pandas.core.frame.DataFrame'>\n",
      "RangeIndex: 145500 entries, 0 to 145499\n",
      "Data columns (total 10 columns):\n",
      " #   Column        Non-Null Count   Dtype         \n",
      "---  ------        --------------   -----         \n",
      " 0   athlete_id    145500 non-null  int64         \n",
      " 1   name          145500 non-null  object        \n",
      " 2   born_date     143693 non-null  datetime64[ns]\n",
      " 3   born_city     110908 non-null  object        \n",
      " 4   born_region   110908 non-null  object        \n",
      " 5   born_country  110908 non-null  object        \n",
      " 6   noc           145499 non-null  category      \n",
      " 7   height_cm     106651 non-null  float64       \n",
      " 8   weight_kg     102070 non-null  float64       \n",
      " 9   died_date     33940 non-null   datetime64[ns]\n",
      "dtypes: category(1), datetime64[ns](2), float64(2), int64(1), object(4)\n",
      "memory usage: 10.3+ MB\n",
      "None\n"
     ]
    }
   ],
   "source": [
    "# Visualizar columnas, tipo de datos y nulls de los datasets\n",
    "df1.rename(columns={'NOC': 'noc'}, inplace=True)\n",
    "# Tratamiento de datos\n",
    "df1['noc'] = df1['noc'].astype('category')\n",
    "valores_nulos = df1.isnull().sum()\n",
    "print(valores_nulos)\n",
    "print('-' * 80)\n",
    "print(df1['noc'].unique())\n",
    "print('-' * 80)\n",
    "print(df1.info())"
   ]
  },
  {
   "cell_type": "code",
   "execution_count": 4,
   "id": "3ae75e49-33ca-48fa-8fa0-c0391cd3bb0b",
   "metadata": {},
   "outputs": [
    {
     "name": "stdout",
     "output_type": "stream",
     "text": [
      "['FRA', 'GBR', 'FRG', 'GER', 'GHA', ..., 'KOS', 'EOR', 'SSD', 'COR', NaN]\n",
      "Length: 231\n",
      "Categories (230, object): ['AFG', 'AHO', 'ALB', 'ALG', ..., 'YMD', 'YUG', 'ZAM', 'ZIM']\n",
      "--------------------------------------------------------------------------------\n",
      "[ 17.  nan  32.   8.   4.  15.   3.   9.   2.  33.  49.   5.   1.  31.\n",
      "  14.  16.   7.  13.  29.  25.  21.  11.  48.  26.  41.  61.   6.  81.\n",
      "  75.  57.  19.  52.  12.  50.  35.  36.  55.  24.  63.  22.  40.  18.\n",
      "  23.  44.  53.  46.  43.  60.  58.  73.  20.  71.  80.  76.  62.  27.\n",
      "  30.  45.  34.  39.  51.  70.  37.  38.  47.  10.  74.  56.  64.  28.\n",
      "  42.  54.  59.  72.  77.  65.  69.  79.  66.  83.  82.  67.  68.  84.\n",
      "  78.  86. 106. 100. 117.  91.  89. 101.  98. 114.  88. 112. 102.  96.\n",
      " 103.  94. 109.  92. 104.  85.  87. 110. 113.  99.  90.  93. 108. 105.\n",
      " 107.  95. 116. 111.  97. 115. 120. 118. 121. 123. 124. 129. 122. 132.\n",
      " 119. 130. 125. 127. 128. 126. 131. 133. 134. 178. 151. 180. 177. 174.\n",
      " 159. 157. 161. 168. 144. 135. 166. 136. 182. 154. 162. 185. 184. 183.\n",
      " 148. 137. 179. 176. 141. 155. 164. 158. 173. 169. 181. 139. 140. 152.\n",
      " 147. 175. 170. 153. 150. 149. 146. 143. 156. 171. 172. 145. 165. 142.\n",
      " 138. 160. 167. 163.]\n",
      "--------------------------------------------------------------------------------\n",
      "--------------------------------------------------------------------------------\n",
      "<class 'pandas.core.frame.DataFrame'>\n",
      "RangeIndex: 308408 entries, 0 to 308407\n",
      "Data columns (total 11 columns):\n",
      " #   Column      Non-Null Count   Dtype   \n",
      "---  ------      --------------   -----   \n",
      " 0   year        305807 non-null  float64 \n",
      " 1   type        305807 non-null  category\n",
      " 2   discipline  308407 non-null  category\n",
      " 3   event       308408 non-null  object  \n",
      " 4   as          308408 non-null  object  \n",
      " 5   athlete_id  308408 non-null  int64   \n",
      " 6   noc         308407 non-null  category\n",
      " 7   team        121714 non-null  category\n",
      " 8   place       283193 non-null  float64 \n",
      " 9   tied        308408 non-null  bool    \n",
      " 10  medal       44139 non-null   category\n",
      "dtypes: bool(1), category(5), float64(2), int64(1), object(2)\n",
      "memory usage: 14.8+ MB\n",
      "None\n"
     ]
    }
   ],
   "source": [
    "cols_to_convert = ['type', 'discipline', 'noc', 'team', 'medal']\n",
    "df2[cols_to_convert] = df2[cols_to_convert].astype('category')\n",
    "#df2['place'] = df2['place'].astype(int)\n",
    "print(df2['noc'].unique())\n",
    "print('-' * 80)\n",
    "print(df2['place'].unique())\n",
    "print('-' * 80)\n",
    "# Pasar year a string para quitar el .0 y luego pasarlo a fecha\n",
    "#df2['year'] = df2['year'].str.replace('.0', '', regex = False).astype(int)\n",
    "print('-' * 80)\n",
    "print(df2.info())"
   ]
  },
  {
   "cell_type": "code",
   "execution_count": 5,
   "id": "3c3d6534-f468-4692-8412-5458599e32c7",
   "metadata": {},
   "outputs": [
    {
     "name": "stdout",
     "output_type": "stream",
     "text": [
      "0 duplicates in athletes\n",
      "--------------------------------------------------------------------------------\n",
      "126 duplicates in results\n"
     ]
    }
   ],
   "source": [
    "# Duplicates\n",
    "print(f\"{df1.duplicated().sum()} duplicates in athletes\")\n",
    "print('-' * 80)\n",
    "print(f\"{df2.duplicated().sum()} duplicates in results\")\n"
   ]
  },
  {
   "cell_type": "code",
   "execution_count": 6,
   "id": "38dd6ae0-bbe5-4389-a7a0-61b5d557a729",
   "metadata": {},
   "outputs": [
    {
     "name": "stdout",
     "output_type": "stream",
     "text": [
      "0 duplicates in results\n",
      "--------------------------------------------------------------------------------\n",
      "<class 'pandas.core.frame.DataFrame'>\n",
      "Index: 308282 entries, 0 to 308407\n",
      "Data columns (total 11 columns):\n",
      " #   Column      Non-Null Count   Dtype   \n",
      "---  ------      --------------   -----   \n",
      " 0   year        305681 non-null  float64 \n",
      " 1   type        305681 non-null  category\n",
      " 2   discipline  308281 non-null  category\n",
      " 3   event       308282 non-null  object  \n",
      " 4   as          308282 non-null  object  \n",
      " 5   athlete_id  308282 non-null  int64   \n",
      " 6   noc         308281 non-null  category\n",
      " 7   team        121678 non-null  category\n",
      " 8   place       283137 non-null  float64 \n",
      " 9   tied        308282 non-null  bool    \n",
      " 10  medal       44125 non-null   category\n",
      "dtypes: bool(1), category(5), float64(2), int64(1), object(2)\n",
      "memory usage: 17.1+ MB\n",
      "None\n",
      "--------------------------------------------------------------------------------\n",
      "year            2601\n",
      "type            2601\n",
      "discipline         1\n",
      "event              0\n",
      "as                 0\n",
      "athlete_id         0\n",
      "noc                1\n",
      "team          186604\n",
      "place          25145\n",
      "tied               0\n",
      "medal         264157\n",
      "dtype: int64\n"
     ]
    }
   ],
   "source": [
    "# Remove duplicates\n",
    "df2.drop_duplicates(inplace = True)\n",
    "print(f\"{df2.duplicated().sum()} duplicates in results\")\n",
    "print('-' * 80)\n",
    "print(df2.info())\n",
    "print('-' * 80)\n",
    "print(df2.isnull().sum())\n",
    "\n",
    "# Eliminar columna team\n",
    "df2.drop(columns=['team'], inplace=True)"
   ]
  },
  {
   "cell_type": "code",
   "execution_count": 7,
   "id": "80c818d2-475c-4d1b-acf6-b30a8682e1a0",
   "metadata": {},
   "outputs": [
    {
     "name": "stdout",
     "output_type": "stream",
     "text": [
      "1191\n"
     ]
    }
   ],
   "source": [
    "print(len(df2['event'].unique()))"
   ]
  },
  {
   "cell_type": "code",
   "execution_count": 8,
   "id": "9d4fe20e-203e-42e3-bb0d-c952e6406b04",
   "metadata": {},
   "outputs": [
    {
     "name": "stdout",
     "output_type": "stream",
     "text": [
      "298618\n"
     ]
    }
   ],
   "source": [
    "# Mostrar registros con la palabra Olympic\n",
    "print(df2[df2['event'].str.contains('Olympic', case=False)].shape[0])"
   ]
  },
  {
   "cell_type": "code",
   "execution_count": 9,
   "id": "d65d1f03-d3ef-42b5-8054-1b310c034a96",
   "metadata": {},
   "outputs": [
    {
     "name": "stdout",
     "output_type": "stream",
     "text": [
      "9664\n"
     ]
    }
   ],
   "source": [
    "# Registros sin la palabra Olympic\n",
    "print(df2[~df2['event'].str.contains('Olympic', case=False)].shape[0])"
   ]
  },
  {
   "cell_type": "code",
   "execution_count": 10,
   "id": "673f264a-beb0-43bf-8309-196ba19f2114",
   "metadata": {},
   "outputs": [
    {
     "name": "stdout",
     "output_type": "stream",
     "text": [
      "[1896. 1900. 1904. 1908. 1912. 1920. 1924. 1928. 1932. 1936. 1948. 1952.\n",
      " 1956. 1960. 1964. 1968. 1972. 1976. 1980. 1984. 1988. 1992. 1994. 1996.\n",
      " 1998. 2000. 2002. 2004. 2006. 2008. 2010. 2012. 2014. 2016. 2018. 2020.\n",
      " 2022.   nan]\n"
     ]
    }
   ],
   "source": [
    "# Mostrar las fechas por orden\n",
    "sorted_years = df2['year'].unique()\n",
    "sorted_years.sort()\n",
    "print(sorted_years)"
   ]
  },
  {
   "cell_type": "code",
   "execution_count": 11,
   "id": "f357ec03-0d3d-42c4-922b-b159ee90c897",
   "metadata": {},
   "outputs": [
    {
     "name": "stdout",
     "output_type": "stream",
     "text": [
      "1996\n"
     ]
    }
   ],
   "source": [
    "# Mostrar cuantos Intercalated hay\n",
    "print(df2[df2['event'].str.contains('Intercalated', case=False)].shape[0])"
   ]
  },
  {
   "cell_type": "code",
   "execution_count": 12,
   "id": "75f6bc42-093a-467d-88eb-a97086b80321",
   "metadata": {},
   "outputs": [
    {
     "name": "stdout",
     "output_type": "stream",
     "text": [
      "9664\n"
     ]
    }
   ],
   "source": [
    "print(df2[~df2['event'].str.contains('Olympic', case=False)].shape[0])"
   ]
  },
  {
   "cell_type": "code",
   "execution_count": 13,
   "id": "8206c624-d9e0-43c5-a7d8-deda8177059a",
   "metadata": {},
   "outputs": [
    {
     "name": "stdout",
     "output_type": "stream",
     "text": [
      "['Singles, Men (Olympic)', 'Doubles, Men (Olympic)', 'Doubles, Mixed (Olympic)', 'Singles, Handicap, Men (Olympic (non-medal))', 'Doubles, Handicap, Men (Olympic (non-medal))', 'Épée, Individual, Men (Olympic)', 'Tennis', 'Doubles, Handicap, Mixed (Olympic (non-medal))', 'Singles, Men (Intercalated)', 'Doubles, Mixed (Intercalated)', 'Doubles, Men (Intercalated)', 'Doubles, Covered Courts, Mixed (Olympic)', 'Singles, Covered Courts, Men (Olympic)', 'Singles, Men (Olympic (non-medal))', 'Doubles, Covered Courts, Men (Olympic)', 'Polo', 'Polo, Men (Olympic (non-medal))', 'Singles, Covered Courts, Women (Olympic)', 'Singles, Women (Olympic)', 'Doubles, Women (Olympic)', 'Singles, Handicap, Women (Olympic (non-medal))', 'Singles, Women (Olympic (non-medal))', 'Team, Women (Olympic)', 'Doubles, Men (Olympic (non-medal))', 'Hockey, Men (Olympic)', '100 metres, Men (Olympic)', '400 metres, Men (Olympic)', '800 metres, Men (Olympic)', '110 metres Hurdles, Men (Olympic)', 'High Jump, Men (Olympic)', 'Pole Vault, Men (Olympic)', 'Long Jump, Men (Olympic)', 'Triple Jump, Men (Olympic)', 'Team, Men (Olympic)', 'Swimming (Aquatics)', '100 metres Freestyle, Men (Olympic)', '500 metres Freestyle, Men (Olympic)', '1,200 metres Freestyle, Men (Olympic)', 'Architecture, Open (Olympic)', 'Weightlifting', 'Unlimited, Two Hands, Men (Olympic)', 'Wrestling', 'Unlimited Class, Greco-Roman, Men (Olympic)', 'Athletics', 'Shot Put, Men (Olympic)', 'Individual, Men (Olympic)', 'Individual, Women (Olympic)', 'Target Archery, 28 metres, Team, Men (Olympic)', 'Target Archery, 33 metres, Team, Men (Olympic)', 'Target Archery, 50 metres, Team, Men (Olympic)', 'Pole Archery, Small Birds, Individual, Men (Olympic)', 'Pole Archery, Large Birds, Individual, Men (Olympic)', 'Pole Archery, Small Birds, Team, Men (Olympic)', 'Pole Archery, Large Birds, Team, Men (Olympic)', 'Sur La Perche À La Herse, Men (Olympic)', 'Au Chapelet, 33 metres, Men (Olympic)', 'Au Chapelet, 50 metres, Men (Olympic)', 'Au Cordon Doré, 33 metres, Men (Olympic)', 'Au Cordon Doré, 50 metres, Men (Olympic)', 'Championnat Du Monde, Men (Olympic)', 'Target Archery, 28 metres, Individual, Men (Olympic)', 'Target Archery, 33 metres, Individual, Men (Olympic)', 'Target Archery, 50 metres, Individual, Men (Olympic)', 'Continental Style, Men (Olympic)', 'Double York Round, Men (Olympic)', 'Sur La Perche À La Pyramide, Men (Olympic)', 'French Championship, Individual, Men (Olympic (non-medal))', 'Double National Round, Women (Olympic)', '1,500 metres, Men (Olympic)', 'Marathon, Men (Olympic)', 'Doubles, Women (Olympic (non-medal))', 'Doubles, Mixed (Olympic (non-medal))', 'Welterweight, Men (Olympic)', 'Light-Heavyweight, Men (Olympic)', 'Featherweight, Men (Olympic)', 'Light-Welterweight, Men (Olympic)', 'Flyweight, Men (Olympic)', 'Lightweight, Men (Olympic)', 'Heavyweight, Men (Olympic)', 'Bantamweight, Men (Olympic)', 'Light-Flyweight, Men (Olympic)', 'Middleweight, Men (Olympic)', 'Light-Middleweight, Men (Olympic)', 'Super-Heavyweight, Men (Olympic)', 'Softball, Women (Olympic)', 'Baseball, Men (Olympic)', 'Baseball, Men (Olympic (non-medal))', 'Team, Mixed (Olympic)', 'Double Columbia Round, Women (Olympic)', 'Team Round, Women (Olympic)', 'Flight Shooting, Women (Olympic (non-medal))', 'Double American Round, Men (Olympic)', 'Team Round, Men (Olympic)', 'Flight Shooting, Men (Olympic (non-medal))', '8 metres, Open (Olympic)', 'Painting, Unknown Event, Open (Olympic)', 'Individual, Men (Olympic (non-medal))', 'Team, Men (Olympic (non-medal))', 'Individual, Handicap, Men (Olympic (non-medal))', 'Long Jump, Men (Olympic (non-medal))', 'Long Jump, Handicap, Men (Olympic (non-medal))', 'Golf', 'Basketball, Men (Olympic)', 'Road Race, Individual, Men (Olympic)', 'Basketball, Women (Olympic)', 'Triple Jump, Women (Olympic)', 'Handball, Women (Olympic)', 'Australian Rules Football, Men (Olympic (non-medal))', 'One Person Dinghy, Open (Olympic)', 'Decathlon, Men (Olympic)', 'Four, Men (Olympic)', 'Football (Football)', 'Football, Men (Olympic)', '100 yards, Men (Olympic (non-medal))', '440 yards, Men (Olympic (non-medal))', '100 yards, Handicap, Men (Olympic (non-medal))', '220 yards, Handicap, Men (Olympic (non-medal))', '440 yards, Handicap, Men (Olympic (non-medal))', 'Kayak Doubles, 500 metres, Women (Olympic)', 'Kayak Singles, 500 metres, Women (Olympic)', 'Kayak Doubles, 500 metres, Men (Olympic)', 'Kayak Fours, 1,000 metres, Men (Olympic)', 'Kayak Singles, 500 metres, Men (Olympic)', 'Kayak Doubles, 1,000 metres, Men (Olympic)', 'Kayak Singles, 1,000 metres, Men (Olympic)', 'Kayak Singles, Slalom, Men (Olympic)', 'Kayak Fours, 500 metres, Women (Olympic)', 'Kayak Singles, Slalom, Women (Olympic)', 'Kayak Singles, 10,000 metres, Men (Olympic)', 'Canadian Singles, Slalom, Men (Olympic)', 'Canoe Marathon (Canoeing)', 'Kayak Doubles, 10,000 metres, Men (Olympic)', 'Kayak Relay, 4 × 500 metres, Men (Olympic)', 'Canadian Doubles, Slalom, Men (Olympic)', 'Canadian Singles, 1,000 metres, Men (Olympic)', 'Canadian Singles, 10,000 metres, Men (Olympic)', 'Canadian Doubles, 1,000 metres, Men (Olympic)', 'Canadian Doubles, 10,000 metres, Men (Olympic)', 'Folding Kayak Doubles, 10,000 metres, Men (Olympic)', 'Folding Kayak Singles, 10,000 metres, Men (Olympic)', 'Canadian Singles, 500 metres, Men (Olympic)', 'Canadian Doubles, 500 metres, Men (Olympic)', 'Small-Bore Rifle, Prone, 50 metres, Open (Olympic)', 'Single Sculls, Women (Olympic)', 'Team Pursuit, 4,000 metres, Men (Olympic)', 'Road Race, Team, Men (Olympic)', '100 kilometres Team Time Trial, Men (Olympic)', 'Polo, Men (Olympic)', 'Rugby, Men (Olympic)', 'Eights, Men (Olympic)', 'Individual, Open (Olympic)', 'Team, Open (Olympic)', 'Tug-Of-War, Men (Olympic)', 'Lacrosse, Men (Olympic)', 'Hacks and Hunter Combined, Open (Olympic)', 'Springboard, Women (Olympic)', 'Equestrian Eventing (Equestrian)', 'Winter Pentathlon, Men (Olympic (non-medal))', 'Four-In-Hand Competition, Open (Olympic)', 'Equestrian Dressage (Equestrian)', 'Sabre, Team, Men (Olympic)', 'Long Jump, Open (Olympic)', 'High Jump, Open (Olympic)', 'Equestrian Driving (Equestrian)', 'Four/Five, Men (Olympic)', 'Sabre, Individual, Men (Olympic)', '20 kilometres, Men (Olympic)', 'Individual Pursuit, 4,000 metres, Men (Olympic)', 'Sprint, Men (Olympic)', 'Cycling Track (Cycling)', '1,000 metres Time Trial, Men (Olympic)', 'Points Race, Men (Olympic)', 'Road Race, Individual, Women (Olympic)', 'Cycling Mountain Bike (Cycling)', 'Cross-Country, Women (Olympic)', 'Individual Pursuit, Women (Olympic)', 'Points Race, Women (Olympic)', 'Individual Time Trial, Women (Olympic)', 'Team Pursuit, Women (Olympic)', 'Sprint, Women (Olympic)', '500 metres Time Trial, Women (Olympic)', 'Two, Women (Olympic)', '3,000 metres, Women (Olympic)', '5,000 metres, Women (Olympic)', 'Team Pursuit (6 laps), Women (Olympic)', 'Keirin, Women (Olympic)', 'Team Sprint, Women (Olympic)', 'Madison, Men (Olympic)', '50 kilometres, Men (Olympic)', 'Tandem Sprint, 2,000 metres, Men (Olympic)', 'Team Pursuit, 1,980 yards, Men (Olympic)', '5,000 metres, Men (Olympic)', '100 kilometres, Men (Olympic)', 'Individual Time Trial, Men (Olympic)', '¼ mile, Men (Olympic)', '½ mile, Men (Olympic)', '5 miles, Men (Olympic)', '25 miles, Men (Olympic)', '½ mile, Handicap, Men (Olympic (non-medal))', 'Cross-Country, Men (Olympic)', '333⅓ metres Time Trial, Men (Olympic)', 'Team Sprint, Men (Olympic)', '⅓ mile, Men (Olympic)', '1 mile, Men (Olympic)', '2 miles, Men (Olympic)', '1 mile, Novice, Men (Olympic (non-medal))', 'Sprint, Men (Intercalated)', '333⅓ metres Time Trial, Men (Intercalated)', '5,000 metres, Men (Intercalated)', '20 kilometres, Men (Intercalated)', 'Keirin, Men (Olympic)', 'Omnium, Men (Olympic)', '25 kilometres, Men (Olympic)', 'Single Sculls, Men (Intercalated)', 'Coxed Pairs (1 kilometre), Men (Intercalated)', 'Coxed Pairs (1 mile), Men (Intercalated)', 'Coxed Fours, Men (Intercalated)', '10,000 metres, Men (Olympic)', '1 mile, Handicap, Men (Olympic (non-medal))', '5 miles, Handicap, Men (Olympic (non-medal))', 'Road Race, Individual, Men (Intercalated)', 'Tandem Sprint, 2,000 metres, Men (Intercalated)', '12-Hours Race, Men (Olympic)', 'Bicycle Polo, Men (Olympic (non-medal))', '4 × 100 metres Relay, Men (Olympic)', '18 kilometres, Men (Olympic)', 'Cycling Road (Cycling)', 'Hockey, Women (Olympic)', '400 metres, Women (Olympic)', '4 × 400 metres Relay, Women (Olympic)', 'Two, Men (Olympic)', 'Cricket, Men (Olympic)', 'Singles, One Ball, Open (Olympic)', 'Doubles, Open (Olympic)', 'Singles, Two Balls, Open (Olympic)', 'Singles, Two Balls, Handicap, Men (Olympic (non-medal))', 'A-Class (Open), Open (Olympic)', 'Tug-Of-War', '200 metres Hurdles, Men (Olympic)', 'Discus Throw, Men (Olympic)', 'Shot Put, Handicap, Men (Olympic (non-medal))', 'Foil, Individual, Men (Olympic)', 'B-Class (Under 60 feet), Open (Olympic)', 'C-Class, Open (Olympic)', 'Racquets', 'Heavyweight, Greco-Roman, Men (Olympic)', 'Heavyweight, Freestyle, Men (Olympic)', 'Marathon, Men (Intercalated)', 'Shot Put, Men (Intercalated)', 'Discus Throw, Men (Intercalated)', 'Discus Throw, Greek Style, Men (Intercalated)', 'Pentathlon (Ancient), Men (Intercalated)', 'Unlimited, Two Hands, Men (Intercalated)', 'Driving Contest, Men (Olympic (non-medal))', 'Putting Contest, Men (Olympic (non-medal))', '56-pound Weight Throw, Men (Olympic)', 'Lightweight, Freestyle, Men (Olympic)', 'High Jump, Men (Olympic (non-medal))', 'High Jump, Handicap, Men (Olympic (non-medal))', 'All-Around Dumbbell Contest, Men (Olympic)', '56-pound Weight Throw, Men (Olympic (non-medal))', 'Discus Throw, Men (Olympic (non-medal))', 'Hammer Throw, Men (Olympic)', 'Discus Throw, Handicap, Men (Olympic (non-medal))', 'Hammer Throw, Handicap, Men (Olympic (non-medal))', 'Javelin Throw, Men (Olympic)', 'Javelin Throw, Both Hands, Men (Olympic)', 'Hockey', '3,000 metres Steeplechase, Men (Olympic)', 'Lacrosse, Men (Olympic (non-medal))', 'Foil, Individual, Women (Olympic)', 'Foil, Team, Women (Olympic)', 'Épée, Individual, Women (Olympic)', 'Épée, Team, Women (Olympic)', 'Foil, Team, Men (Olympic)', 'Épée, Team, Men (Olympic)', 'Sabre, Individual, Three Hits, Men (Olympic)', 'Sabre, Masters, Individual, Men (Olympic)', 'Modern Pentathlon', 'Foil, Individual, Open (Olympic (non-medal))', '400 metres Freestyle, Men (Olympic)', 'Water Polo (Aquatics)', 'Water Polo, Men (Olympic)', 'Ice Hockey, Men (Olympic)', 'Foil, Masters, Individual, Men (Olympic)', 'Épée, Masters, Individual, Men (Olympic)', 'Épée, Masters and Amateurs, Individual, Men (Olympic)', 'Literature, Open (Olympic)', 'Free Pistol, 50 yards, Men (Olympic)', 'Small-Bore Rifle, 50 and 100 yards, Team, Men (Olympic)', '100 metres, Professionals, Men (Olympic (non-medal))', '400 metres, Professionals, Men (Olympic (non-medal))', '110 metres Hurdles, Professionals, Men (Olympic (non-medal))', 'High Jump, Professionals, Men (Olympic (non-medal))', 'Long Jump, Professionals, Men (Olympic (non-medal))', 'Shot Put, Professionals, Men (Olympic (non-medal))', '100 metres, Professionals, Handicap, Men (Olympic (non-medal))', '400 metres, Professionals, Handicap, Men (Olympic (non-medal))', 'High Jump, Professionals, Handicap, Men (Olympic (non-medal))', 'Long Jump, Professionals, Handicap, Men (Olympic (non-medal))', 'Shot Put, Professionals, Handicap, Men (Olympic (non-medal))', 'Rowing', 'Painting, Paintings, Open (Olympic)', 'Shooting', 'Dueling Pistol Au Commandement, 25 metres, Men (Intercalated)', 'Dueling Pistol, 30 metres, Team, Men (Olympic)', 'Football, Men (Intercalated)', 'Fencing', 'Trap, Team, Men (Olympic)', 'Three Person Keelboat, Open (Olympic)', 'Painting, Drawings And Water Colors, Open (Olympic)', 'Painting, Graphic Arts, Open (Olympic)', 'Painting, Applied Arts, Open (Olympic)', 'Art Competitions', 'Foil, Individual, Boys (Olympic (non-medal))', 'Single Sticks, Individual, Men (Olympic)', '200 metres, Men (Olympic)', 'Football, Women (Olympic)', 'Platform, Women (Olympic)', 'Synchronized Platform, Women (Olympic)', 'Platform, Men (Olympic)', 'Synchronized Platform, Men (Olympic)', 'Bandy, Men (Olympic (non-medal))', '4 × 400 metres Relay, Men (Olympic)', '120 yards Hurdles, Men (Olympic (non-medal))', '440 yards, Boys (Olympic (non-medal))', 'Individual All-Around, Women (Olympic)', 'Floor Exercise, Women (Olympic)', 'Horse Vault, Women (Olympic)', 'Uneven Bars, Women (Olympic)', 'Balance Beam, Women (Olympic)', 'Team All-Around, Women (Olympic)', 'Team Portable Apparatus, Women (Olympic)', 'Group, Women (Olympic)', 'Individual All-Around, Men (Olympic)', 'Team All-Around, Men (Olympic)', 'Floor Exercise, Men (Olympic)', 'Horse Vault, Men (Olympic)', 'Parallel Bars, Men (Olympic)', 'Horizontal Bar, Men (Olympic)', 'Rings, Men (Olympic)', 'Pommelled Horse, Men (Olympic)', 'Pole Vault, Women (Olympic)', 'Individual All-Around, Field Sports, Men (Olympic)', 'Individual All-Around, Apparatus Work, Men (Olympic)', 'Team All-Around, Swedish System, Men (Olympic)', 'Team All-Around, Free System, Men (Olympic)', 'Team All-Around, Men (Intercalated)', 'Rope Climbing, Men (Olympic)', 'Side Horse, Men (Olympic)', '6 metres, Open (Olympic)', 'Artistic Gymnastics (Gymnastics)', 'Architecture, Open (Olympic (non-medal))', 'Free Rifle, Three Positions, 300 metres, Men (Olympic)', 'Free Rifle, Three Positions, 300 metres, Team, Men (Olympic)', 'Military Rifle, Prone, 300 metres, Team, Men (Olympic)', 'Military Rifle, Prone, 600 metres, Men (Olympic)', 'Military Rifle, Prone, 600 metres, Team, Men (Olympic)', 'Military Rifle, Standing, 300 metres, Men (Olympic)', 'Military Rifle, Standing, 300 metres, Team, Men (Olympic)', 'Military Rifle, Prone, 300 and 600 metres, Team, Men (Olympic)', 'Running Target, Single Shot, Team, Men (Olympic)', 'Running Target, Double Shot, Team, Men (Olympic)', 'Running Target, Single Shot, Men (Olympic)', 'Running Target, Double Shot, Men (Olympic)', '26th Federal Festival, Society and Association Contests, Non-Simultaneous, National Championships, Men (Olympic (non-medal))', 'Individual All-Around, Men (Intercalated)', 'Individual All-Around, 5 Events, Men (Intercalated)', 'Festival for Societies of the Seine, Artistic, Individual, Men (Olympic (non-medal))', 'Festival for Societies of the Seine, Individual (#2), Men (Olympic (non-medal))', 'Festival for Societies of the Seine, Advanced, Men (Olympic (non-medal))', 'Lightweight, Greco-Roman, Men (Olympic)', '100 metres, Men (Intercalated)', 'High Jump, Men (Intercalated)', 'Long Jump, Men (Intercalated)', 'Parallel Bars, Teams, Men (Olympic)', 'Horizontal Bar, Teams, Men (Olympic)', '110 metres Hurdles, Men (Intercalated)', 'Pole Vault, Men (Intercalated)', 'Standing Long Jump, Men (Intercalated)', 'Tug-Of-War, Men (Intercalated)', 'Military Pistol, 25 metres, Men (Olympic)', 'Military Rifle, 200 metres, Men (Olympic)', 'Tumbling, Men (Olympic)', 'Rope Climbing, Men (Intercalated)', 'Club Swinging, Men (Olympic)', 'Plain High, Men (Olympic)', 'Standing Long Jump, Men (Olympic)', 'Standing High Jump, Men (Intercalated)', 'Triple Jump, Men (Intercalated)', 'Javelin Throw, Freestyle, Men (Intercalated)', 'Platform, Men (Intercalated)', 'Individual All-Around, 4 Events, Men (Olympic)', 'Individual All-Around, Men (Olympic (non-medal))', 'Horse Vault, Men (Olympic (non-medal))', 'Parallel Bars, Men (Olympic (non-medal))', 'Side Horse, Men (Olympic (non-medal))', 'Handball, Men (Olympic)', 'Handball', 'Combined, Men (Olympic)', 'Cross Country Skiing (Skiing)', '4 × 10 kilometres Relay, Men (Olympic)', 'Half-Middleweight, Women (Olympic)', 'Lightweight, Women (Olympic)', 'Heavyweight, Women (Olympic)', 'Half-Heavyweight, Women (Olympic (non-medal))', 'Half-Heavyweight, Women (Olympic)', 'Lightweight, Women (Olympic (non-medal))', 'Extra-Lightweight, Women (Olympic)', 'Middleweight, Women (Olympic)', 'Half-Middleweight, Women (Olympic (non-medal))', 'Half-Lightweight, Women (Olympic)', 'Half-Lightweight, Women (Olympic (non-medal))', 'Extra-Lightweight, Women (Olympic (non-medal))', 'Middleweight, Women (Olympic (non-medal))', 'Heavyweight, Freestyle, Women (Olympic)', 'Heavyweight, Women (Olympic (non-medal))', 'Half-Middleweight, Men (Olympic)', 'Half-Lightweight, Men (Olympic)', 'Open Class, Men (Olympic)', 'Extra-Lightweight, Men (Olympic)', 'Half-Heavyweight, Men (Olympic)', 'Welterweight, Greco-Roman, Men (Olympic)', 'Welterweight, Freestyle, Men (Olympic)', 'Rapid-Fire Pistol, 25 metres, Men (Olympic)', 'Military Ski Patrol, Men (Olympic)', '200 metres Breaststroke, Men (Olympic)', '400 metres Breaststroke, Men (Olympic)', 'Double Sculls, Women (Olympic)', 'Coxless Pairs, Women (Olympic)', 'Lightweight Double Sculls, Women (Olympic)', 'Coxed Fours, Men (Olympic)', 'Coxless Pairs, Men (Olympic)', 'Coxless Fours, Men (Olympic)', 'Coxed Pairs, Men (Olympic)', 'Quadruple Sculls, Men (Olympic)', 'Single Sculls, Men (Olympic)', 'Double Sculls, Men (Olympic)', 'Lightweight Coxless Fours, Men (Olympic)', 'Lightweight Double Sculls, Men (Olympic)', 'Coxed Fours, Women (Olympic)', 'Eights, Women (Olympic)', 'Coxless Fours, Women (Olympic)', 'Quadruple Sculls, Women (Olympic)', 'Coxed Fours, Outriggers, Men (Olympic)', 'Coxless Fours, Boys (Olympic (non-medal))', 'Eights, Boys (Olympic (non-medal))', 'Coxless Pairs, Boys (Olympic (non-medal))', 'Literature, Lyric Works, Open (Olympic)', 'Coxed Quadruple Sculls, Women (Olympic)', 'Coxed Fours, Inriggers, Men (Olympic)', 'Savate, Men (Olympic (non-medal))', 'Single Sculls, Association, Men (Olympic (non-medal))', 'Sculpturing, Medals And Reliefs, Open (Olympic)', 'Sculpturing, Statues, Open (Olympic)', 'Sculpturing, Unknown Event, Open (Olympic)', 'Coxless Fours, Intermediate, Men (Olympic (non-medal))', 'Coxless Fours, Men (Olympic (non-medal))', 'Coxless Pairs, Intermediate, Men (Olympic (non-medal))', 'Two Person Keelboat, Open (Olympic)', 'Double Sculls, Intermediate, Men (Olympic (non-medal))', 'Eights, Intermediate, Men (Olympic (non-medal))', 'Air Rifle, 10 metres, Women (Olympic)', 'Trap, Open (Olympic)', 'Trap, Men (Olympic)', 'Double Trap, Men (Olympic)', 'Air Pistol, 10 metres, Women (Olympic)', 'Sporting Pistol, 25 metres, Women (Olympic)', 'Free Pistol, 50 metres, Open (Olympic)', 'Small-Bore Rifle, Three Positions, 50 metres, Women (Olympic)', 'Free Pistol, 50 metres, Men (Olympic)', 'Small-Bore Rifle, Prone, 50 metres, Men (Olympic)', 'Small-Bore Rifle, Three Positions, 50 metres, Men (Olympic)', 'Rapid-Fire Pistol, 25 metres, Open (Olympic)', 'Small-Bore Rifle, Three Positions, 50 metres, Open (Olympic)', 'Skeet, Men (Olympic)', 'Running Target, 50 metres, Open (Olympic)', 'Skeet, Open (Olympic)', 'Air Rifle, 10 metres, Men (Olympic)', 'Air Pistol, 10 metres, Men (Olympic)', 'Double Trap, Women (Olympic)', 'Trap, Women (Olympic)', 'Running Target, Single and Double Shot, Men (Olympic)', 'Small-Bore Rifle, Prone, 50 and 100 yards, Men (Olympic)', 'Small-Bore Rifle, Disappearing Target, 25 yards, Men (Olympic)', 'Small-Bore Rifle, Moving Target, 25 yards, Men (Olympic)', 'Running Target, 50 metres, Men (Olympic)', 'Running Target, 10 metres, Men (Olympic)', '100 metres Freestyle, Men (Intercalated)', '400 metres Freestyle, Men (Intercalated)', '1 mile Freestyle, Men (Intercalated)', '4 × 250 metres Freestyle Relay, Men (Intercalated)', 'Dueling Pistol, 30 metres, Men (Olympic)', 'Military Rifle, Three Positions, 300 metres, Men (Olympic)', 'Military Rifle, Any Position, 600 metres, Men (Olympic)', 'Free Pistol, 50 metres, Men (Intercalated)', 'Military Revolver, 1873-1874 Gras Model, 20 metres, Men (Intercalated)', 'Military Revolver, 20 metres, Men (Intercalated)', 'Dueling Pistol Au Visé 20 metres, Men (Intercalated)', 'Free Rifle, Any Position, 300 metres, Men (Intercalated)', 'Military Rifle, 1873-1874 Gras Model, Kneeling Or Standing, 200 metres, Men (Intercalated)', 'Military Rifle, Kneeling Or Standing, 300 metres, Men (Intercalated)', 'Free Pistol, 50 metres, Team, Men (Olympic)', 'Free Rifle, Prone, 600 metres, Men (Olympic)', 'Free Rifle, 400, 600 and 800 metres, Team, Men (Olympic)', 'Small-Bore Rifle, Standing, 50 metres, Men (Olympic)', 'Smal-Bore Rifle, Standing, 50 metres, Team, Men (Olympic)', 'Military Pistol, Team, Men (Olympic)', 'Free Rifle, Kneeling, 300 metres, Men (Olympic)', 'Free Rifle, Prone, 300 metres, Men (Olympic)', 'Free Rifle, Standing, 300 metres, Men (Olympic)', 'Free Pistol, 50 yards, Team, Men (Olympic)', 'Military Pistol, 30 metres, Men (Olympic)', 'Free Rifle, 1,000 yards, Men (Olympic)', 'Military Rifle, 200/500/600/800/900/1,000 yards, Team, Men (Olympic)', 'Skeet, Women (Olympic)', 'Free Rifle, Three Positions, 300 metres, Open (Olympic)', 'Military Rifle, Prone, 300 metres, Men (Olympic)', 'Military Rifle, 200, 400, 500 and 600 metres, Team, Men (Olympic)', 'Small-Bore Rifle, Prone, 50 metres, Team, Men (Olympic)', 'Small-Bore Rifle, Any Position, 50 metres, Men (Olympic)', 'Small-Bore Rifle, Disappearing Target, 25 metres, Men (Olympic)', 'Free Rifle, Any Position, 300 metres, Men (Olympic)', 'Unlimited, One Hand, Men (Olympic)', 'Military Ski Patrol, Men (Olympic (non-medal))', 'Skeleton, Men (Olympic)', 'Free Pistol, 25 metres, Men (Intercalated)', 'Free Rifle, Three Positions, 300 metres, Team, Men (Intercalated)', 'Trap, Single Shot, 16 metres, Men (Intercalated)', 'Trap, Double Shot, 14 metres, Men (Intercalated)', '26th Federal Festival, Society and Association Contests, Non-Simultaneous, Shooting Championships, Honorary Members and Associates, Men (Olympic (non-medal))', 'Muzzle-Loading Pistol, 25 metres, Men (Olympic)', 'Small-Bore Rifle, Disappearing Target, 25 metres, Team, Men (Olympic)', 'Free Pistol, 30 metres, Men (Olympic)', '17-Man Naval Rowing Boats, Men (Intercalated)', 'Architecture, Further Entries, Open (Olympic)', 'Sculpturing, Open (Olympic)', '100 metres Backstroke, Women (Olympic)', 'Solo, Women (Olympic)', 'Duet, Women (Olympic)', '50 metres Freestyle, Men (Olympic)', '200 metres Freestyle, Men (Olympic)', '100 metres Breaststroke, Men (Olympic)', '4 × 200 metres Freestyle Relay, Men (Olympic)', '1,500 metres Freestyle, Men (Olympic)', '100 metres Butterfly, Men (Olympic)', '200 metres Butterfly, Men (Olympic)', '200 metres Individual Medley, Women (Olympic)', '100 metres Breaststroke, Women (Olympic)', '200 metres Breaststroke, Women (Olympic)', '100 metres Freestyle, Women (Olympic)', '50 metres Freestyle, Women (Olympic)', '100 metres Butterfly, Women (Olympic)', '4 × 100 metres Medley Relay, Men (Olympic)', '100 metres Backstroke, Men (Olympic)', '4 × 200 metres Freestyle Relay, Women (Olympic)', '4 × 100 metres Medley Relay, Women (Olympic)', '400 metres Individual Medley, Women (Olympic)', '400 metres Freestyle, Women (Olympic)', '800 metres Freestyle, Women (Olympic)', '4 × 100 metres Freestyle Relay, Women (Olympic)', '200 metres Backstroke, Women (Olympic)', '200 metres Freestyle, Women (Olympic)', '200 metres Butterfly, Women (Olympic)', '200 metres Backstroke, Men (Olympic)', '200 metres Individual Medley, Men (Olympic)', '400 metres Individual Medley, Men (Olympic)', 'Plain High, Women (Olympic)', '300 metres Freestyle, Women (Olympic)', 'Synchronized Springboard, Women (Olympic)', '4 × 100 metres Freestyle Relay, Men (Olympic)', 'Diving (Aquatics)', 'Springboard, Men (Olympic)', '1,000 metres Freestyle, Men (Olympic)', '200 metres Obstacle Course, Men (Olympic)', '440 yards Freestyle, Men (Olympic)', '880 yards Freestyle, Men (Olympic)', '1 mile Freestyle, Men (Olympic)', '4,000 metres Freestyle, Men (Olympic)', 'Synchronized Springboard, Men (Olympic)', 'Underwater Swimming, Men (Olympic)', 'Architecture, Designs For Town Planning, Open (Olympic)', '200 metres Team Swimming, Men (Olympic)', '50 yards Freestyle, Men (Olympic)', '4 × 50 yards Freestyle Relay, Men (Olympic)', '100 yards Backstroke, Men (Olympic)', '440 yards Breaststroke, Men (Olympic)', '100 yards Freestyle, Men (Olympic)', '220 yards Freestyle, Men (Olympic)', '100 metres Freestyle For Sailors, Men (Olympic)', 'Olympic Distance, Women (Olympic)', 'Water Polo, Women (Olympic (non-medal))', 'Plunge For Distance, Men (Olympic)', '880 yards, Handicap, Men (Olympic (non-medal))', 'Beach Volleyball, Men (Olympic)', 'Beach Volleyball, Women (Olympic)', 'Volleyball, Women (Olympic)', 'Volleyball, Men (Olympic)', 'Middle-Heavyweight, Men (Olympic)', 'Heavyweight II, Men (Olympic)', 'Heavyweight I, Men (Olympic)', 'Long Jump, Women (Olympic)', '4 × 100 metres Relay, Women (Olympic)', 'Light-Heavyweight, Freestyle, Men (Olympic)', 'Rope Climbing, Men ()', '20 kilometres Race Walk, Women (Olympic)', 'Featherweight, Greco-Roman, Men (Olympic)', 'Featherweight, Freestyle, Men (Olympic)', 'Light-Flyweight, Freestyle, Men (Olympic)', 'Bantamweight, Freestyle, Men (Olympic)', 'Flyweight, Freestyle, Men (Olympic)', 'Middleweight, Freestyle, Men (Olympic)', 'Bantamweight, Greco-Roman, Men (Olympic)', 'Middleweight, Greco-Roman, Men (Olympic)', 'Super-Heavyweight, Greco-Roman, Men (Olympic)', 'Super-Heavyweight, Freestyle, Men (Olympic)', 'Light-Heavyweight, Greco-Roman, Men (Olympic)', 'Flyweight, Greco-Roman, Men (Olympic)', 'Middleweight B, Greco-Roman, Men (Olympic)', 'Middleweight A, Greco-Roman, Men (Olympic)', 'Light-Flyweight, Greco-Roman, Men (Olympic)', 'Unlimited, One Hand, Men (Intercalated)', 'Heavyweight, Greco-Roman, Men (Intercalated)', 'Lightweight, Greco-Roman, Men (Intercalated)', 'All-Around, Greco-Roman, Men (Intercalated)', 'Middleweight, Greco-Roman, Men (Intercalated)', 'Glíma', 'Glíma, Men (Olympic (non-medal))', 'Two Person Dinghy, Women (Olympic)', 'Windsurfer, Women (Olympic)', 'One Person Dinghy, Women (Olympic)', 'Multihull, Open (Olympic)', 'Three Person Keelboat, Women (Olympic)', 'Two Person Dinghy, Open (Olympic)', '5.5 metres, Open (Olympic)', '7 metres, Open (Olympic)', 'Two Person Heavyweight Dinghy, Open (Olympic)', 'Windsurfer, Men (Olympic)', 'One Person Dinghy, Men (Olympic)', 'One Person Heavyweight Dinghy, Men (Olympic)', 'Windsurfer, Open (Olympic)', 'Open, Open (Olympic)', '1-2 Ton, Open (Olympic)', '12 metres, Open (Olympic)', '40 metres², Open (Olympic)', 'Two Person Dinghy, Men (Olympic)', '10 metres, Open (Olympic)', '½-1 Ton, Open (Olympic)', 'Music, Compositions For Orchestra, Open (Olympic)', 'Two Person Keelboat, Men (Olympic)', '30 metres², Open (Olympic)', '12 foot, Open (Olympic)', '10-20 Ton, Open (Olympic)', '2-3 Ton, Open (Olympic)', 'Skiff, Open (Olympic)', '0-½ Ton, Open (Olympic)', '20+ Ton, Open (Olympic)', '6.5 metres, Open (Olympic)', '3-10 Ton, Open (Olympic)', 'Windsurfer, Men (Olympic (non-medal))', 'Multihull, Mixed (Olympic)', '400 metres Hurdles, Men (Olympic)', '200 metres, Women (Olympic)', '800 metres, Women (Olympic)', '1,500 metres, Women (Olympic)', 'Javelin Throw, Women (Olympic)', 'Heptathlon, Women (Olympic)', '20 kilometres Race Walk, Men (Olympic)', '50 kilometres Race Walk, Men (Olympic)', 'High Jump, Women (Olympic)', '100 metres, Women (Olympic)', 'Discus Throw, Women (Olympic)', '100 metres Hurdles, Women (Olympic)', '10,000 metres, Women (Olympic)', 'Marathon, Women (Olympic)', 'Shot Put, Women (Olympic)', '80 metres Hurdles, Women (Olympic)', 'Hammer Throw, Women (Olympic)', '10 kilometres Race Walk, Women (Olympic)', '400 metres Hurdles, Women (Olympic)', 'Pentathlon, Women (Olympic)', '10 miles Race Walk, Men (Olympic)', '10 kilometres Race Walk, Men (Olympic)', '400 metres, Men (Intercalated)', '800 metres, Men (Intercalated)', '1,500 metres, Men (Intercalated)', '5 miles, Men (Intercalated)', 'Boxing', 'Pentathlon, Men (Olympic)', '120 yards Hurdles, Handicap, Men (Olympic (non-medal))', 'Standing High Jump, Men (Olympic)', '3,500 metres Race Walk, Men (Olympic)', 'Cross-Country, Individual, Men (Olympic)', '3,000 metres Race Walk, Men (Olympic)', '60 metres, Men (Olympic)', '100 metres, Handicap, Men (Olympic (non-medal))', '5,000 metres, Team, Men (Olympic)', 'Discus Throw, Both Hands, Men (Olympic)', 'Discus Throw, Greek Style, Men (Olympic)', '2,500 metres Steeplechase, Men (Olympic)', '2,500 metres Steeplechase, Handicap, Men (Olympic (non-medal))', '3,200 metres Steeplechase, Men (Olympic)', '3,000 metres, Team, Men (Olympic)', 'Cross-Country, Team, Men (Olympic)', 'Standing Triple Jump, Men (Olympic)', 'Javelin Throw, Freestyle, Men (Olympic)', '1,600 metres Medley Relay, Men (Olympic)', '56-pound Weight Throw, Handicap, Men (Olympic (non-medal))', 'Pole Vault, Handicap, Men (Olympic (non-medal))', '4,000 metres Steeplechase, Men (Olympic)', '1,500 metres, Handicap, Men (Olympic (non-medal))', '800 metres, Handicap, Men (Olympic (non-medal))', '3,000 metres Steeplechase, Women (Olympic)', 'Shot Put, Both Hands, Men (Olympic)', 'Stone Throw, Men (Intercalated)', '3 miles, Team, Men (Olympic)', 'Rugby (Rugby)', '110 metres Hurdles, Handicap, Men (Olympic (non-medal))', '400 metres, Handicap, Men (Olympic (non-medal))', '4 miles, Team, Men (Olympic)', '400 metres Hurdles, Handicap, Men (Olympic (non-medal))', '2,590 metres Steeplechase, Men (Olympic)', 'Triple Jump, Men (Olympic (non-medal))', 'Standing Triple Jump, Men (Olympic (non-medal))', 'Stone Throw, Men (Olympic (non-medal))', 'All-Around Championship, Men (Olympic)', 'Hammer Throw, Men (Olympic (non-medal))', 'Ski Jumping (Skiing)', 'Large Hill, Individual, Men (Olympic)', 'Nordic Combined (Skiing)', 'Basketball (Basketball)', '1,500 metres Race Walk, Men (Intercalated)', 'Literature, Dramatic Works, Open (Olympic)', '6-hour race, Professionals, Men (Olympic (non-medal))', 'Pairs, Mixed (Olympic)', '15 kilometres, Men (Olympic)', '30 kilometres, Men (Olympic)', '1 mile, Men (Olympic (non-medal))', 'Literature, Epic Works, Open (Olympic)', 'Baseball (Baseball/Softball)', '880 yards, Men (Olympic (non-medal))', '2 miles, Men (Olympic (non-medal))', '5 miles, Boys (Olympic (non-medal))', '220 yards, Men (Olympic (non-medal))', '120 yards Hurdles, Boys (Olympic (non-medal))', '1 mile, Boys (Olympic (non-medal))', 'Shot Put, Men (Olympic (non-medal))', 'Special Scratch Pole Vault #2, Men (Olympic (non-medal))', '60 yards, Handicap, Men (Olympic (non-medal))', '1 mile, Team, Handicap, Men (Olympic (non-medal))', '2 miles, Handicap, Men (Olympic (non-medal))', '5 miles, Men (Olympic (non-medal))', '100 yards, Boys (Olympic (non-medal))', '220 yards Hurdles, Men (Olympic (non-medal))', 'Pole Vault, Boys (Olympic (non-medal))', 'Pole Vault, Men (Olympic (non-medal))', '880 yards, Boys (Olympic (non-medal))', '3,000 metres Race Walk, Men (Intercalated)', 'Singles, Women (Intercalated)', '26th Federal Festival, Society and Association Contests, Non-Simultaneous, Olympic Championships, Individual, Men (Olympic (non-medal))', '6-Man Naval Rowing Boats, Men (Intercalated)', 'Two-Man Teams With Cesta, Men (Olympic)', 'Festival for Societies of the Seine, Olympic Competition, Individual, Men (Olympic (non-medal))', 'Slalom, Women (Olympic)', '5 kilometres, Women (Olympic)', '10 kilometres, Women (Olympic)', '20 kilometres, Women (Olympic)', '3 × 5 kilometres Relay, Women (Olympic)', '7.5 kilometres Sprint, Women (Olympic)', '15 kilometres, Women (Olympic)', '3 × 7.5 kilometres Relay, Women (Olympic)', '4 × 7.5 kilometres Relay, Women (Olympic)', 'Downhill, Women (Olympic)', 'Giant Slalom, Women (Olympic)', '30 kilometres, Women (Olympic)', '5/10 kilometres Pursuit, Women (Olympic)', '4 × 5 kilometres Relay, Women (Olympic)', '5/5 kilometres Pursuit, Women (Olympic)', '1,000 metres, Women (Olympic)', '3,000 metres Relay, Women (Olympic)', '10 kilometres Pursuit, Women (Olympic)', '4 × 6 kilometres Relay, Women (Olympic)', 'Ice Dancing, Mixed (Olympic)', '500 metres, Women (Olympic)', 'Super G, Women (Olympic)', 'Combined, Women (Olympic)', '500 metres, Women (Olympic (non-medal))', '1,000 metres, Women (Olympic (non-medal))', '1,500 metres, Women (Olympic (non-medal))', '3,000 m, Women (Olympic (non-medal))', 'Moguls, Women (Olympic)', 'Aerials, Women (Olympic (non-medal))', 'Aerials, Women (Olympic)', '3,000 metres Relay, Women (Olympic (non-medal))', 'Ballet, Women (Olympic (non-medal))', '12.5 kilometres Mass Start, Women (Olympic)', 'Individual, Women (Olympic (non-medal))', 'Ski Cross, Women (Olympic)', 'Moguls, Women (Olympic (non-medal))', '15 kilometres Skiathlon, Women (Olympic)', 'Ice Dancing, Mixed (Olympic (non-medal))', 'Mass Start, Women (Olympic)', '10 kilometres Sprint, Men (Olympic)', '4 × 7.5 kilometres Relay, Men (Olympic)', 'Giant Slalom, Men (Olympic)', 'Slalom, Men (Olympic)', '500 metres, Men (Olympic)', '1,000 metres, Men (Olympic)', 'Downhill, Men (Olympic)', 'Super G, Men (Olympic)', 'Normal Hill, Individual, Men (Olympic)', 'Large Hill, Team, Men (Olympic)', '500 metres, Men (Olympic (non-medal))', '1,000 metres, Men (Olympic (non-medal))', '1,500 metres, Men (Olympic (non-medal))', '5,000 metres Relay, Men (Olympic (non-medal))', '3,000 m, Men (Olympic (non-medal))', '5,000 metres Relay, Men (Olympic)', '10 kilometres, Men (Olympic)', '10/15 kilometres Pursuit, Men (Olympic)', 'Curling', 'Curling, Men (Olympic)', 'Moguls, Men (Olympic)', '10/10 kilometres Pursuit, Men (Olympic)', 'Luge', 'Allround, Men (Olympic)', '30 kilometres Skiathlon, Men (Olympic)', 'Military Ski Patrol (Skiing)', 'Aerials, Men (Olympic (non-medal))', 'Aerials, Men (Olympic)', 'Ice Hockey Exhibition, Men (Olympic (non-medal))', 'Moguls, Men (Olympic (non-medal))', 'Skeleton (Bobsleigh)', '12.5 kilometres Pursuit, Men (Olympic)', '15 kilometres Mass Start, Men (Olympic)', '2 × 6 kilometres and 2 × 7.5 kilometres Relay, Mixed (Olympic)', 'Team Pursuit (8 laps), Men (Olympic)', 'Special Figures, Men (Olympic)', 'Speed Skating (Skating)', 'Ice Hockey (Ice Hockey)', 'Bobsleigh (Bobsleigh)', 'Team Relay, Mixed (Olympic)', 'Alpine Skiing (Skiing)', 'Ballet, Men (Olympic (non-medal))', 'Normal Hill / 10 km, Individual, Men (Olympic)', 'Large Hill / 10 km, Individual, Men (Olympic)', 'Sculpturing, Medals, Open (Olympic)', 'Kayak Singles, 200 metres, Women (Olympic)', 'Kayak Singles, 200 metres, Men (Olympic)', 'Kayak Doubles, 200 metres, Men (Olympic)', 'Kayak Fours, 500 metres, Men (Olympic)', 'Omnium, Women (Olympic)', 'BMX, Men (Olympic)', 'Lightweight, Freestyle, Women (Olympic)', 'Windsurfer, Women (Olympic (non-medal))', 'Trap, Team, Mixed (Olympic)', 'Air Pistol, 10 metres, Team, Mixed (Olympic)', 'Marathon Swimming (Aquatics)', '10 kilometres Open Water, Women (Olympic)', '10 kilometres Open Water, Men (Olympic)', 'Flyweight, Women (Olympic)', 'Featherweight, Women (Olympic)', 'Finweight, Men (Olympic (non-medal))', 'Welterweight, Women (Olympic)', 'Welterweight, Women (Olympic (non-medal))', 'Bantamweight, Men (Olympic (non-medal))', 'Olympic Distance, Men (Olympic)', 'Water Polo, Women (Olympic)', 'Light-Heavyweight, Women (Olympic)', 'Super-Heavyweight, Women (Olympic)', 'Ski Cross, Men (Olympic)', 'Skijoring (Skiing)', 'Ski Joring, Men (Olympic (non-medal))', 'Parallel Giant Slalom, Men (Olympic)', 'Cross, Men (Olympic)', 'Parallel Slalom, Men (Olympic)', 'Halfpipe, Men (Olympic)', 'Halfpipe, Women (Olympic)', 'Cross, Women (Olympic)', 'Parallel Giant Slalom, Women (Olympic)', 'Curling, Women (Olympic)', 'Curling, Women (Olympic (non-medal))', 'Curling, Men (Olympic (non-medal))', 'Ice Hockey, Women (Olympic)', '18 foot, Open (Olympic)', 'Slopestyle, Women (Olympic)', 'Parallel Slalom, Women (Olympic)', 'Skeleton, Women (Olympic)', 'Four, Open (Olympic)', 'Unknown Event, Men (Olympic)', '4 × 100 metres Medley Relay, Mixed (Olympic)', '1,500 metres Freestyle, Women (Olympic)', 'Skiff, Women (Olympic)', 'Skiff, Men (Olympic)', 'Air Rifle, 10 metres, Team, Mixed (Olympic)', 'Canadian Singles, 200 metres, Men (Olympic)', 'Sabre, Individual, Women (Olympic)', 'Sabre, Team, Women (Olympic)', 'Relay, Mixed (Olympic)', 'Flyweight, Freestyle, Women (Olympic)', 'Featherweight, Freestyle, Women (Olympic)', 'Middleweight, Freestyle, Women (Olympic)', 'Mass Start, Men (Olympic)', 'Normal Hill, Team, Mixed (Olympic)', 'Slopestyle, Men (Olympic)', '2,000 metres Relay, Mixed (Olympic)', 'Big Air, Women (Olympic)', 'Team Cross, Mixed (Olympic)', 'Individual, Girls (YOG)', 'Team, Mixed Youth (YOG)', '50 metres Freestyle, Girls (YOG)', '4 × 100 metres Freestyle Relay, Mixed Youth (YOG)', '100 metres Freestyle, Girls (YOG)', '4 × 100 metres Medley Relay, Mixed Youth (YOG)', '200 metres Freestyle, Girls (YOG)', '4 × 100 metres Freestyle Relay, Girls (YOG)', '4 × 100 metres Medley Relay, Girls (YOG)', 'BMX, Women (Olympic)', '4 × 400 metres Relay, Mixed (Olympic)', '50 metres Freestyle, Boys (YOG)', '100 metres Freestyle, Boys (YOG)', '200 metres Freestyle, Boys (YOG)', '100 metres Backstroke, Boys (YOG)', '200 metres Individual Medley, Boys (YOG)', '50 metres Backstroke, Girls (YOG)', '100 metres Backstroke, Girls (YOG)', '200 metres Breaststroke, Girls (YOG)', '200 metres Individual Medley, Girls (YOG)', '400 metres Freestyle, Girls (YOG)', '200 metres Butterfly, Girls (YOG)', '100 metres Butterfly, Boys (YOG)', '200 metres Butterfly, Boys (YOG)', 'Springboard, Girls (YOG)', 'Platform, Girls (YOG)', 'Springboard, Boys (YOG)', 'Canadian Singles, Slalom, Women (Olympic)', '50 metres Breaststroke, Girls (YOG)', '100 metres Breaststroke, Girls (YOG)', '100 metres Butterfly, Girls (YOG)', 'Light-Heavyweight, Freestyle, Women (Olympic)', 'Monobob, Women (Olympic)', 'Mixed Doubles, Mixed (Olympic)', 'Team Aerials, Mixed (Olympic)', 'Big Air, Men (Olympic)', 'Short Track Speed Skating (Skating)', '10,000 metres Race Walk, Boys (YOG)', 'Foil, Individual, Girls (YOG)', 'Mixed Weapon, Team, Mixed Youth (YOG)', '100 metres Hurdles, Girls (YOG)', 'Air Rifle, 10 metres, Girls (YOG)', '50 metres Breaststroke, Boys (YOG)', '100 metres Breaststroke, Boys (YOG)', 'Long Jump, Girls (YOG)', '200 metres, Boys (YOG)', 'Medley Relay, Boys (YOG)', '100 metres, Boys (YOG)', '50 metres Butterfly, Girls (YOG)', 'Kayak Singles, Head to Head, Girls (YOG)', 'Kayak Singles, Obstacle Slalom, Girls (YOG)', 'Group, Girls (YOG)', 'Singles, Girls (YOG)', 'Individual All-Around, Girls (YOG)', 'Floor Exercise, Girls (YOG)', 'Vault, Girls (YOG)', 'Uneven Bars, Girls (YOG)', 'Balance Beam, Girls (YOG)', 'Singles, Boys (YOG)', '200 metres Breaststroke, Boys (YOG)', 'Pole Vault, Girls (YOG)', '200 metres Backstroke, Boys (YOG)', 'Lightweight, Boys (YOG)', '400 metres Hurdles, Girls (YOG)', '≤63 kilograms, Girls (YOG)', 'Long Jump, Boys (YOG)', '≤55 kilograms, Girls (YOG)', 'Air Rifle, 10 metres, Boys (YOG)', '100 metres, Girls (YOG)', 'Platform, Boys (YOG)', '200 metres Backstroke, Girls (YOG)', '400 metres, Boys (YOG)', '3,000 metres, Boys (YOG)', '3,000 metres, Girls (YOG)', 'Featherweight, Boys (YOG)', 'Bantamweight, Boys (YOG)', 'Individual, Boys (YOG)', 'Pole Vault, Boys (YOG)', 'Hockey, Boys (YOG)', 'Middleweight, Boys (YOG)', 'Featherweight, Girls (YOG)', '400 metres, Girls (YOG)', 'Medley Relay, Girls (YOG)', 'Air Pistol, 10 metres, Boys (YOG)', '50 metres Butterfly, Boys (YOG)', '800 metres Freestyle, Men (Olympic)', '50 metres Backstroke, Boys (YOG)', '1,000 metres, Girls (YOG)', 'Light-Heavyweight, Boys (YOG)', 'Lightweight, Girls (YOG)', 'Individual All-Around, Boys (YOG)', 'Floor Exercise, Boys (YOG)', 'Vault, Boys (YOG)', 'Parallel Bars, Boys (YOG)', 'Rings, Boys (YOG)', 'Pommelled Horse, Boys (YOG)', '400 metres Freestyle, Boys (YOG)', '4 × 100 metres Freestyle Relay, Boys (YOG)', '4 × 100 metres Medley Relay, Boys (YOG)', 'Relay, Mixed Youth (YOG)', 'Combined Team, Mixed Youth (YOG)', 'Madison, Women (Olympic)', 'Single Sculls, Boys (YOG)', 'Horizontal Bar, Boys (YOG)', 'Javelin Throw, Boys (YOG)', '800 metres Freestyle, Girls (YOG)', '≤55 kilograms, Boys (YOG)', 'Heavyweight, Boys (YOG)', 'Flyweight, Boys (YOG)', 'Doubles, Girls (YOG)', 'Middleweight, Girls (YOG)', 'Hockey, Girls (YOG)', '1,000 metres, Boys (YOG)', 'Air Pistol, 10 metres, Girls (YOG)', 'Handball, Girls (YOG)', '3x3 Basketball, Girls (YOG)', 'Foil, Individual, Boys (YOG)', 'Super-Heavyweight, Boys (YOG)', 'One Person Dinghy, Girls (YOG)', 'Welterweight, Boys (YOG)', 'Coxless Pairs, Girls (YOG)', 'High Jump, Boys (YOG)', 'Super G, Boys (YOG)', 'Giant Slalom, Boys (YOG)', 'Slalom, Boys (YOG)', 'Combined, Boys (YOG)', 'Super G, Girls (YOG)', 'Giant Slalom, Girls (YOG)', 'Slalom, Girls (YOG)', 'Combined, Girls (YOG)', 'Sprint, Girls (YOG)', '5 kilometres, Girls (YOG)', 'Two, Boys (YOG)', 'Halfpipe, Boys (YOG)', 'Slopestyle, Boys (YOG)', 'Team Relay, Mixed Youth (YOG)', 'Normal Hill, Individual, Women (Olympic)', 'Medium Hill, Individual, Girls (YOG)', 'Medium Hill, Team, Mixed Youth (YOG)', 'Medium Hill, Individual, Boys (YOG)', '6 kilometres Sprint, Girls (YOG)', '7.5 kilometres Pursuit, Girls (YOG)', 'Medium Hill / 10 km, Individual, Boys (YOG)', 'Snowboarding (Skiing)', 'Halfpipe, Girls (YOG)', '2 × 6 kilometres and 2 × 7.5 kilometres Relay, Mixed Youth (YOG)', 'Mixed Sports', 'Cross-Country / Biathlon Relay, Mixed Youth (YOG)', '500 metres, Girls (YOG)', '3,000 metres Relay, Mixed Youth (YOG)', 'Park, Men (Olympic)', 'Two, Girls (YOG)', 'Sprint, Boys (YOG)', '10 kilometres, Boys (YOG)', 'Ice Hockey, Girls (YOG)', '7.5 kilometres Sprint, Boys (YOG)', '10 kilometres Pursuit, Boys (YOG)', 'Air Rifle, 10 metres, Team, Mixed Youth (YOG)', 'Heavyweight, Girls (YOG)', '8 × 100 metres Relay, Mixed Youth (YOG)', 'Rugby Sevens, Women (Olympic)', '200 metres, Girls (YOG)', 'Hammer Throw, Girls (YOG)', '2,000 metres Steeplechase, Girls (YOG)', '≤52 kilograms, Girls (YOG)', 'Rugby Sevens, Girls (YOG)', '≤70 kilograms, Freestyle, Girls (YOG)', 'Hockey 5s, Girls (YOG)', '>63 kilograms, Girls (YOG)', 'High Jump, Girls (YOG)', 'Single Sculls, Girls (YOG)', '1,500 metres, Girls (YOG)', 'Air Pistol, 10 metres, Team, Mixed Youth (YOG)', '≤46 kilograms, Freestyle, Girls (YOG)', 'Javelin Throw, Girls (YOG)', 'Discus Throw, Girls (YOG)', '5,000 metres Race Walk, Girls (YOG)', 'Flyweight, Girls (YOG)', 'Doubles, Mixed Youth (YOG)', 'Sabre, Individual, Girls (YOG)', '≤49 kilograms, Girls (YOG)', 'Windsurfer, Girls (YOG)', '800 metres, Girls (YOG)', 'Super-Heavyweight, Girls (YOG)', 'Triple Jump, Girls (YOG)', '≤44 kilograms, Girls (YOG)', 'Épée, Individual, Girls (YOG)', '≤78 kilograms, Girls (YOG)', '2,000 metres Steeplechase, Boys (YOG)', '800 metres Freestyle, Boys (YOG)', 'Rugby Sevens, Men (Olympic)', 'Windsurfer, Boys (YOG)', 'Volleyball, Boys (YOG)', 'Shot Put, Boys (YOG)', 'Coxless Pairs, Boys (YOG)', 'Triple Jump, Boys (YOG)', 'Light-Flyweight, Boys (YOG)', '400 metres Hurdles, Boys (YOG)', 'Doubles, Boys (YOG)', 'Individual, Open Youth (YOG)', 'Team, Open Youth (YOG)', '≤100 kilograms, Boys (YOG)', 'Canoe Singles, Head to Head, Boys (YOG)', 'Canoe Singles, Obstacle Slalom, Boys (YOG)', 'Épée, Individual, Boys (YOG)', '≤76 kilograms, Freestyle, Boys (YOG)', '110 metres Hurdles, Boys (YOG)', '≤81 kilograms, Boys (YOG)', 'Kayak Singles, Head to Head, Boys (YOG)', 'Kayak Singles, Obstacle Slalom, Boys (YOG)', '1,500 metres, Boys (YOG)', '≤85 kilograms, Greco Roman, Boys (YOG)', 'One Person Dinghy, Boys (YOG)', 'Handball, Boys (YOG)', 'Rugby Sevens, Boys (YOG)', '≤100 kilograms, Freestyle, Boys (YOG)', '≤73 kilograms, Boys (YOG)', '≤66 kilograms, Boys (YOG)', 'Discus Throw, Boys (YOG)', 'Hammer Throw, Boys (YOG)', 'Combined Team, Boys (YOG)', 'Hockey 5s, Boys (YOG)', '≤48 kilograms, Boys (YOG)', 'Sabre, Individual, Boys (YOG)', 'Cross, Boys (YOG)', 'Freestyle Skiing (Skiing)', 'Ski Cross, Boys (YOG)', 'Slopestyle, Girls (YOG)', 'Doubles, Open Youth (YOG)', 'Skeleton, Girls (YOG)', '6 and 7.5 kilometres Single Relay, Mixed Youth (YOG)', 'Ski Cross, Girls (YOG)', 'Cross, Girls (YOG)', 'Pairs, Mixed Youth (YOG)', 'Team Sprint, Mixed Youth (YOG)', 'Mass Start, Girls (YOG)', '500 metres, Boys (YOG)', 'Cross-Country Skiing / Ski Jumping / Nordic Combined Team, Mixed Youth (YOG)', 'Normal Hill, Team, Mixed Youth (YOG)', 'Normal Hill / 5 km, Individual, Boys (YOG)', 'Normal Hill, Individual, Boys (YOG)', 'Ice Dancing, Mixed Youth (YOG)', 'Freestyle/Snowboard Relay, Mixed Youth (YOG)', 'Curling, Mixed Youth (YOG)', 'Normal Hill, Individual, Girls (YOG)', 'Mass Start, Boys (YOG)', 'Skills Challenge, Girls (YOG)', 'Monobob, Boys (YOG)', 'Big Air, Girls (YOG)', 'Skeleton, Boys (YOG)', 'Longest time travelled (#2), Handicap, Open (Olympic (non-medal))', 'Longest time travelled (#3), Open (Olympic (non-medal))', 'Closest landing to target (#3), Combined, Open (Olympic (non-medal))', 'Closest landing to target (#3), Intermediate stop, Open (Olympic (non-medal))', 'Closest landing to target (#3), Final stop, Open (Olympic (non-medal))', 'Monobob, Girls (YOG)', '10 kilometres, Girls (YOG)', '12.5 kilometres, Boys (YOG)', 'Big Air, Boys (YOG)', '3-on-3 Ice Hockey, Boys (YOG)', '3-on-3 Ice Hockey, Girls (YOG)', 'Ice Hockey, Boys (YOG)', '3-on-3 Ice Hockey (Ice Hockey)', 'Normal Hill / 6 km, Individual, Boys (YOG)', 'Normal Hill / 4 km, Individual, Girls (YOG)', 'Kumite, >61 kg, Women (Olympic)', 'Shortboard, Men (Olympic)', 'Park, Women (Olympic)', 'Canadian Singles, 200 metres, Women (Olympic)', 'Canadian Doubles, 500 metres, Women (Olympic)', 'Street, Women (Olympic)', 'Shortboard, Women (Olympic)', 'Kumite, ≤75 kg, Men (Olympic)', 'Street, Men (Olympic)', 'Kumite, ≤55 kg, Women (Olympic)', 'Kumite, ≤67 kg, Men (Olympic)', '3x3 Basketball, Men (Olympic)', 'Kumite, >75 kg, Men (Olympic)', '3x3 Basketball, Women (Olympic)', 'Football, Girls (YOG)', 'Kumite, ≤61 kg, Women (Olympic)', 'Kata, Men (Olympic)', 'Kata, Women (Olympic)']\n"
     ]
    }
   ],
   "source": [
    "print(list(df2['event'].unique()))"
   ]
  },
  {
   "cell_type": "code",
   "execution_count": 14,
   "id": "4408ba08-6dfb-42bf-bdad-5f72e89c9a4d",
   "metadata": {},
   "outputs": [
    {
     "name": "stdout",
     "output_type": "stream",
     "text": [
      "18\n"
     ]
    }
   ],
   "source": [
    "print(df2[df2['event'].str.contains('painting', case=False)].shape[0])"
   ]
  },
  {
   "cell_type": "code",
   "execution_count": 15,
   "id": "9dc1e36f-0e5c-4c6c-b1f3-844d5cb0aa56",
   "metadata": {},
   "outputs": [
    {
     "name": "stdout",
     "output_type": "stream",
     "text": [
      "12518\n"
     ]
    }
   ],
   "source": [
    "print(df2[df2['event'].str.contains('open', case=False)].shape[0])"
   ]
  },
  {
   "cell_type": "code",
   "execution_count": 16,
   "id": "7fa72672-bb2e-4eb3-9827-7e971388bfee",
   "metadata": {},
   "outputs": [
    {
     "name": "stdout",
     "output_type": "stream",
     "text": [
      "1172\n"
     ]
    }
   ],
   "source": [
    "print(df2[df2['event'].str.contains('non-medal', case=False)].shape[0])"
   ]
  },
  {
   "cell_type": "code",
   "execution_count": 17,
   "id": "1eebc031-2ce5-41d9-bb9b-06580f354dab",
   "metadata": {},
   "outputs": [
    {
     "name": "stdout",
     "output_type": "stream",
     "text": [
      "<class 'pandas.core.frame.DataFrame'>\n",
      "Index: 307110 entries, 0 to 308407\n",
      "Data columns (total 10 columns):\n",
      " #   Column      Non-Null Count   Dtype   \n",
      "---  ------      --------------   -----   \n",
      " 0   year        304509 non-null  float64 \n",
      " 1   type        304509 non-null  category\n",
      " 2   discipline  307109 non-null  category\n",
      " 3   event       307110 non-null  object  \n",
      " 4   as          307110 non-null  object  \n",
      " 5   athlete_id  307110 non-null  int64   \n",
      " 6   noc         307109 non-null  category\n",
      " 7   place       282033 non-null  float64 \n",
      " 8   tied        307110 non-null  bool    \n",
      " 9   medal       44125 non-null   category\n",
      "dtypes: bool(1), category(4), float64(2), int64(1), object(2)\n",
      "memory usage: 15.8+ MB\n",
      "None\n",
      "--------------------------------------------------------------------------------\n",
      "0\n"
     ]
    }
   ],
   "source": [
    "# Eliminamos valores con non-medal\n",
    "df2 = df2[~df2['event'].str.contains('non-medal', case=False)]\n",
    "print(df2.info())\n",
    "print('-' * 80)\n",
    "print(df2[df2['event'].str.contains('non-medal', case=False)].shape[0])"
   ]
  },
  {
   "cell_type": "code",
   "execution_count": 18,
   "id": "c4c217c3-cb20-4416-928b-c40cfe460b51",
   "metadata": {},
   "outputs": [
    {
     "name": "stdout",
     "output_type": "stream",
     "text": [
      "<class 'pandas.core.frame.DataFrame'>\n",
      "Index: 305114 entries, 0 to 308407\n",
      "Data columns (total 10 columns):\n",
      " #   Column      Non-Null Count   Dtype   \n",
      "---  ------      --------------   -----   \n",
      " 0   year        304509 non-null  float64 \n",
      " 1   type        304509 non-null  category\n",
      " 2   discipline  305113 non-null  category\n",
      " 3   event       305114 non-null  object  \n",
      " 4   as          305114 non-null  object  \n",
      " 5   athlete_id  305114 non-null  int64   \n",
      " 6   noc         305113 non-null  category\n",
      " 7   place       280711 non-null  float64 \n",
      " 8   tied        305114 non-null  bool    \n",
      " 9   medal       43708 non-null   category\n",
      "dtypes: bool(1), category(4), float64(2), int64(1), object(2)\n",
      "memory usage: 15.7+ MB\n",
      "None\n",
      "--------------------------------------------------------------------------------\n",
      "0\n"
     ]
    }
   ],
   "source": [
    "# Eliminamos valores con Intercalated\n",
    "df2 = df2[~df2['event'].str.contains('Intercalated', case=False)]\n",
    "print(df2.info())\n",
    "print('-' * 80)\n",
    "print(df2[df2['event'].str.contains('Intercalated', case=False)].shape[0])"
   ]
  },
  {
   "cell_type": "code",
   "execution_count": 19,
   "id": "305b8eb6-b9d5-412f-af35-96278b8d1660",
   "metadata": {},
   "outputs": [
    {
     "name": "stdout",
     "output_type": "stream",
     "text": [
      "<class 'pandas.core.frame.DataFrame'>\n",
      "Index: 305096 entries, 0 to 308407\n",
      "Data columns (total 10 columns):\n",
      " #   Column      Non-Null Count   Dtype   \n",
      "---  ------      --------------   -----   \n",
      " 0   year        304491 non-null  float64 \n",
      " 1   type        304491 non-null  category\n",
      " 2   discipline  305095 non-null  category\n",
      " 3   event       305096 non-null  object  \n",
      " 4   as          305096 non-null  object  \n",
      " 5   athlete_id  305096 non-null  int64   \n",
      " 6   noc         305095 non-null  category\n",
      " 7   place       280711 non-null  float64 \n",
      " 8   tied        305096 non-null  bool    \n",
      " 9   medal       43708 non-null   category\n",
      "dtypes: bool(1), category(4), float64(2), int64(1), object(2)\n",
      "memory usage: 15.7+ MB\n",
      "None\n",
      "--------------------------------------------------------------------------------\n",
      "0\n"
     ]
    }
   ],
   "source": [
    "# Eliminamos valores con Painting\n",
    "df2 = df2[~df2['event'].str.contains('Painting', case=False)]\n",
    "print(df2.info())\n",
    "print('-' * 80)\n",
    "print(df2[df2['event'].str.contains('Painting', case=False)].shape[0])"
   ]
  },
  {
   "cell_type": "code",
   "execution_count": 20,
   "id": "4a8004fd-e8fa-4233-bdc4-a0872e7dd299",
   "metadata": {},
   "outputs": [
    {
     "name": "stdout",
     "output_type": "stream",
     "text": [
      "7668\n",
      "--------------------------------------------------------------------------------\n",
      "5842\n"
     ]
    }
   ],
   "source": [
    "print(df2[~df2['event'].str.contains('Olympic', case=False)].shape[0])\n",
    "print('-' * 80)\n",
    "print(df2[df2['event'].str.contains('YOG', case=False)].shape[0])"
   ]
  },
  {
   "cell_type": "code",
   "execution_count": 21,
   "id": "ef0da3e2-c69d-4ccd-a340-589337d7de50",
   "metadata": {},
   "outputs": [
    {
     "name": "stdout",
     "output_type": "stream",
     "text": [
      "['Tennis', 'Polo', 'Swimming (Aquatics)', 'Weightlifting', 'Wrestling', 'Athletics', 'Golf', 'Football (Football)', 'Canoe Marathon (Canoeing)', 'Equestrian Eventing (Equestrian)', 'Equestrian Dressage (Equestrian)', 'Equestrian Driving (Equestrian)', 'Cycling Track (Cycling)', 'Cycling Mountain Bike (Cycling)', 'Cycling Road (Cycling)', 'Tug-Of-War', 'Racquets', 'Hockey', 'Modern Pentathlon', 'Water Polo (Aquatics)', 'Rowing', 'Shooting', 'Fencing', 'Art Competitions', 'Artistic Gymnastics (Gymnastics)', 'Handball', 'Cross Country Skiing (Skiing)', 'Diving (Aquatics)', 'Rope Climbing, Men ()', 'Glíma', 'Boxing', 'Rugby (Rugby)', 'Ski Jumping (Skiing)', 'Nordic Combined (Skiing)', 'Basketball (Basketball)', 'Baseball (Baseball/Softball)', 'Curling', 'Luge', 'Military Ski Patrol (Skiing)', 'Skeleton (Bobsleigh)', 'Speed Skating (Skating)', 'Ice Hockey (Ice Hockey)', 'Bobsleigh (Bobsleigh)', 'Alpine Skiing (Skiing)', 'Marathon Swimming (Aquatics)', 'Skijoring (Skiing)', 'Short Track Speed Skating (Skating)', 'Snowboarding (Skiing)', 'Mixed Sports', 'Freestyle Skiing (Skiing)', '3-on-3 Ice Hockey (Ice Hockey)']\n"
     ]
    }
   ],
   "source": [
    "# Filtrar eventos que NO contienen 'Olympic' ni 'YOG' y obtener los únicos\n",
    "non_olympic_yog_unique_events = df2[\n",
    "    ~df2['event'].str.contains('Olympic', case=False) & \n",
    "    ~df2['event'].str.contains('YOG', case=False)\n",
    "]['event'].unique()\n",
    "\n",
    "# Convertir a lista si deseas\n",
    "non_olympic_yog_unique_events_list = non_olympic_yog_unique_events.tolist()\n",
    "2615\n",
    "# Imprimir los eventos únicos\n",
    "print(non_olympic_yog_unique_events_list)"
   ]
  },
  {
   "cell_type": "code",
   "execution_count": 22,
   "id": "44d78957-03a6-4a64-9844-8d848ef4f140",
   "metadata": {},
   "outputs": [
    {
     "name": "stdout",
     "output_type": "stream",
     "text": [
      "event\n",
      "Cycling Track (Cycling)                377\n",
      "Nordic Combined (Skiing)               167\n",
      "Mixed Sports                           154\n",
      "Water Polo (Aquatics)                  149\n",
      "Ski Jumping (Skiing)                   145\n",
      "Canoe Marathon (Canoeing)              111\n",
      "Cross Country Skiing (Skiing)           88\n",
      "Swimming (Aquatics)                     88\n",
      "Equestrian Eventing (Equestrian)        74\n",
      "Athletics                               55\n",
      "Modern Pentathlon                       41\n",
      "Tug-Of-War                              35\n",
      "Fencing                                 27\n",
      "Artistic Gymnastics (Gymnastics)        26\n",
      "Wrestling                               25\n",
      "Baseball (Baseball/Softball)            24\n",
      "Marathon Swimming (Aquatics)            24\n",
      "Equestrian Dressage (Equestrian)        23\n",
      "Shooting                                22\n",
      "Tennis                                  20\n",
      "Weightlifting                           18\n",
      "Cycling Mountain Bike (Cycling)         15\n",
      "3-on-3 Ice Hockey (Ice Hockey)          13\n",
      "Military Ski Patrol (Skiing)            11\n",
      "Rowing                                   9\n",
      "Cycling Road (Cycling)                   8\n",
      "Football (Football)                      6\n",
      "Speed Skating (Skating)                  5\n",
      "Basketball (Basketball)                  5\n",
      "Short Track Speed Skating (Skating)      5\n",
      "Art Competitions                         5\n",
      "Hockey                                   5\n",
      "Ice Hockey (Ice Hockey)                  4\n",
      "Alpine Skiing (Skiing)                   4\n",
      "Luge                                     4\n",
      "Skeleton (Bobsleigh)                     4\n",
      "Rugby (Rugby)                            3\n",
      "Glíma                                    3\n",
      "Equestrian Driving (Equestrian)          3\n",
      "Freestyle Skiing (Skiing)                3\n",
      "Snowboarding (Skiing)                    3\n",
      "Racquets                                 2\n",
      "Curling                                  2\n",
      "Bobsleigh (Bobsleigh)                    2\n",
      "Boxing                                   2\n",
      "Diving (Aquatics)                        2\n",
      "Polo                                     1\n",
      "Golf                                     1\n",
      "Handball                                 1\n",
      "Rope Climbing, Men ()                    1\n",
      "Skijoring (Skiing)                       1\n",
      "Name: count, dtype: int64\n"
     ]
    }
   ],
   "source": [
    "# Filtrar eventos que NO contienen 'Olympic' ni 'YOG'\n",
    "filtered_events = df2[\n",
    "    ~df2['event'].str.contains('Olympic', case=False) & \n",
    "    ~df2['event'].str.contains('YOG', case=False)\n",
    "]\n",
    "\n",
    "# Contar la frecuencia de cada evento\n",
    "event_counts = filtered_events['event'].value_counts()\n",
    "\n",
    "# Imprimir los resultados\n",
    "print(event_counts)"
   ]
  },
  {
   "cell_type": "code",
   "execution_count": 23,
   "id": "b101e002-f026-4e71-bd51-1cb1ad29d8ee",
   "metadata": {},
   "outputs": [
    {
     "name": "stdout",
     "output_type": "stream",
     "text": [
      "event\n",
      "Mixed Sports         154\n",
      "Athletics             55\n",
      "Modern Pentathlon     41\n",
      "Tug-Of-War            35\n",
      "Fencing               27\n",
      "Wrestling             25\n",
      "Shooting              22\n",
      "Tennis                20\n",
      "Weightlifting         18\n",
      "Rowing                 9\n",
      "Art Competitions       5\n",
      "Hockey                 5\n",
      "Luge                   4\n",
      "Glíma                  3\n",
      "Boxing                 2\n",
      "Racquets               2\n",
      "Curling                2\n",
      "Polo                   1\n",
      "Golf                   1\n",
      "Handball               1\n",
      "Name: count, dtype: int64\n"
     ]
    }
   ],
   "source": [
    "# Filtrar eventos que NO contienen 'Olympic', 'YOG' y paréntesis\n",
    "filtered_events = df2[\n",
    "    ~df2['event'].str.contains('Olympic', case=False) & \n",
    "    ~df2['event'].str.contains('YOG', case=False) &\n",
    "    ~df2['event'].str.contains(r'\\(.*\\)', regex=True)  # Verifica que no haya paréntesis\n",
    "]\n",
    "\n",
    "# Contar la frecuencia de cada evento que cumple con las condiciones\n",
    "event_counts = filtered_events['event'].value_counts()\n",
    "\n",
    "# Imprimir los resultados\n",
    "print(event_counts)\n"
   ]
  },
  {
   "cell_type": "code",
   "execution_count": 24,
   "id": "a37ef919-559a-4e4e-bf41-a736b74b4504",
   "metadata": {},
   "outputs": [
    {
     "name": "stdout",
     "output_type": "stream",
     "text": [
      "event\n",
      "Mixed Sports         154\n",
      "Athletics             55\n",
      "Modern Pentathlon     41\n",
      "Tug-Of-War            35\n",
      "Fencing               27\n",
      "Wrestling             25\n",
      "Shooting              22\n",
      "Tennis                20\n",
      "Weightlifting         18\n",
      "Rowing                 9\n",
      "Art Competitions       5\n",
      "Hockey                 5\n",
      "Luge                   4\n",
      "Glíma                  3\n",
      "Boxing                 2\n",
      "Racquets               2\n",
      "Curling                2\n",
      "Polo                   1\n",
      "Golf                   1\n",
      "Handball               1\n",
      "Name: count, dtype: int64\n",
      "               event    year  place\n",
      "293833  Mixed Sports  2020.0    NaN\n",
      "293953  Mixed Sports  2020.0    NaN\n",
      "294031  Mixed Sports  2020.0    NaN\n",
      "294079  Mixed Sports  2020.0    NaN\n",
      "294926  Mixed Sports  2020.0    NaN\n",
      "...              ...     ...    ...\n",
      "297083  Mixed Sports  2020.0    NaN\n",
      "297089  Mixed Sports  2020.0    NaN\n",
      "297096  Mixed Sports  2020.0    NaN\n",
      "297107  Mixed Sports  2020.0    NaN\n",
      "297119  Mixed Sports  2020.0    NaN\n",
      "\n",
      "[140 rows x 3 columns]\n"
     ]
    }
   ],
   "source": [
    "# Filtrar eventos que NO contienen 'Olympic', 'YOG', paréntesis y que tienen registros vacíos en 'place'\n",
    "filtered_events = df2[\n",
    "    ~df2['event'].str.contains('Olympic', case=False) & \n",
    "    ~df2['event'].str.contains('YOG', case=False) &\n",
    "    ~df2['event'].str.contains(r'\\(.*\\)', regex=True) &  # Sin paréntesis\n",
    "    df2['place'].isnull()  # Sin registros en 'place'\n",
    "]\n",
    "\n",
    "# Contar la frecuencia de cada evento que cumple con las condiciones\n",
    "event_counts = filtered_events['event'].value_counts()\n",
    "\n",
    "# Imprimir los resultados\n",
    "print(event_counts)\n",
    "\n",
    "filtered_events_2020 = filtered_events[filtered_events['year'] == 2020]\n",
    "\n",
    "# Seleccionar las columnas 'event', 'year' y 'place'\n",
    "results = filtered_events_2020[['event', 'year', 'place']]\n",
    "\n",
    "# Imprimir los resultados\n",
    "print(results)"
   ]
  },
  {
   "cell_type": "code",
   "execution_count": 25,
   "id": "165bd28c-dd6e-41ef-bdf0-8083d6d0bbed",
   "metadata": {},
   "outputs": [
    {
     "name": "stdout",
     "output_type": "stream",
     "text": [
      "event\n",
      "Mixed Sports    154\n",
      "Name: count, dtype: int64\n"
     ]
    }
   ],
   "source": [
    "# Filtrar eventos que NO contienen 'Olympic', 'YOG', paréntesis, tienen registros vacíos en 'place'\n",
    "# y son eventos de 'mixed sports'\n",
    "filtered_events = df2[\n",
    "    ~df2['event'].str.contains('Olympic', case=False) & \n",
    "    ~df2['event'].str.contains('YOG', case=False) &\n",
    "    ~df2['event'].str.contains(r'\\(.*\\)', regex=True) &  # Sin paréntesis\n",
    "    df2['place'].isnull() &  # Sin registros en 'place'\n",
    "    df2['event'].str.contains('mixed', case=False)  # Eventos de mixed sports\n",
    "]\n",
    "\n",
    "# Contar la frecuencia de cada evento que cumple con las condiciones\n",
    "event_counts = filtered_events['event'].value_counts()\n",
    "\n",
    "# Imprimir los resultados\n",
    "print(event_counts)\n"
   ]
  },
  {
   "cell_type": "code",
   "execution_count": 26,
   "id": "f5c9698a-062f-4fe9-a140-3cec4d430ec8",
   "metadata": {},
   "outputs": [
    {
     "name": "stdout",
     "output_type": "stream",
     "text": [
      "['Biathlon', 'Cross Country Skiing (Skiing)', 'Freestyle Skiing (Skiing)', 'Alpine Skiing (Skiing)', 'Ski Jumping (Skiing)', 'Nordic Combined (Skiing)', 'Snowboarding (Skiing)']\n"
     ]
    }
   ],
   "source": [
    "# Filtrar disciplinas donde el evento contiene 'mixed'\n",
    "mixed_discipline_unique = df2[df2['event'].str.contains('mixed sports', case=False)]['discipline'].unique()\n",
    "\n",
    "# Convertir a lista si deseas\n",
    "mixed_discipline_unique_list = mixed_discipline_unique.tolist()\n",
    "\n",
    "# Imprimir los resultados\n",
    "print(mixed_discipline_unique_list)\n"
   ]
  },
  {
   "cell_type": "code",
   "execution_count": 27,
   "id": "e7cb2b69-4e0c-4966-b4c9-7604d99bbfc1",
   "metadata": {},
   "outputs": [
    {
     "name": "stdout",
     "output_type": "stream",
     "text": [
      "Número de registros con 'place' vacío: 24385\n"
     ]
    }
   ],
   "source": [
    "# Contar registros donde 'place' está vacío (nulo)\n",
    "empty_place_count = df2['place'].isnull().sum()\n",
    "26152615\n",
    "# Imprimir el resultado\n",
    "print(f\"Número de registros con 'place' vacío: {empty_place_count}\")"
   ]
  },
  {
   "cell_type": "code",
   "execution_count": 28,
   "id": "a0a8d11f-0be9-4851-bb33-8b91c0730f1c",
   "metadata": {},
   "outputs": [
    {
     "name": "stdout",
     "output_type": "stream",
     "text": [
      "--------------------------------------------------------------------------------\n",
      "year             605\n",
      "type             605\n",
      "discipline         1\n",
      "event              0\n",
      "as                 0\n",
      "athlete_id         0\n",
      "noc                1\n",
      "place          24385\n",
      "tied               0\n",
      "medal         261388\n",
      "dtype: int64\n"
     ]
    }
   ],
   "source": [
    "print('-' * 80)\n",
    "print(df2.isnull().sum())"
   ]
  },
  {
   "cell_type": "code",
   "execution_count": 29,
   "id": "d244f6c9-4f1c-49ce-bfb6-ae36634fdc00",
   "metadata": {},
   "outputs": [
    {
     "name": "stdout",
     "output_type": "stream",
     "text": [
      "Número de registros restantes: 304942\n"
     ]
    }
   ],
   "source": [
    "# Eliminar los registros mixed sports cuyo valor en place sea null\n",
    "df2 = df2[~((df2['event'].str.contains('mixed sports', case=False)) & (df2['place'].isnull()))]\n",
    "\n",
    "# Imprimir el número de registros restantes\n",
    "print(f\"Número de registros restantes: {df2.shape[0]}\")"
   ]
  },
  {
   "cell_type": "code",
   "execution_count": 30,
   "id": "1d1faf9c-90b8-4cef-adee-ef8074f3efac",
   "metadata": {},
   "outputs": [
    {
     "name": "stdout",
     "output_type": "stream",
     "text": [
      "--------------------------------------------------------------------------------\n",
      "year             605\n",
      "type             605\n",
      "discipline         1\n",
      "event              0\n",
      "as                 0\n",
      "athlete_id         0\n",
      "noc                1\n",
      "place          24231\n",
      "tied               0\n",
      "medal         261234\n",
      "dtype: int64\n"
     ]
    }
   ],
   "source": [
    "print('-' * 80)\n",
    "print(df2.isnull().sum())"
   ]
  },
  {
   "cell_type": "code",
   "execution_count": 33,
   "id": "f285bf68-0adf-45be-a2b1-d96520f14d00",
   "metadata": {},
   "outputs": [],
   "source": [
    "df1.to_csv('athlete_cleaned_lunes.csv', index=False, encoding='utf-8')"
   ]
  },
  {
   "cell_type": "code",
   "execution_count": 34,
   "id": "1022d2e2-e39a-4f23-a7cb-142d331b3abd",
   "metadata": {},
   "outputs": [],
   "source": [
    "df2.to_csv('olympic_cleaned_lunes.csv', index=False, encoding='utf-8')"
   ]
  },
  {
   "cell_type": "code",
   "execution_count": null,
   "id": "07e36baa-ad22-4273-9fee-fd18882d2344",
   "metadata": {},
   "outputs": [],
   "source": []
  }
 ],
 "metadata": {
  "kernelspec": {
   "display_name": "Python 3 (ipykernel)",
   "language": "python",
   "name": "python3"
  },
  "language_info": {
   "codemirror_mode": {
    "name": "ipython",
    "version": 3
   },
   "file_extension": ".py",
   "mimetype": "text/x-python",
   "name": "python",
   "nbconvert_exporter": "python",
   "pygments_lexer": "ipython3",
   "version": "3.12.7"
  }
 },
 "nbformat": 4,
 "nbformat_minor": 5
}
