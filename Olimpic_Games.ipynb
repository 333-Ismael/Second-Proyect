{
 "cells": [
  {
   "cell_type": "code",
   "execution_count": 1,
   "id": "e5dc9e9c-6778-4c21-b081-6ec4098e5ea3",
   "metadata": {},
   "outputs": [],
   "source": [
    "import pandas as pd\n",
    "import matplotlib.pyplot as plt\n",
    "import seaborn as sns\n",
    "from scipy import stats"
   ]
  },
  {
   "cell_type": "code",
   "execution_count": 2,
   "id": "fedd8b40-85ae-4053-8cac-9d92425ba6ac",
   "metadata": {},
   "outputs": [],
   "source": [
    "data1 = pd.read_csv('athletes.csv', parse_dates = ['born_date', 'died_date'])\n",
    "data2 = pd.read_csv('olympic_games_results.csv')\n",
    "df1 = pd.DataFrame(data1)\n",
    "df2 = pd.DataFrame(data2)"
   ]
  },
  {
   "cell_type": "code",
   "execution_count": 3,
   "id": "40cb4f26-2271-4963-9d8a-cab8ce88cae4",
   "metadata": {},
   "outputs": [
    {
     "name": "stdout",
     "output_type": "stream",
     "text": [
      "athlete_id           0\n",
      "name                 0\n",
      "born_date         1807\n",
      "born_city        34592\n",
      "born_region      34592\n",
      "born_country     34592\n",
      "noc                  1\n",
      "height_cm        38849\n",
      "weight_kg        43430\n",
      "died_date       111560\n",
      "dtype: int64\n",
      "--------------------------------------------------------------------------------\n",
      "['France', 'Great Britain', 'Germany West Germany', 'West Germany', 'Germany', ..., 'ROC', 'Democratic People's Republic of Korea Korea T..., 'France Sweden', 'Austria Czechia', NaN]\n",
      "Length: 697\n",
      "Categories (696, object): ['Afghanistan', 'Albania', 'Albania Australia', 'Albania Bulgaria', ..., 'Yemen', 'Yugoslavia', 'Zambia', 'Zimbabwe']\n",
      "--------------------------------------------------------------------------------\n",
      "<class 'pandas.core.frame.DataFrame'>\n",
      "RangeIndex: 145500 entries, 0 to 145499\n",
      "Data columns (total 10 columns):\n",
      " #   Column        Non-Null Count   Dtype         \n",
      "---  ------        --------------   -----         \n",
      " 0   athlete_id    145500 non-null  int64         \n",
      " 1   name          145500 non-null  object        \n",
      " 2   born_date     143693 non-null  datetime64[ns]\n",
      " 3   born_city     110908 non-null  object        \n",
      " 4   born_region   110908 non-null  object        \n",
      " 5   born_country  110908 non-null  object        \n",
      " 6   noc           145499 non-null  category      \n",
      " 7   height_cm     106651 non-null  float64       \n",
      " 8   weight_kg     102070 non-null  float64       \n",
      " 9   died_date     33940 non-null   datetime64[ns]\n",
      "dtypes: category(1), datetime64[ns](2), float64(2), int64(1), object(4)\n",
      "memory usage: 10.3+ MB\n",
      "None\n"
     ]
    }
   ],
   "source": [
    "# Visualizar columnas, tipo de datos y nulls de los datasets\n",
    "df1.rename(columns={'NOC': 'noc'}, inplace=True)\n",
    "# Tratamiento de datos\n",
    "df1['noc'] = df1['noc'].astype('category')\n",
    "valores_nulos = df1.isnull().sum()\n",
    "print(valores_nulos)\n",
    "print('-' * 80)\n",
    "print(df1['noc'].unique())\n",
    "print('-' * 80)\n",
    "print(df1.info())"
   ]
  },
  {
   "cell_type": "code",
   "execution_count": 4,
   "id": "3ae75e49-33ca-48fa-8fa0-c0391cd3bb0b",
   "metadata": {},
   "outputs": [
    {
     "name": "stdout",
     "output_type": "stream",
     "text": [
      "['FRA', 'GBR', 'FRG', 'GER', 'GHA', ..., 'KOS', 'EOR', 'SSD', 'COR', NaN]\n",
      "Length: 230\n",
      "Categories (229, object): ['AFG', 'AHO', 'ALB', 'ALG', ..., 'YMD', 'YUG', 'ZAM', 'ZIM']\n",
      "--------------------------------------------------------------------------------\n",
      "[ 17.  nan  32.   8.   4.  15.   3.   9.   2.  33.  49.   1.   5.  31.\n",
      "  14.  16.   7.  13.  29.  25.  21.  11.  48.  26.  41.  61.   6.  81.\n",
      "  75.  57.  19.  52.  12.  50.  35.  36.  55.  24.  63.  22.  40.  18.\n",
      "  23.  44.  53.  46.  43.  60.  58.  73.  20.  71.  80.  76.  62.  27.\n",
      "  30.  45.  34.  39.  51.  70.  37.  38.  47.  10.  74.  56.  64.  28.\n",
      "  42.  54.  59.  72.  77.  65.  69.  79.  66.  83.  82.  67.  68.  84.\n",
      "  78.  86. 106. 100. 117.  91.  89. 101.  98. 114.  88. 112. 102.  96.\n",
      " 103.  94. 109.  92. 104.  85.  87. 110. 113.  99.  90.  93. 108. 105.\n",
      " 107.  95. 116. 111.  97. 115. 120. 118. 121. 123. 124. 129. 122. 132.\n",
      " 119. 130. 125. 127. 128. 126. 131. 133. 134. 178. 151. 180. 177. 174.\n",
      " 159. 157. 161. 168. 144. 135. 166. 136. 182. 154. 162. 185. 184. 183.\n",
      " 148. 137. 179. 176. 141. 155. 164. 158. 173. 169. 181. 139. 140. 152.\n",
      " 147. 175. 170. 153. 150. 149. 146. 143. 156. 171. 172. 145. 165. 142.\n",
      " 138. 160. 167. 163.]\n",
      "--------------------------------------------------------------------------------\n",
      "--------------------------------------------------------------------------------\n",
      "<class 'pandas.core.frame.DataFrame'>\n",
      "RangeIndex: 304337 entries, 0 to 304336\n",
      "Data columns (total 10 columns):\n",
      " #   Column      Non-Null Count   Dtype   \n",
      "---  ------      --------------   -----   \n",
      " 0   year        304337 non-null  float64 \n",
      " 1   type        304337 non-null  category\n",
      " 2   discipline  304336 non-null  category\n",
      " 3   event       304337 non-null  object  \n",
      " 4   as          304337 non-null  object  \n",
      " 5   athlete_id  304337 non-null  int64   \n",
      " 6   noc         304336 non-null  category\n",
      " 7   place       280359 non-null  float64 \n",
      " 8   tied        304337 non-null  bool    \n",
      " 9   medal       43631 non-null   category\n",
      "dtypes: bool(1), category(4), float64(2), int64(1), object(2)\n",
      "memory usage: 13.4+ MB\n",
      "None\n"
     ]
    }
   ],
   "source": [
    "cols_to_convert = ['type', 'discipline', 'noc', 'medal'] # También se cabió el tipo de datos de la columna Team, tuvo que quitarse del código porque al eliminar la columna daba problemas a ejecutarlo\n",
    "df2[cols_to_convert] = df2[cols_to_convert].astype('category')\n",
    "#df2['place'] = df2['place'].astype(int)\n",
    "print(df2['noc'].unique())\n",
    "print('-' * 80)\n",
    "print(df2['place'].unique())\n",
    "print('-' * 80)\n",
    "# Pasar year a string para quitar el .0 y luego pasarlo a fecha\n",
    "\n",
    "print('-' * 80)\n",
    "print(df2.info())"
   ]
  },
  {
   "cell_type": "code",
   "execution_count": 5,
   "id": "3c3d6534-f468-4692-8412-5458599e32c7",
   "metadata": {},
   "outputs": [
    {
     "name": "stdout",
     "output_type": "stream",
     "text": [
      "0 duplicates in athletes\n",
      "--------------------------------------------------------------------------------\n",
      "23 duplicates in results\n"
     ]
    }
   ],
   "source": [
    "# Duplicates\n",
    "print(f\"{df1.duplicated().sum()} duplicates in athletes\")\n",
    "print('-' * 80)\n",
    "print(f\"{df2.duplicated().sum()} duplicates in results\")\n"
   ]
  },
  {
   "cell_type": "code",
   "execution_count": 6,
   "id": "38dd6ae0-bbe5-4389-a7a0-61b5d557a729",
   "metadata": {},
   "outputs": [
    {
     "name": "stdout",
     "output_type": "stream",
     "text": [
      "0 duplicates in results\n",
      "--------------------------------------------------------------------------------\n",
      "<class 'pandas.core.frame.DataFrame'>\n",
      "Index: 304314 entries, 0 to 304336\n",
      "Data columns (total 10 columns):\n",
      " #   Column      Non-Null Count   Dtype   \n",
      "---  ------      --------------   -----   \n",
      " 0   year        304314 non-null  float64 \n",
      " 1   type        304314 non-null  category\n",
      " 2   discipline  304313 non-null  category\n",
      " 3   event       304314 non-null  object  \n",
      " 4   as          304314 non-null  object  \n",
      " 5   athlete_id  304314 non-null  int64   \n",
      " 6   noc         304313 non-null  category\n",
      " 7   place       280355 non-null  float64 \n",
      " 8   tied        304314 non-null  bool    \n",
      " 9   medal       43630 non-null   category\n",
      "dtypes: bool(1), category(4), float64(2), int64(1), object(2)\n",
      "memory usage: 15.7+ MB\n",
      "None\n",
      "--------------------------------------------------------------------------------\n",
      "year               0\n",
      "type               0\n",
      "discipline         1\n",
      "event              0\n",
      "as                 0\n",
      "athlete_id         0\n",
      "noc                1\n",
      "place          23959\n",
      "tied               0\n",
      "medal         260684\n",
      "dtype: int64\n"
     ]
    },
    {
     "data": {
      "text/plain": [
       "\"\\n# Eliminar columna team\\ndf2.drop(columns=['team'], inplace=True)\\n\""
      ]
     },
     "execution_count": 6,
     "metadata": {},
     "output_type": "execute_result"
    }
   ],
   "source": [
    "# Remove duplicates\n",
    "df2.drop_duplicates(inplace = True)\n",
    "print(f\"{df2.duplicated().sum()} duplicates in results\")\n",
    "print('-' * 80)\n",
    "print(df2.info())\n",
    "print('-' * 80)\n",
    "print(df2.isnull().sum())\n",
    "'''\n",
    "# Eliminar columna team\n",
    "df2.drop(columns=['team'], inplace=True)\n",
    "'''"
   ]
  },
  {
   "cell_type": "code",
   "execution_count": 7,
   "id": "80c818d2-475c-4d1b-acf6-b30a8682e1a0",
   "metadata": {},
   "outputs": [
    {
     "name": "stdout",
     "output_type": "stream",
     "text": [
      "961\n"
     ]
    }
   ],
   "source": [
    "print(len(df2['event'].unique()))"
   ]
  },
  {
   "cell_type": "code",
   "execution_count": 8,
   "id": "9d4fe20e-203e-42e3-bb0d-c952e6406b04",
   "metadata": {},
   "outputs": [
    {
     "name": "stdout",
     "output_type": "stream",
     "text": [
      "296898\n"
     ]
    }
   ],
   "source": [
    "# Mostrar registros con la palabra Olympic\n",
    "print(df2[df2['event'].str.contains('Olympic', case=False)].shape[0])"
   ]
  },
  {
   "cell_type": "code",
   "execution_count": 9,
   "id": "d65d1f03-d3ef-42b5-8054-1b310c034a96",
   "metadata": {},
   "outputs": [
    {
     "name": "stdout",
     "output_type": "stream",
     "text": [
      "7416\n"
     ]
    }
   ],
   "source": [
    "# Registros sin la palabra Olympic\n",
    "print(df2[~df2['event'].str.contains('Olympic', case=False)].shape[0])"
   ]
  },
  {
   "cell_type": "code",
   "execution_count": 10,
   "id": "673f264a-beb0-43bf-8309-196ba19f2114",
   "metadata": {},
   "outputs": [
    {
     "name": "stdout",
     "output_type": "stream",
     "text": [
      "[1896. 1900. 1904. 1908. 1912. 1920. 1924. 1928. 1932. 1936. 1948. 1952.\n",
      " 1956. 1960. 1964. 1968. 1972. 1976. 1980. 1984. 1988. 1992. 1994. 1996.\n",
      " 1998. 2000. 2002. 2004. 2006. 2008. 2010. 2012. 2014. 2016. 2018. 2020.\n",
      " 2022.]\n"
     ]
    }
   ],
   "source": [
    "# Mostrar las fechas por orden\n",
    "sorted_years = df2['year'].unique()\n",
    "sorted_years.sort()\n",
    "print(sorted_years)"
   ]
  },
  {
   "cell_type": "code",
   "execution_count": 11,
   "id": "f357ec03-0d3d-42c4-922b-b159ee90c897",
   "metadata": {},
   "outputs": [
    {
     "name": "stdout",
     "output_type": "stream",
     "text": [
      "0\n"
     ]
    }
   ],
   "source": [
    "# Mostrar cuantos Intercalated hay\n",
    "print(df2[df2['event'].str.contains('Intercalated', case=False)].shape[0])"
   ]
  },
  {
   "cell_type": "code",
   "execution_count": 12,
   "id": "75f6bc42-093a-467d-88eb-a97086b80321",
   "metadata": {},
   "outputs": [
    {
     "name": "stdout",
     "output_type": "stream",
     "text": [
      "7416\n"
     ]
    }
   ],
   "source": [
    "print(df2[~df2['event'].str.contains('Olympic', case=False)].shape[0])"
   ]
  },
  {
   "cell_type": "code",
   "execution_count": 13,
   "id": "8206c624-d9e0-43c5-a7d8-deda8177059a",
   "metadata": {},
   "outputs": [
    {
     "name": "stdout",
     "output_type": "stream",
     "text": [
      "['Singles, Men (Olympic)', 'Doubles, Men (Olympic)', 'Doubles, Mixed (Olympic)', 'Épée, Individual, Men (Olympic)', 'Tennis', 'Doubles, Covered Courts, Mixed (Olympic)', 'Singles, Covered Courts, Men (Olympic)', 'Doubles, Covered Courts, Men (Olympic)', 'Polo', 'Singles, Covered Courts, Women (Olympic)', 'Singles, Women (Olympic)', 'Doubles, Women (Olympic)', 'Team, Women (Olympic)', 'Hockey, Men (Olympic)', '100 metres, Men (Olympic)', '400 metres, Men (Olympic)', '800 metres, Men (Olympic)', '110 metres Hurdles, Men (Olympic)', 'High Jump, Men (Olympic)', 'Pole Vault, Men (Olympic)', 'Long Jump, Men (Olympic)', 'Triple Jump, Men (Olympic)', 'Team, Men (Olympic)', 'Swimming (Aquatics)', '100 metres Freestyle, Men (Olympic)', '500 metres Freestyle, Men (Olympic)', '1,200 metres Freestyle, Men (Olympic)', 'Architecture, Open (Olympic)', 'Weightlifting', 'Unlimited, Two Hands, Men (Olympic)', 'Wrestling', 'Unlimited Class, Greco-Roman, Men (Olympic)', 'Athletics', 'Shot Put, Men (Olympic)', 'Individual, Men (Olympic)', 'Individual, Women (Olympic)', 'Target Archery, 28 metres, Team, Men (Olympic)', 'Target Archery, 33 metres, Team, Men (Olympic)', 'Target Archery, 50 metres, Team, Men (Olympic)', 'Pole Archery, Small Birds, Individual, Men (Olympic)', 'Pole Archery, Large Birds, Individual, Men (Olympic)', 'Pole Archery, Small Birds, Team, Men (Olympic)', 'Pole Archery, Large Birds, Team, Men (Olympic)', 'Sur La Perche À La Herse, Men (Olympic)', 'Au Chapelet, 33 metres, Men (Olympic)', 'Au Chapelet, 50 metres, Men (Olympic)', 'Au Cordon Doré, 33 metres, Men (Olympic)', 'Au Cordon Doré, 50 metres, Men (Olympic)', 'Championnat Du Monde, Men (Olympic)', 'Target Archery, 28 metres, Individual, Men (Olympic)', 'Target Archery, 33 metres, Individual, Men (Olympic)', 'Target Archery, 50 metres, Individual, Men (Olympic)', 'Continental Style, Men (Olympic)', 'Double York Round, Men (Olympic)', 'Sur La Perche À La Pyramide, Men (Olympic)', 'Double National Round, Women (Olympic)', '1,500 metres, Men (Olympic)', 'Marathon, Men (Olympic)', 'Welterweight, Men (Olympic)', 'Light-Heavyweight, Men (Olympic)', 'Featherweight, Men (Olympic)', 'Light-Welterweight, Men (Olympic)', 'Flyweight, Men (Olympic)', 'Lightweight, Men (Olympic)', 'Heavyweight, Men (Olympic)', 'Bantamweight, Men (Olympic)', 'Light-Flyweight, Men (Olympic)', 'Middleweight, Men (Olympic)', 'Light-Middleweight, Men (Olympic)', 'Super-Heavyweight, Men (Olympic)', 'Softball, Women (Olympic)', 'Baseball, Men (Olympic)', 'Team, Mixed (Olympic)', 'Double Columbia Round, Women (Olympic)', 'Team Round, Women (Olympic)', 'Double American Round, Men (Olympic)', 'Team Round, Men (Olympic)', '8 metres, Open (Olympic)', 'Golf', 'Basketball, Men (Olympic)', 'Road Race, Individual, Men (Olympic)', 'Basketball, Women (Olympic)', 'Triple Jump, Women (Olympic)', 'Handball, Women (Olympic)', 'One Person Dinghy, Open (Olympic)', 'Decathlon, Men (Olympic)', 'Four, Men (Olympic)', 'Football (Football)', 'Football, Men (Olympic)', 'Kayak Doubles, 500 metres, Women (Olympic)', 'Kayak Singles, 500 metres, Women (Olympic)', 'Kayak Doubles, 500 metres, Men (Olympic)', 'Kayak Fours, 1,000 metres, Men (Olympic)', 'Kayak Singles, 500 metres, Men (Olympic)', 'Kayak Doubles, 1,000 metres, Men (Olympic)', 'Kayak Singles, 1,000 metres, Men (Olympic)', 'Kayak Singles, Slalom, Men (Olympic)', 'Kayak Fours, 500 metres, Women (Olympic)', 'Kayak Singles, Slalom, Women (Olympic)', 'Kayak Singles, 10,000 metres, Men (Olympic)', 'Canadian Singles, Slalom, Men (Olympic)', 'Canoe Marathon (Canoeing)', 'Kayak Doubles, 10,000 metres, Men (Olympic)', 'Kayak Relay, 4 × 500 metres, Men (Olympic)', 'Canadian Doubles, Slalom, Men (Olympic)', 'Canadian Singles, 1,000 metres, Men (Olympic)', 'Canadian Singles, 10,000 metres, Men (Olympic)', 'Canadian Doubles, 1,000 metres, Men (Olympic)', 'Canadian Doubles, 10,000 metres, Men (Olympic)', 'Folding Kayak Doubles, 10,000 metres, Men (Olympic)', 'Folding Kayak Singles, 10,000 metres, Men (Olympic)', 'Canadian Singles, 500 metres, Men (Olympic)', 'Canadian Doubles, 500 metres, Men (Olympic)', 'Small-Bore Rifle, Prone, 50 metres, Open (Olympic)', 'Single Sculls, Women (Olympic)', 'Team Pursuit, 4,000 metres, Men (Olympic)', 'Road Race, Team, Men (Olympic)', '100 kilometres Team Time Trial, Men (Olympic)', 'Polo, Men (Olympic)', 'Rugby, Men (Olympic)', 'Eights, Men (Olympic)', 'Individual, Open (Olympic)', 'Team, Open (Olympic)', 'Tug-Of-War, Men (Olympic)', 'Lacrosse, Men (Olympic)', 'Hacks and Hunter Combined, Open (Olympic)', 'Springboard, Women (Olympic)', 'Equestrian Eventing (Equestrian)', 'Four-In-Hand Competition, Open (Olympic)', 'Equestrian Dressage (Equestrian)', 'Sabre, Team, Men (Olympic)', 'Long Jump, Open (Olympic)', 'High Jump, Open (Olympic)', 'Equestrian Driving (Equestrian)', 'Four/Five, Men (Olympic)', 'Sabre, Individual, Men (Olympic)', '20 kilometres, Men (Olympic)', 'Individual Pursuit, 4,000 metres, Men (Olympic)', 'Sprint, Men (Olympic)', 'Cycling Track (Cycling)', '1,000 metres Time Trial, Men (Olympic)', 'Points Race, Men (Olympic)', 'Road Race, Individual, Women (Olympic)', 'Cycling Mountain Bike (Cycling)', 'Cross-Country, Women (Olympic)', 'Individual Pursuit, Women (Olympic)', 'Points Race, Women (Olympic)', 'Individual Time Trial, Women (Olympic)', 'Team Pursuit, Women (Olympic)', 'Sprint, Women (Olympic)', '500 metres Time Trial, Women (Olympic)', 'Two, Women (Olympic)', '3,000 metres, Women (Olympic)', '5,000 metres, Women (Olympic)', 'Team Pursuit (6 laps), Women (Olympic)', 'Keirin, Women (Olympic)', 'Team Sprint, Women (Olympic)', 'Madison, Men (Olympic)', '50 kilometres, Men (Olympic)', 'Tandem Sprint, 2,000 metres, Men (Olympic)', 'Team Pursuit, 1,980 yards, Men (Olympic)', '5,000 metres, Men (Olympic)', '100 kilometres, Men (Olympic)', 'Individual Time Trial, Men (Olympic)', '¼ mile, Men (Olympic)', '½ mile, Men (Olympic)', '5 miles, Men (Olympic)', '25 miles, Men (Olympic)', 'Cross-Country, Men (Olympic)', '333⅓ metres Time Trial, Men (Olympic)', 'Team Sprint, Men (Olympic)', '⅓ mile, Men (Olympic)', '1 mile, Men (Olympic)', '2 miles, Men (Olympic)', 'Keirin, Men (Olympic)', 'Omnium, Men (Olympic)', '25 kilometres, Men (Olympic)', '10,000 metres, Men (Olympic)', '12-Hours Race, Men (Olympic)', '4 × 100 metres Relay, Men (Olympic)', '18 kilometres, Men (Olympic)', 'Cycling Road (Cycling)', 'Hockey, Women (Olympic)', '400 metres, Women (Olympic)', '4 × 400 metres Relay, Women (Olympic)', 'Two, Men (Olympic)', 'Cricket, Men (Olympic)', 'Singles, One Ball, Open (Olympic)', 'Doubles, Open (Olympic)', 'Singles, Two Balls, Open (Olympic)', 'A-Class (Open), Open (Olympic)', 'Tug-Of-War', '200 metres Hurdles, Men (Olympic)', 'Discus Throw, Men (Olympic)', 'B-Class (Under 60 feet), Open (Olympic)', 'C-Class, Open (Olympic)', 'Racquets', 'Heavyweight, Greco-Roman, Men (Olympic)', 'Heavyweight, Freestyle, Men (Olympic)', '56-pound Weight Throw, Men (Olympic)', 'Lightweight, Freestyle, Men (Olympic)', 'All-Around Dumbbell Contest, Men (Olympic)', 'Hammer Throw, Men (Olympic)', 'Javelin Throw, Men (Olympic)', 'Javelin Throw, Both Hands, Men (Olympic)', 'Hockey', '3,000 metres Steeplechase, Men (Olympic)', 'Foil, Individual, Women (Olympic)', 'Foil, Team, Women (Olympic)', 'Épée, Individual, Women (Olympic)', 'Épée, Team, Women (Olympic)', 'Foil, Individual, Men (Olympic)', 'Foil, Team, Men (Olympic)', 'Épée, Team, Men (Olympic)', 'Sabre, Masters, Individual, Men (Olympic)', 'Modern Pentathlon', '400 metres Freestyle, Men (Olympic)', 'Water Polo (Aquatics)', 'Water Polo, Men (Olympic)', 'Ice Hockey, Men (Olympic)', 'Foil, Masters, Individual, Men (Olympic)', 'Épée, Masters and Amateurs, Individual, Men (Olympic)', 'Épée, Masters, Individual, Men (Olympic)', 'Literature, Open (Olympic)', 'Free Pistol, 50 yards, Men (Olympic)', 'Small-Bore Rifle, 50 and 100 yards, Team, Men (Olympic)', 'Rowing', 'Shooting', 'Dueling Pistol, 30 metres, Team, Men (Olympic)', 'Fencing', 'Trap, Team, Men (Olympic)', 'Three Person Keelboat, Open (Olympic)', 'Art Competitions', 'Single Sticks, Individual, Men (Olympic)', '200 metres, Men (Olympic)', 'Football, Women (Olympic)', 'Platform, Women (Olympic)', 'Synchronized Platform, Women (Olympic)', 'Platform, Men (Olympic)', 'Synchronized Platform, Men (Olympic)', '4 × 400 metres Relay, Men (Olympic)', 'Individual All-Around, Women (Olympic)', 'Floor Exercise, Women (Olympic)', 'Horse Vault, Women (Olympic)', 'Uneven Bars, Women (Olympic)', 'Balance Beam, Women (Olympic)', 'Team All-Around, Women (Olympic)', 'Team Portable Apparatus, Women (Olympic)', 'Group, Women (Olympic)', 'Individual All-Around, Men (Olympic)', 'Team All-Around, Men (Olympic)', 'Floor Exercise, Men (Olympic)', 'Horse Vault, Men (Olympic)', 'Parallel Bars, Men (Olympic)', 'Horizontal Bar, Men (Olympic)', 'Rings, Men (Olympic)', 'Pommelled Horse, Men (Olympic)', 'Pole Vault, Women (Olympic)', 'Individual All-Around, Field Sports, Men (Olympic)', 'Individual All-Around, Apparatus Work, Men (Olympic)', 'Team All-Around, Swedish System, Men (Olympic)', 'Team All-Around, Free System, Men (Olympic)', 'Rope Climbing, Men (Olympic)', 'Side Horse, Men (Olympic)', '6 metres, Open (Olympic)', 'Artistic Gymnastics (Gymnastics)', 'Free Rifle, Three Positions, 300 metres, Men (Olympic)', 'Free Rifle, Three Positions, 300 metres, Team, Men (Olympic)', 'Military Rifle, Prone, 300 metres, Team, Men (Olympic)', 'Military Rifle, Prone, 600 metres, Men (Olympic)', 'Military Rifle, Prone, 600 metres, Team, Men (Olympic)', 'Military Rifle, Standing, 300 metres, Men (Olympic)', 'Military Rifle, Standing, 300 metres, Team, Men (Olympic)', 'Military Rifle, Prone, 300 and 600 metres, Team, Men (Olympic)', 'Running Target, Single Shot, Team, Men (Olympic)', 'Running Target, Double Shot, Team, Men (Olympic)', 'Running Target, Single Shot, Men (Olympic)', 'Running Target, Double Shot, Men (Olympic)', 'Lightweight, Greco-Roman, Men (Olympic)', 'Parallel Bars, Teams, Men (Olympic)', 'Horizontal Bar, Teams, Men (Olympic)', 'Military Pistol, 25 metres, Men (Olympic)', 'Military Rifle, 200 metres, Men (Olympic)', 'Tumbling, Men (Olympic)', 'Club Swinging, Men (Olympic)', 'Plain High, Men (Olympic)', 'Standing Long Jump, Men (Olympic)', 'Individual All-Around, 4 Events, Men (Olympic)', 'Handball, Men (Olympic)', 'Handball', 'Combined, Men (Olympic)', 'Cross Country Skiing (Skiing)', '4 × 10 kilometres Relay, Men (Olympic)', 'Half-Middleweight, Women (Olympic)', 'Lightweight, Women (Olympic)', 'Heavyweight, Women (Olympic)', 'Half-Heavyweight, Women (Olympic)', 'Extra-Lightweight, Women (Olympic)', 'Middleweight, Women (Olympic)', 'Half-Lightweight, Women (Olympic)', 'Heavyweight, Freestyle, Women (Olympic)', 'Half-Middleweight, Men (Olympic)', 'Half-Lightweight, Men (Olympic)', 'Open Class, Men (Olympic)', 'Extra-Lightweight, Men (Olympic)', 'Half-Heavyweight, Men (Olympic)', 'Welterweight, Greco-Roman, Men (Olympic)', 'Welterweight, Freestyle, Men (Olympic)', 'Rapid-Fire Pistol, 25 metres, Men (Olympic)', 'Military Ski Patrol, Men (Olympic)', '200 metres Breaststroke, Men (Olympic)', '400 metres Breaststroke, Men (Olympic)', 'Double Sculls, Women (Olympic)', 'Coxless Pairs, Women (Olympic)', 'Lightweight Double Sculls, Women (Olympic)', 'Coxed Fours, Men (Olympic)', 'Coxless Pairs, Men (Olympic)', 'Coxless Fours, Men (Olympic)', 'Coxed Pairs, Men (Olympic)', 'Quadruple Sculls, Men (Olympic)', 'Single Sculls, Men (Olympic)', 'Double Sculls, Men (Olympic)', 'Lightweight Coxless Fours, Men (Olympic)', 'Lightweight Double Sculls, Men (Olympic)', 'Coxed Fours, Women (Olympic)', 'Eights, Women (Olympic)', 'Coxless Fours, Women (Olympic)', 'Quadruple Sculls, Women (Olympic)', 'Coxed Fours, Outriggers, Men (Olympic)', 'Literature, Lyric Works, Open (Olympic)', 'Coxed Quadruple Sculls, Women (Olympic)', 'Coxed Fours, Inriggers, Men (Olympic)', 'Sculpturing, Medals And Reliefs, Open (Olympic)', 'Sculpturing, Statues, Open (Olympic)', 'Sculpturing, Unknown Event, Open (Olympic)', 'Two Person Keelboat, Open (Olympic)', 'Air Rifle, 10 metres, Women (Olympic)', 'Trap, Open (Olympic)', 'Trap, Men (Olympic)', 'Double Trap, Men (Olympic)', 'Air Pistol, 10 metres, Women (Olympic)', 'Sporting Pistol, 25 metres, Women (Olympic)', 'Free Pistol, 50 metres, Open (Olympic)', 'Small-Bore Rifle, Three Positions, 50 metres, Women (Olympic)', 'Free Pistol, 50 metres, Men (Olympic)', 'Small-Bore Rifle, Prone, 50 metres, Men (Olympic)', 'Small-Bore Rifle, Three Positions, 50 metres, Men (Olympic)', 'Rapid-Fire Pistol, 25 metres, Open (Olympic)', 'Small-Bore Rifle, Three Positions, 50 metres, Open (Olympic)', 'Skeet, Men (Olympic)', 'Running Target, 50 metres, Open (Olympic)', 'Skeet, Open (Olympic)', 'Air Rifle, 10 metres, Men (Olympic)', 'Air Pistol, 10 metres, Men (Olympic)', 'Double Trap, Women (Olympic)', 'Trap, Women (Olympic)', 'Running Target, Single and Double Shot, Men (Olympic)', 'Small-Bore Rifle, Prone, 50 and 100 yards, Men (Olympic)', 'Small-Bore Rifle, Disappearing Target, 25 yards, Men (Olympic)', 'Small-Bore Rifle, Moving Target, 25 yards, Men (Olympic)', 'Running Target, 50 metres, Men (Olympic)', 'Running Target, 10 metres, Men (Olympic)', 'Dueling Pistol, 30 metres, Men (Olympic)', 'Military Rifle, Three Positions, 300 metres, Men (Olympic)', 'Military Rifle, Any Position, 600 metres, Men (Olympic)', 'Free Pistol, 50 metres, Team, Men (Olympic)', 'Free Rifle, Prone, 600 metres, Men (Olympic)', 'Free Rifle, 400, 600 and 800 metres, Team, Men (Olympic)', 'Small-Bore Rifle, Standing, 50 metres, Men (Olympic)', 'Smal-Bore Rifle, Standing, 50 metres, Team, Men (Olympic)', 'Military Pistol, Team, Men (Olympic)', 'Free Rifle, Kneeling, 300 metres, Men (Olympic)', 'Free Rifle, Prone, 300 metres, Men (Olympic)', 'Free Rifle, Standing, 300 metres, Men (Olympic)', 'Free Pistol, 50 yards, Team, Men (Olympic)', 'Military Pistol, 30 metres, Men (Olympic)', 'Free Rifle, 1,000 yards, Men (Olympic)', 'Military Rifle, 200/500/600/800/900/1,000 yards, Team, Men (Olympic)', 'Skeet, Women (Olympic)', 'Free Rifle, Three Positions, 300 metres, Open (Olympic)', 'Military Rifle, Prone, 300 metres, Men (Olympic)', 'Military Rifle, 200, 400, 500 and 600 metres, Team, Men (Olympic)', 'Small-Bore Rifle, Prone, 50 metres, Team, Men (Olympic)', 'Small-Bore Rifle, Any Position, 50 metres, Men (Olympic)', 'Small-Bore Rifle, Disappearing Target, 25 metres, Men (Olympic)', 'Free Rifle, Any Position, 300 metres, Men (Olympic)', 'Unlimited, One Hand, Men (Olympic)', 'Skeleton, Men (Olympic)', 'Muzzle-Loading Pistol, 25 metres, Men (Olympic)', 'Small-Bore Rifle, Disappearing Target, 25 metres, Team, Men (Olympic)', 'Free Pistol, 30 metres, Men (Olympic)', 'Architecture, Further Entries, Open (Olympic)', 'Sculpturing, Open (Olympic)', '100 metres Backstroke, Women (Olympic)', 'Solo, Women (Olympic)', 'Duet, Women (Olympic)', '50 metres Freestyle, Men (Olympic)', '200 metres Freestyle, Men (Olympic)', '100 metres Breaststroke, Men (Olympic)', '4 × 200 metres Freestyle Relay, Men (Olympic)', '1,500 metres Freestyle, Men (Olympic)', '100 metres Butterfly, Men (Olympic)', '200 metres Butterfly, Men (Olympic)', '200 metres Individual Medley, Women (Olympic)', '100 metres Breaststroke, Women (Olympic)', '200 metres Breaststroke, Women (Olympic)', '100 metres Freestyle, Women (Olympic)', '50 metres Freestyle, Women (Olympic)', '100 metres Butterfly, Women (Olympic)', '4 × 100 metres Medley Relay, Men (Olympic)', '100 metres Backstroke, Men (Olympic)', '4 × 200 metres Freestyle Relay, Women (Olympic)', '4 × 100 metres Medley Relay, Women (Olympic)', '400 metres Individual Medley, Women (Olympic)', '400 metres Freestyle, Women (Olympic)', '800 metres Freestyle, Women (Olympic)', '4 × 100 metres Freestyle Relay, Women (Olympic)', '200 metres Backstroke, Women (Olympic)', '200 metres Freestyle, Women (Olympic)', '200 metres Butterfly, Women (Olympic)', '200 metres Backstroke, Men (Olympic)', '200 metres Individual Medley, Men (Olympic)', '400 metres Individual Medley, Men (Olympic)', 'Plain High, Women (Olympic)', '300 metres Freestyle, Women (Olympic)', 'Synchronized Springboard, Women (Olympic)', '4 × 100 metres Freestyle Relay, Men (Olympic)', 'Diving (Aquatics)', 'Springboard, Men (Olympic)', '1,000 metres Freestyle, Men (Olympic)', '200 metres Obstacle Course, Men (Olympic)', '440 yards Freestyle, Men (Olympic)', '880 yards Freestyle, Men (Olympic)', '1 mile Freestyle, Men (Olympic)', '4,000 metres Freestyle, Men (Olympic)', 'Synchronized Springboard, Men (Olympic)', 'Underwater Swimming, Men (Olympic)', 'Architecture, Designs For Town Planning, Open (Olympic)', '200 metres Team Swimming, Men (Olympic)', '50 yards Freestyle, Men (Olympic)', '4 × 50 yards Freestyle Relay, Men (Olympic)', '100 yards Backstroke, Men (Olympic)', '440 yards Breaststroke, Men (Olympic)', '100 yards Freestyle, Men (Olympic)', '220 yards Freestyle, Men (Olympic)', '100 metres Freestyle For Sailors, Men (Olympic)', 'Olympic Distance, Women (Olympic)', 'Plunge For Distance, Men (Olympic)', 'Beach Volleyball, Men (Olympic)', 'Beach Volleyball, Women (Olympic)', 'Volleyball, Women (Olympic)', 'Volleyball, Men (Olympic)', 'Middle-Heavyweight, Men (Olympic)', 'Heavyweight II, Men (Olympic)', 'Heavyweight I, Men (Olympic)', 'Long Jump, Women (Olympic)', '4 × 100 metres Relay, Women (Olympic)', 'Light-Heavyweight, Freestyle, Men (Olympic)', '20 kilometres Race Walk, Women (Olympic)', 'Featherweight, Greco-Roman, Men (Olympic)', 'Featherweight, Freestyle, Men (Olympic)', 'Light-Flyweight, Freestyle, Men (Olympic)', 'Bantamweight, Freestyle, Men (Olympic)', 'Flyweight, Freestyle, Men (Olympic)', 'Middleweight, Freestyle, Men (Olympic)', 'Bantamweight, Greco-Roman, Men (Olympic)', 'Middleweight, Greco-Roman, Men (Olympic)', 'Super-Heavyweight, Greco-Roman, Men (Olympic)', 'Super-Heavyweight, Freestyle, Men (Olympic)', 'Light-Heavyweight, Greco-Roman, Men (Olympic)', 'Flyweight, Greco-Roman, Men (Olympic)', 'Middleweight B, Greco-Roman, Men (Olympic)', 'Middleweight A, Greco-Roman, Men (Olympic)', 'Light-Flyweight, Greco-Roman, Men (Olympic)', 'Glíma', 'Two Person Dinghy, Women (Olympic)', 'Windsurfer, Women (Olympic)', 'One Person Dinghy, Women (Olympic)', 'Multihull, Open (Olympic)', 'Three Person Keelboat, Women (Olympic)', 'Two Person Dinghy, Open (Olympic)', '5.5 metres, Open (Olympic)', '7 metres, Open (Olympic)', 'Two Person Heavyweight Dinghy, Open (Olympic)', 'Windsurfer, Men (Olympic)', 'One Person Dinghy, Men (Olympic)', 'One Person Heavyweight Dinghy, Men (Olympic)', 'Windsurfer, Open (Olympic)', 'Open, Open (Olympic)', '1-2 Ton, Open (Olympic)', '12 metres, Open (Olympic)', '40 metres², Open (Olympic)', 'Two Person Dinghy, Men (Olympic)', '10 metres, Open (Olympic)', '½-1 Ton, Open (Olympic)', 'Music, Compositions For Orchestra, Open (Olympic)', 'Two Person Keelboat, Men (Olympic)', '30 metres², Open (Olympic)', '12 foot, Open (Olympic)', '10-20 Ton, Open (Olympic)', '2-3 Ton, Open (Olympic)', 'Skiff, Open (Olympic)', '0-½ Ton, Open (Olympic)', '20+ Ton, Open (Olympic)', '6.5 metres, Open (Olympic)', '3-10 Ton, Open (Olympic)', 'Multihull, Mixed (Olympic)', '400 metres Hurdles, Men (Olympic)', '200 metres, Women (Olympic)', '800 metres, Women (Olympic)', '1,500 metres, Women (Olympic)', 'Javelin Throw, Women (Olympic)', 'Heptathlon, Women (Olympic)', '20 kilometres Race Walk, Men (Olympic)', '50 kilometres Race Walk, Men (Olympic)', 'High Jump, Women (Olympic)', '100 metres, Women (Olympic)', 'Discus Throw, Women (Olympic)', '100 metres Hurdles, Women (Olympic)', '10,000 metres, Women (Olympic)', 'Marathon, Women (Olympic)', 'Shot Put, Women (Olympic)', '80 metres Hurdles, Women (Olympic)', 'Hammer Throw, Women (Olympic)', '10 kilometres Race Walk, Women (Olympic)', '400 metres Hurdles, Women (Olympic)', 'Pentathlon, Women (Olympic)', '10 miles Race Walk, Men (Olympic)', '10 kilometres Race Walk, Men (Olympic)', 'Boxing', 'Pentathlon, Men (Olympic)', 'Standing High Jump, Men (Olympic)', '3,500 metres Race Walk, Men (Olympic)', 'Cross-Country, Individual, Men (Olympic)', '3,000 metres Race Walk, Men (Olympic)', '60 metres, Men (Olympic)', '5,000 metres, Team, Men (Olympic)', 'Discus Throw, Both Hands, Men (Olympic)', 'Discus Throw, Greek Style, Men (Olympic)', '2,500 metres Steeplechase, Men (Olympic)', '3,200 metres Steeplechase, Men (Olympic)', '3,000 metres, Team, Men (Olympic)', 'Cross-Country, Team, Men (Olympic)', 'Standing Triple Jump, Men (Olympic)', 'Javelin Throw, Freestyle, Men (Olympic)', '1,600 metres Medley Relay, Men (Olympic)', '4,000 metres Steeplechase, Men (Olympic)', '3,000 metres Steeplechase, Women (Olympic)', 'Shot Put, Both Hands, Men (Olympic)', '3 miles, Team, Men (Olympic)', 'Rugby (Rugby)', '4 miles, Team, Men (Olympic)', '2,590 metres Steeplechase, Men (Olympic)', 'All-Around Championship, Men (Olympic)', 'Ski Jumping (Skiing)', 'Large Hill, Individual, Men (Olympic)', 'Nordic Combined (Skiing)', 'Basketball (Basketball)', 'Literature, Dramatic Works, Open (Olympic)', 'Pairs, Mixed (Olympic)', '15 kilometres, Men (Olympic)', '30 kilometres, Men (Olympic)', 'Literature, Epic Works, Open (Olympic)', 'Baseball (Baseball/Softball)', 'Two-Man Teams With Cesta, Men (Olympic)', 'Slalom, Women (Olympic)', '5 kilometres, Women (Olympic)', '10 kilometres, Women (Olympic)', '20 kilometres, Women (Olympic)', '3 × 5 kilometres Relay, Women (Olympic)', '7.5 kilometres Sprint, Women (Olympic)', '15 kilometres, Women (Olympic)', '3 × 7.5 kilometres Relay, Women (Olympic)', '4 × 7.5 kilometres Relay, Women (Olympic)', 'Downhill, Women (Olympic)', 'Giant Slalom, Women (Olympic)', '30 kilometres, Women (Olympic)', '5/10 kilometres Pursuit, Women (Olympic)', '4 × 5 kilometres Relay, Women (Olympic)', '5/5 kilometres Pursuit, Women (Olympic)', '1,000 metres, Women (Olympic)', '3,000 metres Relay, Women (Olympic)', '10 kilometres Pursuit, Women (Olympic)', '4 × 6 kilometres Relay, Women (Olympic)', 'Ice Dancing, Mixed (Olympic)', '500 metres, Women (Olympic)', 'Super G, Women (Olympic)', 'Combined, Women (Olympic)', 'Moguls, Women (Olympic)', 'Aerials, Women (Olympic)', '12.5 kilometres Mass Start, Women (Olympic)', 'Ski Cross, Women (Olympic)', '15 kilometres Skiathlon, Women (Olympic)', 'Mass Start, Women (Olympic)', '10 kilometres Sprint, Men (Olympic)', '4 × 7.5 kilometres Relay, Men (Olympic)', 'Giant Slalom, Men (Olympic)', 'Slalom, Men (Olympic)', '500 metres, Men (Olympic)', '1,000 metres, Men (Olympic)', 'Downhill, Men (Olympic)', 'Super G, Men (Olympic)', 'Normal Hill, Individual, Men (Olympic)', 'Large Hill, Team, Men (Olympic)', '5,000 metres Relay, Men (Olympic)', '10 kilometres, Men (Olympic)', '10/15 kilometres Pursuit, Men (Olympic)', 'Curling', 'Curling, Men (Olympic)', 'Moguls, Men (Olympic)', '10/10 kilometres Pursuit, Men (Olympic)', 'Luge', 'Allround, Men (Olympic)', '30 kilometres Skiathlon, Men (Olympic)', 'Military Ski Patrol (Skiing)', 'Aerials, Men (Olympic)', 'Skeleton (Bobsleigh)', '12.5 kilometres Pursuit, Men (Olympic)', '15 kilometres Mass Start, Men (Olympic)', '2 × 6 kilometres and 2 × 7.5 kilometres Relay, Mixed (Olympic)', 'Team Pursuit (8 laps), Men (Olympic)', 'Special Figures, Men (Olympic)', 'Speed Skating (Skating)', 'Ice Hockey (Ice Hockey)', 'Bobsleigh (Bobsleigh)', 'Team Relay, Mixed (Olympic)', 'Alpine Skiing (Skiing)', 'Normal Hill / 10 km, Individual, Men (Olympic)', 'Large Hill / 10 km, Individual, Men (Olympic)', 'Sculpturing, Medals, Open (Olympic)', 'Kayak Singles, 200 metres, Women (Olympic)', 'Kayak Singles, 200 metres, Men (Olympic)', 'Kayak Doubles, 200 metres, Men (Olympic)', 'Kayak Fours, 500 metres, Men (Olympic)', 'Omnium, Women (Olympic)', 'BMX, Men (Olympic)', 'Lightweight, Freestyle, Women (Olympic)', 'Trap, Team, Mixed (Olympic)', 'Air Pistol, 10 metres, Team, Mixed (Olympic)', 'Marathon Swimming (Aquatics)', '10 kilometres Open Water, Women (Olympic)', '10 kilometres Open Water, Men (Olympic)', 'Flyweight, Women (Olympic)', 'Featherweight, Women (Olympic)', 'Welterweight, Women (Olympic)', 'Olympic Distance, Men (Olympic)', 'Water Polo, Women (Olympic)', 'Light-Heavyweight, Women (Olympic)', 'Super-Heavyweight, Women (Olympic)', 'Ski Cross, Men (Olympic)', 'Skijoring (Skiing)', 'Parallel Giant Slalom, Men (Olympic)', 'Cross, Men (Olympic)', 'Parallel Slalom, Men (Olympic)', 'Halfpipe, Men (Olympic)', 'Halfpipe, Women (Olympic)', 'Cross, Women (Olympic)', 'Parallel Giant Slalom, Women (Olympic)', 'Curling, Women (Olympic)', 'Ice Hockey, Women (Olympic)', '18 foot, Open (Olympic)', 'Slopestyle, Women (Olympic)', 'Parallel Slalom, Women (Olympic)', 'Skeleton, Women (Olympic)', 'Four, Open (Olympic)', 'Unknown Event, Men (Olympic)', '4 × 100 metres Medley Relay, Mixed (Olympic)', '1,500 metres Freestyle, Women (Olympic)', 'Skiff, Women (Olympic)', 'Skiff, Men (Olympic)', 'Air Rifle, 10 metres, Team, Mixed (Olympic)', 'Canadian Singles, 200 metres, Men (Olympic)', 'Sabre, Individual, Women (Olympic)', 'Sabre, Team, Women (Olympic)', 'Relay, Mixed (Olympic)', 'Flyweight, Freestyle, Women (Olympic)', 'Featherweight, Freestyle, Women (Olympic)', 'Middleweight, Freestyle, Women (Olympic)', 'Mass Start, Men (Olympic)', 'Normal Hill, Team, Mixed (Olympic)', 'Slopestyle, Men (Olympic)', '2,000 metres Relay, Mixed (Olympic)', 'Big Air, Women (Olympic)', 'Team Cross, Mixed (Olympic)', 'Individual, Girls (YOG)', 'Team, Mixed Youth (YOG)', '50 metres Freestyle, Girls (YOG)', '4 × 100 metres Freestyle Relay, Mixed Youth (YOG)', '100 metres Freestyle, Girls (YOG)', '4 × 100 metres Medley Relay, Mixed Youth (YOG)', '200 metres Freestyle, Girls (YOG)', '4 × 100 metres Freestyle Relay, Girls (YOG)', '4 × 100 metres Medley Relay, Girls (YOG)', 'BMX, Women (Olympic)', '4 × 400 metres Relay, Mixed (Olympic)', '50 metres Freestyle, Boys (YOG)', '100 metres Freestyle, Boys (YOG)', '200 metres Freestyle, Boys (YOG)', '100 metres Backstroke, Boys (YOG)', '200 metres Individual Medley, Boys (YOG)', '50 metres Backstroke, Girls (YOG)', '100 metres Backstroke, Girls (YOG)', '200 metres Breaststroke, Girls (YOG)', '200 metres Individual Medley, Girls (YOG)', '400 metres Freestyle, Girls (YOG)', '200 metres Butterfly, Girls (YOG)', '100 metres Butterfly, Boys (YOG)', '200 metres Butterfly, Boys (YOG)', 'Springboard, Girls (YOG)', 'Platform, Girls (YOG)', 'Springboard, Boys (YOG)', 'Canadian Singles, Slalom, Women (Olympic)', '50 metres Breaststroke, Girls (YOG)', '100 metres Breaststroke, Girls (YOG)', '100 metres Butterfly, Girls (YOG)', 'Light-Heavyweight, Freestyle, Women (Olympic)', 'Monobob, Women (Olympic)', 'Mixed Doubles, Mixed (Olympic)', 'Team Aerials, Mixed (Olympic)', 'Big Air, Men (Olympic)', 'Short Track Speed Skating (Skating)', '10,000 metres Race Walk, Boys (YOG)', 'Foil, Individual, Girls (YOG)', 'Mixed Weapon, Team, Mixed Youth (YOG)', '100 metres Hurdles, Girls (YOG)', 'Air Rifle, 10 metres, Girls (YOG)', '50 metres Breaststroke, Boys (YOG)', '100 metres Breaststroke, Boys (YOG)', 'Long Jump, Girls (YOG)', '200 metres, Boys (YOG)', 'Medley Relay, Boys (YOG)', '100 metres, Boys (YOG)', '50 metres Butterfly, Girls (YOG)', 'Kayak Singles, Head to Head, Girls (YOG)', 'Kayak Singles, Obstacle Slalom, Girls (YOG)', 'Group, Girls (YOG)', 'Singles, Girls (YOG)', 'Individual All-Around, Girls (YOG)', 'Floor Exercise, Girls (YOG)', 'Vault, Girls (YOG)', 'Uneven Bars, Girls (YOG)', 'Balance Beam, Girls (YOG)', 'Singles, Boys (YOG)', '200 metres Breaststroke, Boys (YOG)', 'Pole Vault, Girls (YOG)', '200 metres Backstroke, Boys (YOG)', 'Lightweight, Boys (YOG)', '400 metres Hurdles, Girls (YOG)', '≤63 kilograms, Girls (YOG)', 'Long Jump, Boys (YOG)', '≤55 kilograms, Girls (YOG)', 'Air Rifle, 10 metres, Boys (YOG)', '100 metres, Girls (YOG)', 'Platform, Boys (YOG)', '200 metres Backstroke, Girls (YOG)', '400 metres, Boys (YOG)', '3,000 metres, Boys (YOG)', '3,000 metres, Girls (YOG)', 'Featherweight, Boys (YOG)', 'Bantamweight, Boys (YOG)', 'Individual, Boys (YOG)', 'Pole Vault, Boys (YOG)', 'Hockey, Boys (YOG)', 'Middleweight, Boys (YOG)', 'Featherweight, Girls (YOG)', '400 metres, Girls (YOG)', 'Medley Relay, Girls (YOG)', 'Air Pistol, 10 metres, Boys (YOG)', '50 metres Butterfly, Boys (YOG)', '800 metres Freestyle, Men (Olympic)', '50 metres Backstroke, Boys (YOG)', '1,000 metres, Girls (YOG)', 'Light-Heavyweight, Boys (YOG)', 'Lightweight, Girls (YOG)', 'Individual All-Around, Boys (YOG)', 'Floor Exercise, Boys (YOG)', 'Vault, Boys (YOG)', 'Parallel Bars, Boys (YOG)', 'Rings, Boys (YOG)', 'Pommelled Horse, Boys (YOG)', '400 metres Freestyle, Boys (YOG)', '4 × 100 metres Freestyle Relay, Boys (YOG)', '4 × 100 metres Medley Relay, Boys (YOG)', 'Relay, Mixed Youth (YOG)', 'Combined Team, Mixed Youth (YOG)', 'Madison, Women (Olympic)', 'Single Sculls, Boys (YOG)', 'Horizontal Bar, Boys (YOG)', 'Javelin Throw, Boys (YOG)', '800 metres Freestyle, Girls (YOG)', '≤55 kilograms, Boys (YOG)', 'Heavyweight, Boys (YOG)', 'Flyweight, Boys (YOG)', 'Doubles, Girls (YOG)', 'Middleweight, Girls (YOG)', 'Hockey, Girls (YOG)', '1,000 metres, Boys (YOG)', 'Air Pistol, 10 metres, Girls (YOG)', 'Handball, Girls (YOG)', '3x3 Basketball, Girls (YOG)', 'Foil, Individual, Boys (YOG)', 'Super-Heavyweight, Boys (YOG)', 'One Person Dinghy, Girls (YOG)', 'Welterweight, Boys (YOG)', 'Coxless Pairs, Girls (YOG)', 'High Jump, Boys (YOG)', 'Super G, Boys (YOG)', 'Giant Slalom, Boys (YOG)', 'Slalom, Boys (YOG)', 'Combined, Boys (YOG)', 'Super G, Girls (YOG)', 'Giant Slalom, Girls (YOG)', 'Slalom, Girls (YOG)', 'Combined, Girls (YOG)', 'Sprint, Girls (YOG)', '5 kilometres, Girls (YOG)', 'Two, Boys (YOG)', 'Halfpipe, Boys (YOG)', 'Slopestyle, Boys (YOG)', 'Team Relay, Mixed Youth (YOG)', 'Normal Hill, Individual, Women (Olympic)', 'Medium Hill, Individual, Girls (YOG)', 'Medium Hill, Team, Mixed Youth (YOG)', 'Medium Hill, Individual, Boys (YOG)', '6 kilometres Sprint, Girls (YOG)', '7.5 kilometres Pursuit, Girls (YOG)', 'Medium Hill / 10 km, Individual, Boys (YOG)', 'Snowboarding (Skiing)', 'Halfpipe, Girls (YOG)', '2 × 6 kilometres and 2 × 7.5 kilometres Relay, Mixed Youth (YOG)', 'Cross-Country / Biathlon Relay, Mixed Youth (YOG)', '500 metres, Girls (YOG)', '3,000 metres Relay, Mixed Youth (YOG)', 'Park, Men (Olympic)', 'Two, Girls (YOG)', 'Sprint, Boys (YOG)', '10 kilometres, Boys (YOG)', 'Ice Hockey, Girls (YOG)', '7.5 kilometres Sprint, Boys (YOG)', '10 kilometres Pursuit, Boys (YOG)', 'Air Rifle, 10 metres, Team, Mixed Youth (YOG)', 'Heavyweight, Girls (YOG)', '8 × 100 metres Relay, Mixed Youth (YOG)', 'Rugby Sevens, Women (Olympic)', '200 metres, Girls (YOG)', 'Hammer Throw, Girls (YOG)', '2,000 metres Steeplechase, Girls (YOG)', '≤52 kilograms, Girls (YOG)', 'Rugby Sevens, Girls (YOG)', '≤70 kilograms, Freestyle, Girls (YOG)', 'Hockey 5s, Girls (YOG)', '>63 kilograms, Girls (YOG)', 'High Jump, Girls (YOG)', 'Single Sculls, Girls (YOG)', '1,500 metres, Girls (YOG)', 'Air Pistol, 10 metres, Team, Mixed Youth (YOG)', '≤46 kilograms, Freestyle, Girls (YOG)', 'Javelin Throw, Girls (YOG)', 'Discus Throw, Girls (YOG)', '5,000 metres Race Walk, Girls (YOG)', 'Flyweight, Girls (YOG)', 'Doubles, Mixed Youth (YOG)', 'Sabre, Individual, Girls (YOG)', '≤49 kilograms, Girls (YOG)', 'Windsurfer, Girls (YOG)', '800 metres, Girls (YOG)', 'Super-Heavyweight, Girls (YOG)', 'Triple Jump, Girls (YOG)', '≤44 kilograms, Girls (YOG)', 'Épée, Individual, Girls (YOG)', '≤78 kilograms, Girls (YOG)', '2,000 metres Steeplechase, Boys (YOG)', '800 metres Freestyle, Boys (YOG)', 'Rugby Sevens, Men (Olympic)', 'Windsurfer, Boys (YOG)', 'Volleyball, Boys (YOG)', 'Shot Put, Boys (YOG)', 'Coxless Pairs, Boys (YOG)', 'Triple Jump, Boys (YOG)', 'Light-Flyweight, Boys (YOG)', '400 metres Hurdles, Boys (YOG)', 'Doubles, Boys (YOG)', 'Individual, Open Youth (YOG)', 'Team, Open Youth (YOG)', '≤100 kilograms, Boys (YOG)', 'Canoe Singles, Head to Head, Boys (YOG)', 'Canoe Singles, Obstacle Slalom, Boys (YOG)', 'Épée, Individual, Boys (YOG)', '≤76 kilograms, Freestyle, Boys (YOG)', '110 metres Hurdles, Boys (YOG)', '≤81 kilograms, Boys (YOG)', 'Kayak Singles, Head to Head, Boys (YOG)', 'Kayak Singles, Obstacle Slalom, Boys (YOG)', '1,500 metres, Boys (YOG)', '≤85 kilograms, Greco Roman, Boys (YOG)', 'One Person Dinghy, Boys (YOG)', 'Handball, Boys (YOG)', 'Rugby Sevens, Boys (YOG)', '≤100 kilograms, Freestyle, Boys (YOG)', '≤73 kilograms, Boys (YOG)', '≤66 kilograms, Boys (YOG)', 'Discus Throw, Boys (YOG)', 'Hammer Throw, Boys (YOG)', 'Combined Team, Boys (YOG)', 'Hockey 5s, Boys (YOG)', '≤48 kilograms, Boys (YOG)', 'Sabre, Individual, Boys (YOG)', 'Cross, Boys (YOG)', 'Freestyle Skiing (Skiing)', 'Ski Cross, Boys (YOG)', 'Slopestyle, Girls (YOG)', 'Doubles, Open Youth (YOG)', 'Skeleton, Girls (YOG)', '6 and 7.5 kilometres Single Relay, Mixed Youth (YOG)', 'Ski Cross, Girls (YOG)', 'Cross, Girls (YOG)', 'Pairs, Mixed Youth (YOG)', 'Team Sprint, Mixed Youth (YOG)', 'Mass Start, Girls (YOG)', '500 metres, Boys (YOG)', 'Cross-Country Skiing / Ski Jumping / Nordic Combined Team, Mixed Youth (YOG)', 'Normal Hill, Team, Mixed Youth (YOG)', 'Normal Hill / 5 km, Individual, Boys (YOG)', 'Normal Hill, Individual, Boys (YOG)', 'Ice Dancing, Mixed Youth (YOG)', 'Freestyle/Snowboard Relay, Mixed Youth (YOG)', 'Curling, Mixed Youth (YOG)', 'Normal Hill, Individual, Girls (YOG)', 'Mass Start, Boys (YOG)', 'Skills Challenge, Girls (YOG)', 'Monobob, Boys (YOG)', 'Big Air, Girls (YOG)', 'Skeleton, Boys (YOG)', 'Monobob, Girls (YOG)', '10 kilometres, Girls (YOG)', '12.5 kilometres, Boys (YOG)', 'Big Air, Boys (YOG)', '3-on-3 Ice Hockey, Boys (YOG)', '3-on-3 Ice Hockey, Girls (YOG)', 'Ice Hockey, Boys (YOG)', '3-on-3 Ice Hockey (Ice Hockey)', 'Normal Hill / 6 km, Individual, Boys (YOG)', 'Normal Hill / 4 km, Individual, Girls (YOG)', 'Kumite, >61 kg, Women (Olympic)', 'Shortboard, Men (Olympic)', 'Park, Women (Olympic)', 'Canadian Singles, 200 metres, Women (Olympic)', 'Canadian Doubles, 500 metres, Women (Olympic)', 'Street, Women (Olympic)', 'Shortboard, Women (Olympic)', 'Kumite, ≤75 kg, Men (Olympic)', 'Street, Men (Olympic)', 'Kumite, ≤55 kg, Women (Olympic)', 'Kumite, ≤67 kg, Men (Olympic)', '3x3 Basketball, Men (Olympic)', 'Kumite, >75 kg, Men (Olympic)', '3x3 Basketball, Women (Olympic)', 'Football, Girls (YOG)', 'Kumite, ≤61 kg, Women (Olympic)', 'Kata, Men (Olympic)', 'Kata, Women (Olympic)']\n"
     ]
    }
   ],
   "source": [
    "print(list(df2['event'].unique()))"
   ]
  },
  {
   "cell_type": "code",
   "execution_count": 14,
   "id": "4408ba08-6dfb-42bf-bdad-5f72e89c9a4d",
   "metadata": {},
   "outputs": [
    {
     "name": "stdout",
     "output_type": "stream",
     "text": [
      "0\n"
     ]
    }
   ],
   "source": [
    "print(df2[df2['event'].str.contains('painting', case=False)].shape[0])"
   ]
  },
  {
   "cell_type": "code",
   "execution_count": 15,
   "id": "9dc1e36f-0e5c-4c6c-b1f3-844d5cb0aa56",
   "metadata": {},
   "outputs": [
    {
     "name": "stdout",
     "output_type": "stream",
     "text": [
      "12280\n"
     ]
    }
   ],
   "source": [
    "print(df2[df2['event'].str.contains('open', case=False)].shape[0])"
   ]
  },
  {
   "cell_type": "code",
   "execution_count": 16,
   "id": "7fa72672-bb2e-4eb3-9827-7e971388bfee",
   "metadata": {},
   "outputs": [
    {
     "name": "stdout",
     "output_type": "stream",
     "text": [
      "0\n"
     ]
    }
   ],
   "source": [
    "print(df2[df2['event'].str.contains('non-medal', case=False)].shape[0])"
   ]
  },
  {
   "cell_type": "code",
   "execution_count": 17,
   "id": "1eebc031-2ce5-41d9-bb9b-06580f354dab",
   "metadata": {},
   "outputs": [
    {
     "name": "stdout",
     "output_type": "stream",
     "text": [
      "<class 'pandas.core.frame.DataFrame'>\n",
      "Index: 304314 entries, 0 to 304336\n",
      "Data columns (total 10 columns):\n",
      " #   Column      Non-Null Count   Dtype   \n",
      "---  ------      --------------   -----   \n",
      " 0   year        304314 non-null  float64 \n",
      " 1   type        304314 non-null  category\n",
      " 2   discipline  304313 non-null  category\n",
      " 3   event       304314 non-null  object  \n",
      " 4   as          304314 non-null  object  \n",
      " 5   athlete_id  304314 non-null  int64   \n",
      " 6   noc         304313 non-null  category\n",
      " 7   place       280355 non-null  float64 \n",
      " 8   tied        304314 non-null  bool    \n",
      " 9   medal       43630 non-null   category\n",
      "dtypes: bool(1), category(4), float64(2), int64(1), object(2)\n",
      "memory usage: 15.7+ MB\n",
      "None\n",
      "--------------------------------------------------------------------------------\n",
      "0\n"
     ]
    }
   ],
   "source": [
    "# Eliminamos valores con non-medal\n",
    "df2 = df2[~df2['event'].str.contains('non-medal', case=False)]\n",
    "print(df2.info())\n",
    "print('-' * 80)\n",
    "print(df2[df2['event'].str.contains('non-medal', case=False)].shape[0])"
   ]
  },
  {
   "cell_type": "code",
   "execution_count": 18,
   "id": "c4c217c3-cb20-4416-928b-c40cfe460b51",
   "metadata": {},
   "outputs": [
    {
     "name": "stdout",
     "output_type": "stream",
     "text": [
      "<class 'pandas.core.frame.DataFrame'>\n",
      "Index: 304314 entries, 0 to 304336\n",
      "Data columns (total 10 columns):\n",
      " #   Column      Non-Null Count   Dtype   \n",
      "---  ------      --------------   -----   \n",
      " 0   year        304314 non-null  float64 \n",
      " 1   type        304314 non-null  category\n",
      " 2   discipline  304313 non-null  category\n",
      " 3   event       304314 non-null  object  \n",
      " 4   as          304314 non-null  object  \n",
      " 5   athlete_id  304314 non-null  int64   \n",
      " 6   noc         304313 non-null  category\n",
      " 7   place       280355 non-null  float64 \n",
      " 8   tied        304314 non-null  bool    \n",
      " 9   medal       43630 non-null   category\n",
      "dtypes: bool(1), category(4), float64(2), int64(1), object(2)\n",
      "memory usage: 15.7+ MB\n",
      "None\n",
      "--------------------------------------------------------------------------------\n",
      "0\n"
     ]
    }
   ],
   "source": [
    "# Eliminamos valores con Intercalated\n",
    "df2 = df2[~df2['event'].str.contains('Intercalated', case=False)]\n",
    "print(df2.info())\n",
    "print('-' * 80)\n",
    "print(df2[df2['event'].str.contains('Intercalated', case=False)].shape[0])"
   ]
  },
  {
   "cell_type": "code",
   "execution_count": 19,
   "id": "305b8eb6-b9d5-412f-af35-96278b8d1660",
   "metadata": {},
   "outputs": [
    {
     "name": "stdout",
     "output_type": "stream",
     "text": [
      "<class 'pandas.core.frame.DataFrame'>\n",
      "Index: 304314 entries, 0 to 304336\n",
      "Data columns (total 10 columns):\n",
      " #   Column      Non-Null Count   Dtype   \n",
      "---  ------      --------------   -----   \n",
      " 0   year        304314 non-null  float64 \n",
      " 1   type        304314 non-null  category\n",
      " 2   discipline  304313 non-null  category\n",
      " 3   event       304314 non-null  object  \n",
      " 4   as          304314 non-null  object  \n",
      " 5   athlete_id  304314 non-null  int64   \n",
      " 6   noc         304313 non-null  category\n",
      " 7   place       280355 non-null  float64 \n",
      " 8   tied        304314 non-null  bool    \n",
      " 9   medal       43630 non-null   category\n",
      "dtypes: bool(1), category(4), float64(2), int64(1), object(2)\n",
      "memory usage: 15.7+ MB\n",
      "None\n",
      "--------------------------------------------------------------------------------\n",
      "0\n"
     ]
    }
   ],
   "source": [
    "# Eliminamos valores con Painting\n",
    "df2 = df2[~df2['event'].str.contains('Painting', case=False)]\n",
    "print(df2.info())\n",
    "print('-' * 80)\n",
    "print(df2[df2['event'].str.contains('Painting', case=False)].shape[0])"
   ]
  },
  {
   "cell_type": "code",
   "execution_count": 20,
   "id": "4a8004fd-e8fa-4233-bdc4-a0872e7dd299",
   "metadata": {},
   "outputs": [
    {
     "name": "stdout",
     "output_type": "stream",
     "text": [
      "7416\n",
      "--------------------------------------------------------------------------------\n",
      "5842\n"
     ]
    }
   ],
   "source": [
    "print(df2[~df2['event'].str.contains('Olympic', case=False)].shape[0])\n",
    "print('-' * 80)\n",
    "print(df2[df2['event'].str.contains('YOG', case=False)].shape[0])"
   ]
  },
  {
   "cell_type": "code",
   "execution_count": 21,
   "id": "ef0da3e2-c69d-4ccd-a340-589337d7de50",
   "metadata": {},
   "outputs": [
    {
     "name": "stdout",
     "output_type": "stream",
     "text": [
      "['Tennis', 'Polo', 'Swimming (Aquatics)', 'Weightlifting', 'Wrestling', 'Athletics', 'Golf', 'Football (Football)', 'Canoe Marathon (Canoeing)', 'Equestrian Eventing (Equestrian)', 'Equestrian Dressage (Equestrian)', 'Equestrian Driving (Equestrian)', 'Cycling Track (Cycling)', 'Cycling Mountain Bike (Cycling)', 'Cycling Road (Cycling)', 'Tug-Of-War', 'Racquets', 'Hockey', 'Modern Pentathlon', 'Water Polo (Aquatics)', 'Rowing', 'Shooting', 'Fencing', 'Art Competitions', 'Artistic Gymnastics (Gymnastics)', 'Handball', 'Cross Country Skiing (Skiing)', 'Diving (Aquatics)', 'Glíma', 'Boxing', 'Rugby (Rugby)', 'Ski Jumping (Skiing)', 'Nordic Combined (Skiing)', 'Basketball (Basketball)', 'Baseball (Baseball/Softball)', 'Curling', 'Luge', 'Military Ski Patrol (Skiing)', 'Skeleton (Bobsleigh)', 'Speed Skating (Skating)', 'Ice Hockey (Ice Hockey)', 'Bobsleigh (Bobsleigh)', 'Alpine Skiing (Skiing)', 'Marathon Swimming (Aquatics)', 'Skijoring (Skiing)', 'Short Track Speed Skating (Skating)', 'Snowboarding (Skiing)', 'Freestyle Skiing (Skiing)', '3-on-3 Ice Hockey (Ice Hockey)']\n"
     ]
    }
   ],
   "source": [
    "# Filtrar eventos que NO contienen 'Olympic' ni 'YOG' y obtener los únicos\n",
    "non_olympic_yog_unique_events = df2[\n",
    "    ~df2['event'].str.contains('Olympic', case=False) & \n",
    "    ~df2['event'].str.contains('YOG', case=False)\n",
    "]['event'].unique()\n",
    "\n",
    "# Convertir a lista si deseas\n",
    "non_olympic_yog_unique_events_list = non_olympic_yog_unique_events.tolist()\n",
    "2615\n",
    "# Imprimir los eventos únicos\n",
    "print(non_olympic_yog_unique_events_list)"
   ]
  },
  {
   "cell_type": "code",
   "execution_count": 22,
   "id": "44d78957-03a6-4a64-9844-8d848ef4f140",
   "metadata": {},
   "outputs": [
    {
     "name": "stdout",
     "output_type": "stream",
     "text": [
      "event\n",
      "Cycling Track (Cycling)                353\n",
      "Nordic Combined (Skiing)               167\n",
      "Water Polo (Aquatics)                  149\n",
      "Ski Jumping (Skiing)                   145\n",
      "Canoe Marathon (Canoeing)              111\n",
      "Cross Country Skiing (Skiing)           88\n",
      "Swimming (Aquatics)                     78\n",
      "Equestrian Eventing (Equestrian)        74\n",
      "Athletics                               46\n",
      "Modern Pentathlon                       41\n",
      "Fencing                                 26\n",
      "Baseball (Baseball/Softball)            24\n",
      "Marathon Swimming (Aquatics)            24\n",
      "Equestrian Dressage (Equestrian)        23\n",
      "Tug-Of-War                              22\n",
      "Artistic Gymnastics (Gymnastics)        20\n",
      "Shooting                                19\n",
      "Tennis                                  16\n",
      "Cycling Mountain Bike (Cycling)         15\n",
      "3-on-3 Ice Hockey (Ice Hockey)          13\n",
      "Wrestling                               13\n",
      "Military Ski Patrol (Skiing)            11\n",
      "Weightlifting                           10\n",
      "Cycling Road (Cycling)                   8\n",
      "Football (Football)                      6\n",
      "Basketball (Basketball)                  5\n",
      "Art Competitions                         5\n",
      "Short Track Speed Skating (Skating)      5\n",
      "Speed Skating (Skating)                  5\n",
      "Hockey                                   5\n",
      "Ice Hockey (Ice Hockey)                  4\n",
      "Luge                                     4\n",
      "Skeleton (Bobsleigh)                     4\n",
      "Alpine Skiing (Skiing)                   4\n",
      "Snowboarding (Skiing)                    3\n",
      "Glíma                                    3\n",
      "Equestrian Driving (Equestrian)          3\n",
      "Freestyle Skiing (Skiing)                3\n",
      "Rowing                                   3\n",
      "Rugby (Rugby)                            3\n",
      "Racquets                                 2\n",
      "Bobsleigh (Bobsleigh)                    2\n",
      "Curling                                  2\n",
      "Boxing                                   2\n",
      "Golf                                     1\n",
      "Polo                                     1\n",
      "Diving (Aquatics)                        1\n",
      "Handball                                 1\n",
      "Skijoring (Skiing)                       1\n",
      "Name: count, dtype: int64\n"
     ]
    }
   ],
   "source": [
    "# Filtrar eventos que NO contienen 'Olympic' ni 'YOG'\n",
    "filtered_events = df2[\n",
    "    ~df2['event'].str.contains('Olympic', case=False) & \n",
    "    ~df2['event'].str.contains('YOG', case=False)\n",
    "]\n",
    "\n",
    "# Contar la frecuencia de cada evento\n",
    "event_counts = filtered_events['event'].value_counts()\n",
    "\n",
    "# Imprimir los resultados\n",
    "print(event_counts)"
   ]
  },
  {
   "cell_type": "code",
   "execution_count": 23,
   "id": "b101e002-f026-4e71-bd51-1cb1ad29d8ee",
   "metadata": {},
   "outputs": [
    {
     "name": "stdout",
     "output_type": "stream",
     "text": [
      "event\n",
      "Athletics            46\n",
      "Modern Pentathlon    41\n",
      "Fencing              26\n",
      "Tug-Of-War           22\n",
      "Shooting             19\n",
      "Tennis               16\n",
      "Wrestling            13\n",
      "Weightlifting        10\n",
      "Hockey                5\n",
      "Art Competitions      5\n",
      "Luge                  4\n",
      "Rowing                3\n",
      "Glíma                 3\n",
      "Curling               2\n",
      "Racquets              2\n",
      "Boxing                2\n",
      "Polo                  1\n",
      "Golf                  1\n",
      "Handball              1\n",
      "Name: count, dtype: int64\n"
     ]
    }
   ],
   "source": [
    "# Filtrar eventos que NO contienen 'Olympic', 'YOG' y paréntesis\n",
    "filtered_events = df2[\n",
    "    ~df2['event'].str.contains('Olympic', case=False) & \n",
    "    ~df2['event'].str.contains('YOG', case=False) &\n",
    "    ~df2['event'].str.contains(r'\\(.*\\)', regex=True)  # Verifica que no haya paréntesis\n",
    "]\n",
    "\n",
    "# Contar la frecuencia de cada evento que cumple con las condiciones\n",
    "event_counts = filtered_events['event'].value_counts()\n",
    "\n",
    "# Imprimir los resultados\n",
    "print(event_counts)\n"
   ]
  },
  {
   "cell_type": "code",
   "execution_count": 24,
   "id": "a37ef919-559a-4e4e-bf41-a736b74b4504",
   "metadata": {},
   "outputs": [
    {
     "name": "stdout",
     "output_type": "stream",
     "text": [
      "event\n",
      "Athletics            46\n",
      "Modern Pentathlon    41\n",
      "Fencing              26\n",
      "Tug-Of-War           22\n",
      "Shooting             19\n",
      "Tennis               16\n",
      "Wrestling            13\n",
      "Weightlifting        10\n",
      "Hockey                5\n",
      "Art Competitions      5\n",
      "Luge                  4\n",
      "Rowing                3\n",
      "Glíma                 3\n",
      "Curling               2\n",
      "Racquets              2\n",
      "Boxing                2\n",
      "Polo                  1\n",
      "Golf                  1\n",
      "Handball              1\n",
      "Name: count, dtype: int64\n",
      "Empty DataFrame\n",
      "Columns: [event, year, place]\n",
      "Index: []\n"
     ]
    }
   ],
   "source": [
    "# Filtrar eventos que NO contienen 'Olympic', 'YOG', paréntesis y que tienen registros vacíos en 'place'\n",
    "filtered_events = df2[\n",
    "    ~df2['event'].str.contains('Olympic', case=False) & \n",
    "    ~df2['event'].str.contains('YOG', case=False) &\n",
    "    ~df2['event'].str.contains(r'\\(.*\\)', regex=True) &  # Sin paréntesis\n",
    "    df2['place'].isnull()  # Sin registros en 'place'\n",
    "]\n",
    "\n",
    "# Contar la frecuencia de cada evento que cumple con las condiciones\n",
    "event_counts = filtered_events['event'].value_counts()\n",
    "\n",
    "# Imprimir los resultados\n",
    "print(event_counts)\n",
    "\n",
    "filtered_events_2020 = filtered_events[filtered_events['year'] == 2020]\n",
    "\n",
    "# Seleccionar las columnas 'event', 'year' y 'place'\n",
    "results = filtered_events_2020[['event', 'year', 'place']]\n",
    "\n",
    "# Imprimir los resultados\n",
    "print(results)"
   ]
  },
  {
   "cell_type": "code",
   "execution_count": 25,
   "id": "165bd28c-dd6e-41ef-bdf0-8083d6d0bbed",
   "metadata": {},
   "outputs": [
    {
     "name": "stdout",
     "output_type": "stream",
     "text": [
      "Series([], Name: count, dtype: int64)\n"
     ]
    }
   ],
   "source": [
    "# Filtrar eventos que NO contienen 'Olympic', 'YOG', paréntesis, tienen registros vacíos en 'place'\n",
    "# y son eventos de 'mixed sports'\n",
    "filtered_events = df2[\n",
    "    ~df2['event'].str.contains('Olympic', case=False) & \n",
    "    ~df2['event'].str.contains('YOG', case=False) &\n",
    "    ~df2['event'].str.contains(r'\\(.*\\)', regex=True) &  # Sin paréntesis\n",
    "    df2['place'].isnull() &  # Sin registros en 'place'\n",
    "    df2['event'].str.contains('mixed', case=False)  # Eventos de mixed sports\n",
    "]\n",
    "\n",
    "# Contar la frecuencia de cada evento que cumple con las condiciones\n",
    "event_counts = filtered_events['event'].value_counts()\n",
    "\n",
    "# Imprimir los resultados\n",
    "print(event_counts)\n"
   ]
  },
  {
   "cell_type": "code",
   "execution_count": 26,
   "id": "f5c9698a-062f-4fe9-a140-3cec4d430ec8",
   "metadata": {},
   "outputs": [
    {
     "name": "stdout",
     "output_type": "stream",
     "text": [
      "[]\n"
     ]
    }
   ],
   "source": [
    "# Filtrar disciplinas donde el evento contiene 'mixed'\n",
    "mixed_discipline_unique = df2[df2['event'].str.contains('mixed sports', case=False)]['discipline'].unique()\n",
    "\n",
    "# Convertir a lista si deseas\n",
    "mixed_discipline_unique_list = mixed_discipline_unique.tolist()\n",
    "\n",
    "# Imprimir los resultados\n",
    "print(mixed_discipline_unique_list)\n"
   ]
  },
  {
   "cell_type": "code",
   "execution_count": 27,
   "id": "e7cb2b69-4e0c-4966-b4c9-7604d99bbfc1",
   "metadata": {},
   "outputs": [
    {
     "name": "stdout",
     "output_type": "stream",
     "text": [
      "Número de registros con 'place' vacío: 23959\n"
     ]
    }
   ],
   "source": [
    "# Contar registros donde 'place' está vacío (nulo)\n",
    "empty_place_count = df2['place'].isnull().sum()\n",
    "\n",
    "# Imprimir el resultado\n",
    "print(f\"Número de registros con 'place' vacío: {empty_place_count}\")"
   ]
  },
  {
   "cell_type": "code",
   "execution_count": 28,
   "id": "a0a8d11f-0be9-4851-bb33-8b91c0730f1c",
   "metadata": {},
   "outputs": [
    {
     "name": "stdout",
     "output_type": "stream",
     "text": [
      "--------------------------------------------------------------------------------\n",
      "year               0\n",
      "type               0\n",
      "discipline         1\n",
      "event              0\n",
      "as                 0\n",
      "athlete_id         0\n",
      "noc                1\n",
      "place          23959\n",
      "tied               0\n",
      "medal         260684\n",
      "dtype: int64\n"
     ]
    }
   ],
   "source": [
    "print('-' * 80)\n",
    "print(df2.isnull().sum())"
   ]
  },
  {
   "cell_type": "code",
   "execution_count": 29,
   "id": "d244f6c9-4f1c-49ce-bfb6-ae36634fdc00",
   "metadata": {},
   "outputs": [
    {
     "name": "stdout",
     "output_type": "stream",
     "text": [
      "Número de registros restantes: 304314\n"
     ]
    }
   ],
   "source": [
    "# Eliminar los registros mixed sports cuyo valor en place sea null\n",
    "df2 = df2[~((df2['event'].str.contains('mixed sports', case=False)) & (df2['place'].isnull()))]\n",
    "\n",
    "# Imprimir el número de registros restantes\n",
    "print(f\"Número de registros restantes: {df2.shape[0]}\")"
   ]
  },
  {
   "cell_type": "code",
   "execution_count": 30,
   "id": "1d1faf9c-90b8-4cef-adee-ef8074f3efac",
   "metadata": {},
   "outputs": [
    {
     "name": "stdout",
     "output_type": "stream",
     "text": [
      "--------------------------------------------------------------------------------\n",
      "year               0\n",
      "type               0\n",
      "discipline         1\n",
      "event              0\n",
      "as                 0\n",
      "athlete_id         0\n",
      "noc                1\n",
      "place          23959\n",
      "tied               0\n",
      "medal         260684\n",
      "dtype: int64\n"
     ]
    }
   ],
   "source": [
    "print('-' * 80)\n",
    "print(df2.isnull().sum())\n",
    "# Se mantienen los registros con valores null en la columna place ya que sirven para el anlisis"
   ]
  },
  {
   "cell_type": "code",
   "execution_count": 31,
   "id": "2009f359-6e32-4288-94e0-93c5696f0250",
   "metadata": {},
   "outputs": [
    {
     "name": "stdout",
     "output_type": "stream",
     "text": [
      "Empty DataFrame\n",
      "Columns: [year, type, discipline, event, as, athlete_id, noc, place, tied, medal]\n",
      "Index: []\n"
     ]
    }
   ],
   "source": [
    "registros_null = df2[df2['year'].isnull()]\n",
    "\n",
    "print(registros_null)"
   ]
  },
  {
   "cell_type": "code",
   "execution_count": 32,
   "id": "07e36baa-ad22-4273-9fee-fd18882d2344",
   "metadata": {},
   "outputs": [
    {
     "name": "stdout",
     "output_type": "stream",
     "text": [
      "['Tennis', 'Table Tennis', 'Fencing', 'Badminton', 'Hockey', 'Athletics', 'Art Competitions', 'Modern Pentathlon', 'Archery', 'Boxing', 'Softball (Baseball/Softball)', 'Baseball (Baseball/Softball)', 'Sailing', 'Golf', 'Jeu De Paume', 'Basketball (Basketball)', 'Cycling Road (Cycling)', 'Handball', 'Bobsleigh (Bobsleigh)', 'Canoe Sprint (Canoeing)', 'Canoe Slalom (Canoeing)', 'Canoe Marathon (Canoeing)', 'Shooting', 'Rowing', 'Cycling Track (Cycling)', 'Polo', 'Rugby (Rugby)', 'Equestrian Dressage (Equestrian)', 'Equestrian Eventing (Equestrian)', 'Equestrian Jumping (Equestrian)', 'Tug-Of-War', 'Lacrosse', 'Diving (Aquatics)', 'Equestrian Vaulting (Equestrian)', 'Equestrian Driving (Equestrian)', 'Cycling Mountain Bike (Cycling)', 'Speed Skating (Skating)', 'Football (Football)', 'Cross Country Skiing (Skiing)', 'Racquets', 'Cricket', 'Croquet', 'Motorboating', 'Swimming (Aquatics)', 'Ice Hockey (Ice Hockey)', 'Artistic Gymnastics (Gymnastics)', 'Rhythmic Gymnastics (Gymnastics)', 'Weightlifting', 'Wrestling', 'Alpine Skiing (Skiing)', 'Judo', 'Military Ski Patrol (Skiing)', 'Nordic Combined (Skiing)', 'Water Polo (Aquatics)', 'Skeleton (Bobsleigh)', 'Artistic Swimming (Aquatics)', 'Triathlon', 'Beach Volleyball (Volleyball)', 'Volleyball (Volleyball)', 'Biathlon', 'Figure Skating (Skating)', 'Basque pelota', 'Luge', 'Short Track Speed Skating (Skating)', 'Freestyle Skiing (Skiing)', 'Ski Jumping (Skiing)', 'Cycling BMX Racing (Cycling)', 'Trampolining (Gymnastics)', 'Marathon Swimming (Aquatics)', 'Taekwondo', 'Snowboarding (Skiing)', 'Curling', 'Roque', '3x3 Basketball (Basketball)', 'Skateboarding (Roller Sports)', 'Mixed Sports', 'Rugby Sevens (Rugby)', 'Hockey 5s', 'Ballooning (Air Sports)', 'Ski Mountaineering', '3-on-3 Ice Hockey (Ice Hockey)', 'Karate', 'Surfing', 'Cycling BMX Freestyle (Cycling)', 'Sport Climbing', 'Roller Skating (Roller Sports)', nan]\n",
      "--------------------------------------------------------------------------------\n",
      "87\n"
     ]
    }
   ],
   "source": [
    "# Conteo de disciplinas que nos queda al final para la segunda pregunta\n",
    "valores_unicos = df2['discipline'].unique()\n",
    "valores = valores_unicos.tolist()\n",
    "print(valores)\n",
    "print('-' * 80)\n",
    "print(len(valores))"
   ]
  },
  {
   "cell_type": "code",
   "execution_count": 33,
   "id": "60cadbb9-f105-44c5-b7fc-20bab5089d63",
   "metadata": {},
   "outputs": [
    {
     "name": "stdout",
     "output_type": "stream",
     "text": [
      "144610\n"
     ]
    }
   ],
   "source": [
    "# Count de participantes para la primera pregunta\n",
    "valores_unicos = df2['athlete_id'].unique()\n",
    "valores = valores_unicos.tolist()\n",
    "print(len(valores))"
   ]
  },
  {
   "cell_type": "code",
   "execution_count": 34,
   "id": "a797b653-51de-4637-abe4-7aeead0b9228",
   "metadata": {},
   "outputs": [
    {
     "name": "stdout",
     "output_type": "stream",
     "text": [
      "0\n"
     ]
    }
   ],
   "source": [
    "# Filtrar filas donde 'year' es null y 'medal' es gold, silver o bronze\n",
    "filtro = df2[df2['year'].isnull() & df2['medal'].isin(['Gold', 'Silver', 'Bronze'])]\n",
    "\n",
    "print(len(filtro))"
   ]
  },
  {
   "cell_type": "code",
   "execution_count": 35,
   "id": "729a30ad-dfb9-4319-adcc-e84e2e7c2b8a",
   "metadata": {},
   "outputs": [
    {
     "name": "stdout",
     "output_type": "stream",
     "text": [
      "[]\n"
     ]
    }
   ],
   "source": [
    "# Atletas con year null y con medallas\n",
    "filtro = df2[df2['year'].isnull() & df2['medal'].isin(['Gold', 'Silver', 'Bronze'])]\n",
    "nombres = filtro['as']\n",
    "print(nombres.tolist())"
   ]
  },
  {
   "cell_type": "code",
   "execution_count": 36,
   "id": "35d27829-1f84-4012-93cf-8a849507667f",
   "metadata": {},
   "outputs": [
    {
     "name": "stdout",
     "output_type": "stream",
     "text": [
      "304314\n",
      "--------------------------------------------------------------------------------\n",
      "year               0\n",
      "type               0\n",
      "discipline         1\n",
      "event              0\n",
      "as                 0\n",
      "athlete_id         0\n",
      "noc                1\n",
      "place          23959\n",
      "tied               0\n",
      "medal         260684\n",
      "dtype: int64\n"
     ]
    }
   ],
   "source": [
    "# Eliminar registros donde la columna 'year' tiene valores nulos\n",
    "df2 = df2.dropna(subset=['year'])\n",
    "\n",
    "# Verificar el tamaño del DataFrame después de la eliminación\n",
    "print(len(df2))\n",
    "\n",
    "print('-' * 80)\n",
    "print(df2.isnull().sum())"
   ]
  },
  {
   "cell_type": "code",
   "execution_count": 37,
   "id": "e1f4cac5-fc99-467b-aa6c-a6da8f95c7ee",
   "metadata": {},
   "outputs": [
    {
     "name": "stdout",
     "output_type": "stream",
     "text": [
      "304336    Charlotta Säfvenberg\n",
      "Name: as, dtype: object\n"
     ]
    }
   ],
   "source": [
    "# Filtrar registros donde 'discipline' y 'noc' son nulos\n",
    "filtro = df2[df2['discipline'].isnull() & df2['noc'].isnull()]\n",
    "\n",
    "# Mostrar los nombres de la columna 'as' de esos registros\n",
    "nombres_nulos = filtro['as']\n",
    "\n",
    "# Mostrar los nombres\n",
    "print(nombres_nulos)"
   ]
  },
  {
   "cell_type": "code",
   "execution_count": 38,
   "id": "273572f8-1aeb-4e1d-a36c-abc01c14450d",
   "metadata": {},
   "outputs": [
    {
     "name": "stdout",
     "output_type": "stream",
     "text": [
      "43630\n"
     ]
    }
   ],
   "source": [
    "# Total histórico de atletas con medallas\n",
    "filtro = df2[df2['medal'].isin(['Gold', 'Silver', 'Bronze'])]\n",
    "print(len(filtro))"
   ]
  },
  {
   "cell_type": "code",
   "execution_count": 39,
   "id": "db17400b-ed85-412b-b162-1e8c6ef0a608",
   "metadata": {},
   "outputs": [
    {
     "name": "stdout",
     "output_type": "stream",
     "text": [
      "<class 'pandas.core.frame.DataFrame'>\n",
      "Index: 304314 entries, 0 to 304336\n",
      "Data columns (total 10 columns):\n",
      " #   Column      Non-Null Count   Dtype   \n",
      "---  ------      --------------   -----   \n",
      " 0   year        304314 non-null  int64   \n",
      " 1   type        304314 non-null  category\n",
      " 2   discipline  304313 non-null  category\n",
      " 3   event       304314 non-null  object  \n",
      " 4   as          304314 non-null  object  \n",
      " 5   athlete_id  304314 non-null  int64   \n",
      " 6   noc         304313 non-null  category\n",
      " 7   place       280355 non-null  float64 \n",
      " 8   tied        304314 non-null  bool    \n",
      " 9   medal       43630 non-null   category\n",
      "dtypes: bool(1), category(4), float64(1), int64(2), object(2)\n",
      "memory usage: 15.7+ MB\n",
      "None\n"
     ]
    }
   ],
   "source": [
    "# Cambio de del tipo de dato de la columna year de float a int.\n",
    "df2['year'] = df2['year'].astype(int)\n",
    "print(df2.info())"
   ]
  },
  {
   "cell_type": "code",
   "execution_count": 40,
   "id": "0c9a5744-4326-45b5-86bc-016d8a06c5de",
   "metadata": {},
   "outputs": [
    {
     "data": {
      "text/plain": [
       "\"\\ndf2.loc[304337, 'discipline'] =  'Alpine Skiing (Skiing)'\\ndf2.loc[304337, 'noc'] = 'SWE'\\nprint('-' * 80)\\n# Guardar el DataFrame modificado de vuelta en el CSV\\ndf2.to_csv('olympic_games_results.csv', index=False)\\n# Mostrar solo el registro con el índice 304337\\nregistro = df2.loc[304337]\\n\\n# Imprimir el registro completo\\nprint(registro)\\n\""
      ]
     },
     "execution_count": 40,
     "metadata": {},
     "output_type": "execute_result"
    }
   ],
   "source": [
    "# Se intentó rellenar los null del resgistro pero no se consiguió guardar los cambios en el CSV\n",
    "'''\n",
    "df2.loc[304337, 'discipline'] =  'Alpine Skiing (Skiing)'\n",
    "df2.loc[304337, 'noc'] = 'SWE'\n",
    "print('-' * 80)\n",
    "# Guardar el DataFrame modificado de vuelta en el CSV\n",
    "df2.to_csv('olympic_games_results.csv', index=False)\n",
    "# Mostrar solo el registro con el índice 304337\n",
    "registro = df2.loc[304337]\n",
    "\n",
    "# Imprimir el registro completo\n",
    "print(registro)\n",
    "'''"
   ]
  },
  {
   "cell_type": "code",
   "execution_count": 41,
   "id": "385eb94b-fed6-48fd-b4b5-39167fdef11f",
   "metadata": {},
   "outputs": [
    {
     "data": {
      "text/plain": [
       "'\\n# Eliminar la fila con índice específico y modificar el DataFrame original directamente\\ndf2.drop(304337, inplace=True)\\n\\n# Verificar que la fila fue eliminada\\nprint(df2)\\n'"
      ]
     },
     "execution_count": 41,
     "metadata": {},
     "output_type": "execute_result"
    }
   ],
   "source": [
    "'''\n",
    "# Eliminar la fila con índice específico y modificar el DataFrame original directamente\n",
    "df2.drop(304337, inplace=True)\n",
    "\n",
    "# Verificar que la fila fue eliminada\n",
    "print(df2)\n",
    "'''\n",
    "# Se eliminó la columna, da error al ejecutarlo otra vez y por eso está como comentario"
   ]
  },
  {
   "cell_type": "code",
   "execution_count": 42,
   "id": "1022d2e2-e39a-4f23-a7cb-142d331b3abd",
   "metadata": {},
   "outputs": [],
   "source": [
    "#df2.to_csv('olympic_cleaned_lunes.csv', index=False, encoding='utf-8')"
   ]
  },
  {
   "cell_type": "code",
   "execution_count": 43,
   "id": "f285bf68-0adf-45be-a2b1-d96520f14d00",
   "metadata": {},
   "outputs": [],
   "source": [
    "#df1.to_csv('athlete_cleaned_lunes.csv', index=False, encoding='utf-8')"
   ]
  },
  {
   "cell_type": "code",
   "execution_count": 44,
   "id": "f0029ac1-add5-4fa9-ab37-0efa6fc6d193",
   "metadata": {},
   "outputs": [
    {
     "name": "stdout",
     "output_type": "stream",
     "text": [
      "        athlete_id                   name  height_cm  weight_kg  year  \\\n",
      "0                1  Jean-François Blanchy        NaN        NaN  1912   \n",
      "1                1  Jean-François Blanchy        NaN        NaN  1912   \n",
      "2                1  Jean-François Blanchy        NaN        NaN  1920   \n",
      "3                1  Jean-François Blanchy        NaN        NaN  1920   \n",
      "4                1  Jean-François Blanchy        NaN        NaN  1920   \n",
      "...            ...                    ...        ...        ...   ...   \n",
      "304309      148983          Marián Skupek      196.0      108.0  2022   \n",
      "304310      148984          Elsa Fermbäck        NaN        NaN  2022   \n",
      "304311      148985          Hilma Lövblom        NaN        NaN  2022   \n",
      "304312      148985          Hilma Lövblom        NaN        NaN  2022   \n",
      "304313      148986   Charlotta Säfvenberg        NaN        NaN  2022   \n",
      "\n",
      "                    discipline                          event  noc  place  \\\n",
      "0                       Tennis         Singles, Men (Olympic)  FRA   17.0   \n",
      "1                       Tennis         Doubles, Men (Olympic)  FRA    NaN   \n",
      "2                       Tennis         Singles, Men (Olympic)  FRA   32.0   \n",
      "3                       Tennis       Doubles, Mixed (Olympic)  FRA    8.0   \n",
      "4                       Tennis         Doubles, Men (Olympic)  FRA    4.0   \n",
      "...                        ...                            ...  ...    ...   \n",
      "304309                    Luge         Singles, Men (Olympic)  SVK   26.0   \n",
      "304310  Alpine Skiing (Skiing)        Slalom, Women (Olympic)  SWE   28.0   \n",
      "304311  Alpine Skiing (Skiing)          Team, Mixed (Olympic)  SWE   13.0   \n",
      "304312  Alpine Skiing (Skiing)  Giant Slalom, Women (Olympic)  SWE    NaN   \n",
      "304313                     NaN        Slalom, Women (Olympic)  NaN   24.0   \n",
      "\n",
      "       medal  \n",
      "0        NaN  \n",
      "1        NaN  \n",
      "2        NaN  \n",
      "3        NaN  \n",
      "4        NaN  \n",
      "...      ...  \n",
      "304309   NaN  \n",
      "304310   NaN  \n",
      "304311   NaN  \n",
      "304312   NaN  \n",
      "304313   NaN  \n",
      "\n",
      "[304314 rows x 10 columns]\n"
     ]
    }
   ],
   "source": [
    "#Unificación de datasets\n",
    "# Seleccionar las columnas que deseas de cada DataFrame\n",
    "df1_subset = df1[['athlete_id', 'name', 'height_cm', 'weight_kg' ]]\n",
    "df2_subset = df2[['athlete_id','year','discipline','event','noc','place','medal']]\n",
    "\n",
    "# Realizar el merge usando las columnas seleccionadas\n",
    "df_unificado = pd.merge(df1_subset, df2_subset, on='athlete_id', how='inner')\n",
    "\n",
    "# Mostrar el resultado\n",
    "print(df_unificado)"
   ]
  },
  {
   "cell_type": "code",
   "execution_count": 45,
   "id": "24c6da58-dff9-460a-a7a0-4ccd3e75efdf",
   "metadata": {},
   "outputs": [],
   "source": [
    "#Creacion de un dataset unificado con culumnas de df1 y df2.\n",
    "#df_unificado.to_csv('ds_unificado.csv', index=False, encoding='utf-8')"
   ]
  },
  {
   "cell_type": "code",
   "execution_count": 46,
   "id": "ca42c7f0-7d82-4045-bd9c-de591b91651c",
   "metadata": {},
   "outputs": [],
   "source": [
    "data3=pd.read_csv('ds_unificado.csv')\n",
    "df3=pd.DataFrame(data3)"
   ]
  },
  {
   "cell_type": "code",
   "execution_count": 47,
   "id": "c6c6ad8c-bfe7-4cc0-8af6-d4f53e634dd5",
   "metadata": {},
   "outputs": [
    {
     "name": "stdout",
     "output_type": "stream",
     "text": [
      "<class 'pandas.core.frame.DataFrame'>\n",
      "RangeIndex: 304314 entries, 0 to 304313\n",
      "Data columns (total 10 columns):\n",
      " #   Column      Non-Null Count   Dtype  \n",
      "---  ------      --------------   -----  \n",
      " 0   athlete_id  304314 non-null  int64  \n",
      " 1   name        304314 non-null  object \n",
      " 2   height_cm   235783 non-null  float64\n",
      " 3   weight_kg   226354 non-null  float64\n",
      " 4   year        304314 non-null  int64  \n",
      " 5   discipline  304313 non-null  object \n",
      " 6   event       304314 non-null  object \n",
      " 7   noc         304313 non-null  object \n",
      " 8   place       280355 non-null  float64\n",
      " 9   medal       43630 non-null   object \n",
      "dtypes: float64(3), int64(2), object(5)\n",
      "memory usage: 23.2+ MB\n"
     ]
    }
   ],
   "source": [
    "df3.info()"
   ]
  },
  {
   "cell_type": "code",
   "execution_count": 48,
   "id": "2b56f6b5-4147-4f5d-a5c0-da93c4845cce",
   "metadata": {},
   "outputs": [
    {
     "name": "stdout",
     "output_type": "stream",
     "text": [
      "\n",
      "DataFrame después de eliminar los registros con valores nulos en 'name' y 'sport':\n",
      "<class 'pandas.core.frame.DataFrame'>\n",
      "Index: 304313 entries, 0 to 304312\n",
      "Data columns (total 10 columns):\n",
      " #   Column      Non-Null Count   Dtype  \n",
      "---  ------      --------------   -----  \n",
      " 0   athlete_id  304313 non-null  int64  \n",
      " 1   name        304313 non-null  object \n",
      " 2   height_cm   235783 non-null  float64\n",
      " 3   weight_kg   226354 non-null  float64\n",
      " 4   year        304313 non-null  int64  \n",
      " 5   discipline  304313 non-null  object \n",
      " 6   event       304313 non-null  object \n",
      " 7   noc         304313 non-null  object \n",
      " 8   place       280354 non-null  float64\n",
      " 9   medal       43630 non-null   object \n",
      "dtypes: float64(3), int64(2), object(5)\n",
      "memory usage: 25.5+ MB\n",
      "None\n"
     ]
    }
   ],
   "source": [
    "#Eliminacion de un registro 'extraviado' con valores nulos \n",
    "\n",
    "# Definir las condiciones de valores nulos en las columnas 'name' y 'sport'\n",
    "condicion = df3['discipline'].isnull() & df3['noc'].isnull()\n",
    "\n",
    "# Eliminar las filas que cumplen con ambas condiciones (valores nulos en 'name' y 'sport')\n",
    "df_limpio = df3[~condicion]\n",
    "\n",
    "# Mostrar el DataFrame después de eliminar las filas\n",
    "print(\"\\nDataFrame después de eliminar los registros con valores nulos en 'name' y 'sport':\")\n",
    "print(df_limpio.info())"
   ]
  },
  {
   "cell_type": "code",
   "execution_count": 49,
   "id": "dee383ba-e11f-45cb-9b90-9237f930d601",
   "metadata": {},
   "outputs": [
    {
     "name": "stdout",
     "output_type": "stream",
     "text": [
      "\n",
      "Número de atletas distintos por país:\n",
      "     noc  unique_athletes\n",
      "215  USA            10039\n",
      "75   GBR             6436\n",
      "70   FRA             6350\n",
      "36   CAN             5303\n",
      "101  ITA             5144\n",
      "..   ...              ...\n",
      "223  YAR               10\n",
      "208  TUV                8\n",
      "187  SSD                5\n",
      "225  YMD                5\n",
      "144  NBO                2\n",
      "\n",
      "[229 rows x 2 columns]\n",
      "--------------------------------------------------------------------------------\n",
      "     noc  unique_athletes\n",
      "215  USA            10039\n",
      "75   GBR             6436\n",
      "70   FRA             6350\n",
      "36   CAN             5303\n",
      "101  ITA             5144\n",
      "80   GER             5142\n",
      "105  JPN             4614\n",
      "12   AUS             4165\n",
      "193  SWE             3915\n",
      "190  SUI             3131\n",
      "--------------------------------------------------------------------------------\n",
      "     noc  unique_athletes\n",
      "167  RHO               12\n",
      "151  NRU               12\n",
      "31   BRU               11\n",
      "109  KIR               11\n",
      "202  TLS               11\n",
      "223  YAR               10\n",
      "208  TUV                8\n",
      "187  SSD                5\n",
      "225  YMD                5\n",
      "144  NBO                2\n"
     ]
    }
   ],
   "source": [
    "# Iteracion 1 ----- Participacion historica por paises\n",
    "\n",
    "# Agrupar por la columna 'noc' y contar los valores únicos de 'athlete_id'\n",
    "df_grouped = df3.groupby('noc')['athlete_id'].nunique().reset_index()\n",
    "\n",
    "# Renombrar la columna para mayor claridad\n",
    "df_grouped.rename(columns={'athlete_id': 'unique_athletes'}, inplace=True)\n",
    "\n",
    "# Ordenar los resultados por la cantidad de atletas (de mayor a menor)\n",
    "df_grouped_sorted = df_grouped.sort_values(by='unique_athletes', ascending=False)\n",
    "\n",
    "# Mostrar el resultado\n",
    "print(\"\\nNúmero de atletas distintos por país:\")\n",
    "print(df_grouped_sorted)\n",
    "print('-' * 80)\n",
    "print(df_grouped_sorted.head(10))\n",
    "print('-' * 80)\n",
    "print(df_grouped_sorted.tail(10))"
   ]
  },
  {
   "cell_type": "code",
   "execution_count": 50,
   "id": "6d46989b-e4c3-40bc-a81f-87919cbab3ad",
   "metadata": {},
   "outputs": [
    {
     "name": "stdout",
     "output_type": "stream",
     "text": [
      "--------------------------------------------------------------------------------\n",
      "\n",
      "DataFrame con medalla Gold:\n",
      "        athlete_id                 name  height_cm  weight_kg  year  \\\n",
      "39              12          Max Decugis        NaN        NaN  1920   \n",
      "66              19       Maurice Germot        NaN        NaN  1912   \n",
      "67              20         André Gobert        NaN        NaN  1912   \n",
      "68              20         André Gobert        NaN        NaN  1912   \n",
      "120             45     Charlotte Cooper        NaN        NaN  1900   \n",
      "...            ...                  ...        ...        ...   ...   \n",
      "304045      148811  Aleksandr Gallyamov        NaN        NaN  2022   \n",
      "304047      148812      Mark Kondratyuk        NaN        NaN  2022   \n",
      "304196      148903       Marco Odermatt        NaN        NaN  2022   \n",
      "304232      148920           Anja Weber        NaN        NaN  2018   \n",
      "304246      148931           Ryan Regez        NaN        NaN  2022   \n",
      "\n",
      "                       discipline                                   event  \\\n",
      "39                         Tennis                Doubles, Mixed (Olympic)   \n",
      "66                         Tennis  Doubles, Covered Courts, Men (Olympic)   \n",
      "67                         Tennis  Singles, Covered Courts, Men (Olympic)   \n",
      "68                         Tennis  Doubles, Covered Courts, Men (Olympic)   \n",
      "120                        Tennis                Singles, Women (Olympic)   \n",
      "...                           ...                                     ...   \n",
      "304045   Figure Skating (Skating)                   Team, Mixed (Olympic)   \n",
      "304047   Figure Skating (Skating)                   Team, Mixed (Olympic)   \n",
      "304196     Alpine Skiing (Skiing)             Giant Slalom, Men (Olympic)   \n",
      "304232                  Triathlon                Relay, Mixed Youth (YOG)   \n",
      "304246  Freestyle Skiing (Skiing)                Ski Cross, Men (Olympic)   \n",
      "\n",
      "        noc  place medal  \n",
      "39      FRA    1.0  Gold  \n",
      "66      FRA    1.0  Gold  \n",
      "67      FRA    1.0  Gold  \n",
      "68      FRA    1.0  Gold  \n",
      "120     GBR    1.0  Gold  \n",
      "...     ...    ...   ...  \n",
      "304045  ROC    1.0  Gold  \n",
      "304047  ROC    1.0  Gold  \n",
      "304196  SUI    1.0  Gold  \n",
      "304232  SUI    1.0  Gold  \n",
      "304246  SUI    1.0  Gold  \n",
      "\n",
      "[14609 rows x 10 columns]\n",
      "14609\n",
      "--------------------------------------------------------------------------------\n",
      "\n",
      "DataFrame con medalla Silver:\n",
      "        athlete_id                  name  height_cm  weight_kg  year  \\\n",
      "12               4       Jacques Brugnon      168.0       64.0  1924   \n",
      "24               8          Henri Cochet        NaN        NaN  1924   \n",
      "26               8          Henri Cochet        NaN        NaN  1924   \n",
      "33              12           Max Decugis        NaN        NaN  1900   \n",
      "57              18  Jean-Philippe Gatien      178.0       73.0  1992   \n",
      "...            ...                   ...        ...        ...   ...   \n",
      "304093      148854         Irma Makhinya        NaN        NaN  2022   \n",
      "304109      148862      Daniil Aldoshkin        NaN        NaN  2022   \n",
      "304124      148871    Konstantin Ivliyev        NaN        NaN  2022   \n",
      "304179      148892             Lovro Kos        NaN        NaN  2022   \n",
      "304181      148893            Cene Prevc        NaN        NaN  2022   \n",
      "\n",
      "                                 discipline  \\\n",
      "12                                   Tennis   \n",
      "24                                   Tennis   \n",
      "26                                   Tennis   \n",
      "33                                   Tennis   \n",
      "57                             Table Tennis   \n",
      "...                                     ...   \n",
      "304093                 Ski Jumping (Skiing)   \n",
      "304109              Speed Skating (Skating)   \n",
      "304124  Short Track Speed Skating (Skating)   \n",
      "304179                 Ski Jumping (Skiing)   \n",
      "304181                 Ski Jumping (Skiing)   \n",
      "\n",
      "                                       event  noc  place   medal  \n",
      "12                    Doubles, Men (Olympic)  FRA    2.0  Silver  \n",
      "24                    Singles, Men (Olympic)  FRA    2.0  Silver  \n",
      "26                    Doubles, Men (Olympic)  FRA    2.0  Silver  \n",
      "33                    Doubles, Men (Olympic)  FRA    2.0  Silver  \n",
      "57                    Singles, Men (Olympic)  FRA    2.0  Silver  \n",
      "...                                      ...  ...    ...     ...  \n",
      "304093    Normal Hill, Team, Mixed (Olympic)  ROC    2.0  Silver  \n",
      "304109  Team Pursuit (8 laps), Men (Olympic)  ROC    2.0  Silver  \n",
      "304124             500 metres, Men (Olympic)  ROC    2.0  Silver  \n",
      "304179       Large Hill, Team, Men (Olympic)  SLO    2.0  Silver  \n",
      "304181       Large Hill, Team, Men (Olympic)  SLO    2.0  Silver  \n",
      "\n",
      "[14370 rows x 10 columns]\n",
      "14370\n",
      "--------------------------------------------------------------------------------\n",
      "\n",
      "DataFrame con medalla Bronze:\n",
      "        athlete_id                name  height_cm  weight_kg  year  \\\n",
      "9                3        Jean Borotra      183.0       76.0  1924   \n",
      "14               5        Albert Canet        NaN        NaN  1912   \n",
      "15               5        Albert Canet        NaN        NaN  1912   \n",
      "21               7       Patrick Chila      180.0       73.0  2000   \n",
      "28              10  Guy de la Chapelle        NaN        NaN  1900   \n",
      "...            ...                 ...        ...        ...   ...   \n",
      "304304      148978         Miloš Roman      183.0       87.0  2022   \n",
      "304305      148979    Juraj Slafkovský      192.0      102.0  2022   \n",
      "304306      148980        Samuel Takáč      184.0       92.0  2022   \n",
      "304307      148981         Matej Tomek      191.0       82.0  2022   \n",
      "304308      148982         Peter Zuzin      183.0       81.0  2022   \n",
      "\n",
      "                     discipline                      event  noc  place   medal  \n",
      "9                        Tennis     Doubles, Men (Olympic)  FRA    3.0  Bronze  \n",
      "14                       Tennis   Doubles, Mixed (Olympic)  FRA    3.0  Bronze  \n",
      "15                       Tennis     Doubles, Men (Olympic)  FRA    3.0  Bronze  \n",
      "21                 Table Tennis     Doubles, Men (Olympic)  FRA    3.0  Bronze  \n",
      "28                       Tennis     Doubles, Men (Olympic)  FRA    3.0  Bronze  \n",
      "...                         ...                        ...  ...    ...     ...  \n",
      "304304  Ice Hockey (Ice Hockey)  Ice Hockey, Men (Olympic)  SVK    3.0  Bronze  \n",
      "304305  Ice Hockey (Ice Hockey)  Ice Hockey, Men (Olympic)  SVK    3.0  Bronze  \n",
      "304306  Ice Hockey (Ice Hockey)  Ice Hockey, Men (Olympic)  SVK    3.0  Bronze  \n",
      "304307  Ice Hockey (Ice Hockey)  Ice Hockey, Men (Olympic)  SVK    3.0  Bronze  \n",
      "304308  Ice Hockey (Ice Hockey)  Ice Hockey, Men (Olympic)  SVK    3.0  Bronze  \n",
      "\n",
      "[14651 rows x 10 columns]\n",
      "14651\n"
     ]
    }
   ],
   "source": [
    "# Filtrar los registros con medalla de 'Gold'\n",
    "df_gold = df3[df3['medal'] == 'Gold']\n",
    "\n",
    "# Filtrar los registros con medalla de 'Silver'\n",
    "df_silver = df3[df3['medal'] == 'Silver']\n",
    "\n",
    "# Filtrar los registros con medalla de 'Bronze'\n",
    "df_bronze = df3[df3['medal'] == 'Bronze']\n",
    "print('-' * 80)\n",
    "# Mostrar los DataFrames separados por tipo de medalla\n",
    "print(\"\\nDataFrame con medalla Gold:\")\n",
    "print(df_gold)\n",
    "print(len(df_gold))\n",
    "print('-' * 80)\n",
    "print(\"\\nDataFrame con medalla Silver:\")\n",
    "print(df_silver)\n",
    "print(len(df_silver))\n",
    "print('-' * 80)\n",
    "print(\"\\nDataFrame con medalla Bronze:\")\n",
    "print(df_bronze)\n",
    "print(len(df_bronze))"
   ]
  },
  {
   "cell_type": "code",
   "execution_count": 51,
   "id": "8737d024-7382-4f01-918a-b631990df91a",
   "metadata": {},
   "outputs": [
    {
     "name": "stdout",
     "output_type": "stream",
     "text": [
      "--------------------------------------------------------------------------------\n",
      "\n",
      "DataFrame con medallas por país:\n",
      "     noc  gold_medals  silver_medals  bronze_medals  total_medals\n",
      "148  USA       1976.0         1571.0         1330.0        4877.0\n",
      "146  URS        815.0          605.0          606.0        2026.0\n",
      "53   GER        602.0          642.0          711.0        1955.0\n",
      "50   GBR        575.0          672.0          647.0        1894.0\n",
      "47   FRA        472.0          585.0          640.0        1697.0\n",
      "..   ...          ...            ...            ...           ...\n",
      "94   MON          NaN            NaN            1.0           1.0\n",
      "117  SAM          NaN            1.0            NaN           1.0\n",
      "137  TOG          NaN            NaN            1.0           1.0\n",
      "125  SUD          NaN            1.0            NaN           1.0\n",
      "133  TGA          NaN            1.0            NaN           1.0\n",
      "\n",
      "[156 rows x 5 columns]\n",
      "--------------------------------------------------------------------------------\n"
     ]
    }
   ],
   "source": [
    "\n",
    "# Suponiendo que df3 es el DataFrame original con las columnas 'athlete_id', 'noc', 'medal', etc.\n",
    "\n",
    "# Filtrar los registros con medalla de 'Gold'\n",
    "df_gold = df3[df3['medal'] == 'Gold']\n",
    "df_gold_grouped = df_gold.groupby('noc')['athlete_id'].nunique().reset_index()\n",
    "df_gold_grouped.rename(columns={'athlete_id': 'gold_medals'}, inplace=True)\n",
    "\n",
    "# Filtrar los registros con medalla de 'Silver'\n",
    "df_silver = df3[df3['medal'] == 'Silver']\n",
    "df_silver_grouped = df_silver.groupby('noc')['athlete_id'].nunique().reset_index()\n",
    "df_silver_grouped.rename(columns={'athlete_id': 'silver_medals'}, inplace=True)\n",
    "\n",
    "# Filtrar los registros con medalla de 'Bronze'\n",
    "df_bronze = df3[df3['medal'] == 'Bronze']\n",
    "df_bronze_grouped = df_bronze.groupby('noc')['athlete_id'].nunique().reset_index()\n",
    "df_bronze_grouped.rename(columns={'athlete_id': 'bronze_medals'}, inplace=True)\n",
    "\n",
    "# Unir los tres DataFrames (Gold, Silver, Bronze) por la columna 'noc' (país)\n",
    "df_medals = pd.merge(df_gold_grouped, df_silver_grouped, on='noc', how='outer')\n",
    "df_medals = pd.merge(df_medals, df_bronze_grouped, on='noc', how='outer')\n",
    "\n",
    "# Añadir una columna con el total de medallas por país\n",
    "df_medals['total_medals'] = df_medals['gold_medals'].fillna(0) + df_medals['silver_medals'].fillna(0) + df_medals['bronze_medals'].fillna(0)\n",
    "\n",
    "df_medals_sorted = df_medals.sort_values(by='total_medals', ascending=False)\n",
    "\n",
    "# Mostrar los DataFrames agrupados por tipo de medalla y país\n",
    "print('-' * 80)\n",
    "print(\"\\nDataFrame con medallas por país:\")\n",
    "print(df_medals_sorted)\n",
    "print('-' * 80)"
   ]
  },
  {
   "cell_type": "code",
   "execution_count": 57,
   "id": "409fc9b8-bf18-4c15-94ba-5d6dff923948",
   "metadata": {},
   "outputs": [
    {
     "name": "stdout",
     "output_type": "stream",
     "text": [
      "--------------------------------------------------------------------------------\n",
      "\n",
      "DataFrame con medallas por país (Top 10, ordenado por oro, plata y bronce):\n",
      "USA 1976.0 1571.0 1330.0 Total 4877.0\n",
      "URS 815.0 605.0 606.0 Total 2026.0\n",
      "GER 602.0 642.0 711.0 Total 1955.0\n",
      "GBR 575.0 672.0 647.0 Total 1894.0\n",
      "FRA 472.0 585.0 640.0 Total 1697.0\n",
      "ITA 465.0 468.0 487.0 Total 1420.0\n",
      "CAN 461.0 457.0 507.0 Total 1425.0\n",
      "SWE 426.0 491.0 466.0 Total 1383.0\n",
      "RUS 339.0 342.0 380.0 Total 1061.0\n",
      "CHN 318.0 361.0 321.0 Total 1000.0\n",
      "--------------------------------------------------------------------------------\n",
      "\n",
      "Top 10 países con medallas de oro:\n",
      "GOLD : USA 1976\n",
      "GOLD : URS 815\n",
      "GOLD : GER 602\n",
      "GOLD : GBR 575\n",
      "GOLD : FRA 472\n",
      "GOLD : ITA 465\n",
      "GOLD : CAN 461\n",
      "GOLD : SWE 426\n",
      "GOLD : RUS 339\n",
      "GOLD : CHN 318\n",
      "\n",
      "Top 10 países con medallas de plata:\n",
      "SILVER : USA 1571\n",
      "SILVER : GBR 672\n",
      "SILVER : GER 642\n",
      "SILVER : URS 605\n",
      "SILVER : FRA 585\n",
      "SILVER : SWE 491\n",
      "SILVER : ITA 468\n",
      "SILVER : CAN 457\n",
      "SILVER : AUS 401\n",
      "SILVER : CHN 361\n",
      "\n",
      "Top 10 países con medallas de bronce:\n",
      "BRONZE : USA 1330\n",
      "BRONZE : GER 711\n",
      "BRONZE : GBR 647\n",
      "BRONZE : FRA 640\n",
      "BRONZE : URS 606\n",
      "BRONZE : CAN 507\n",
      "BRONZE : ITA 487\n",
      "BRONZE : AUS 484\n",
      "BRONZE : SWE 466\n",
      "BRONZE : NED 381\n"
     ]
    }
   ],
   "source": [
    "# Filtrar los registros con medalla de 'Gold'\n",
    "df_gold = df3[df3['medal'] == 'Gold']\n",
    "df_gold_grouped = df_gold.groupby('noc')['athlete_id'].nunique().reset_index()\n",
    "df_gold_grouped.rename(columns={'athlete_id': 'gold_medals'}, inplace=True)\n",
    "\n",
    "# Filtrar los registros con medalla de 'Silver'\n",
    "df_silver = df3[df3['medal'] == 'Silver']\n",
    "df_silver_grouped = df_silver.groupby('noc')['athlete_id'].nunique().reset_index()\n",
    "df_silver_grouped.rename(columns={'athlete_id': 'silver_medals'}, inplace=True)\n",
    "\n",
    "# Filtrar los registros con medalla de 'Bronze'\n",
    "df_bronze = df3[df3['medal'] == 'Bronze']\n",
    "df_bronze_grouped = df_bronze.groupby('noc')['athlete_id'].nunique().reset_index()\n",
    "df_bronze_grouped.rename(columns={'athlete_id': 'bronze_medals'}, inplace=True)\n",
    "\n",
    "# Unir los tres DataFrames (Gold, Silver, Bronze) por la columna 'noc' (país)\n",
    "#df_medals = pd.merge(df_gold_grouped, df_silver_grouped, on='noc', how='outer')\n",
    "#df_medals = pd.merge(df_medals, df_bronze_grouped, on='noc', how='outer')\n",
    "\n",
    "# Añadir una columna con el total de medallas por país\n",
    "df_medals['total_medals'] = df_medals['gold_medals'].fillna(0) + df_medals['silver_medals'].fillna(0) + df_medals['bronze_medals'].fillna(0)\n",
    "\n",
    "# Ordenar por medallas de oro, luego de plata, y luego de bronce\n",
    "df_medals_sorted = df_medals.sort_values(by=['gold_medals', 'silver_medals', 'bronze_medals'], ascending=False)\n",
    "'''\n",
    "df_medals_gold = df_medals.sort_values(by=['gold_medals'], ascending=False)\n",
    "df_medals_silver = df_medals.sort_values(by=['silver_medals'], ascending=False)\n",
    "df_medals_bronze = df_medals.sort_values(by=['bronze_medals'], ascending=False)\n",
    "# Mostrar el DataFrame con los resultados ordenados\n",
    "print('-' * 80)\n",
    "print(\"\\nDataFrame con medallas por país, ordenado por oro, plata y bronce:\")\n",
    "print(df_medals_sorted)\n",
    "print('-' * 80)\n",
    "\n",
    "print(df_medals_gold.head(10))\n",
    "print('-' * 80)\n",
    "print(df_medals_silver.head(10))\n",
    "print('-' * 80)\n",
    "print(df_medals_bronze.head(10))\n",
    "''' \n",
    "\n",
    "# Mostrar solo los primeros 10 países con el total de medallas\n",
    "print('-' * 80)\n",
    "print(\"\\nDataFrame con medallas por país (Top 10, ordenado por oro, plata y bronce):\")\n",
    "for index, row in df_medals_sorted.head(10).iterrows():  # Aquí se usan los primeros 10 países\n",
    "    print(f\"{row['noc']} {row['gold_medals']:.1f} {row['silver_medals']:.1f} {row['bronze_medals']:.1f} Total {row['total_medals']:.1f}\")\n",
    "print('-' * 80)\n",
    "\n",
    "# Ordenar el DataFrame por medallas de oro y mostrar el Top 10\n",
    "df_gold_grouped_sorted = df_gold_grouped.sort_values(by='gold_medals', ascending=False)\n",
    "print(\"\\nTop 10 países con medallas de oro:\")\n",
    "for index, row in df_gold_grouped_sorted.head(10).iterrows():\n",
    "    if row['gold_medals'] > 0:\n",
    "        print(f\"GOLD : {row['noc']} {row['gold_medals']}\")\n",
    "\n",
    "# Ordenar el DataFrame por medallas de plata y mostrar el Top 10\n",
    "df_silver_grouped_sorted = df_silver_grouped.sort_values(by='silver_medals', ascending=False)\n",
    "print(\"\\nTop 10 países con medallas de plata:\")\n",
    "for index, row in df_silver_grouped_sorted.head(10).iterrows():\n",
    "    if row['silver_medals'] > 0:\n",
    "        print(f\"SILVER : {row['noc']} {row['silver_medals']}\")\n",
    "\n",
    "# Ordenar el DataFrame por medallas de bronce y mostrar el Top 10\n",
    "df_bronze_grouped_sorted = df_bronze_grouped.sort_values(by='bronze_medals', ascending=False)\n",
    "print(\"\\nTop 10 países con medallas de bronce:\")\n",
    "for index, row in df_bronze_grouped_sorted.head(10).iterrows():\n",
    "    if row['bronze_medals'] > 0:\n",
    "        print(f\"BRONZE : {row['noc']} {row['bronze_medals']}\")"
   ]
  },
  {
   "cell_type": "code",
   "execution_count": 53,
   "id": "869afe3b-0b3a-4dbd-87b2-ee9d36b1eb0d",
   "metadata": {},
   "outputs": [
    {
     "name": "stdout",
     "output_type": "stream",
     "text": [
      "        athlete_id                   name  height_cm  weight_kg  year  \\\n",
      "0                1  Jean-François Blanchy        NaN        NaN  1912   \n",
      "1                1  Jean-François Blanchy        NaN        NaN  1912   \n",
      "2                1  Jean-François Blanchy        NaN        NaN  1920   \n",
      "3                1  Jean-François Blanchy        NaN        NaN  1920   \n",
      "4                1  Jean-François Blanchy        NaN        NaN  1920   \n",
      "...            ...                    ...        ...        ...   ...   \n",
      "304309      148983          Marián Skupek      196.0      108.0  2022   \n",
      "304310      148984          Elsa Fermbäck        NaN        NaN  2022   \n",
      "304311      148985          Hilma Lövblom        NaN        NaN  2022   \n",
      "304312      148985          Hilma Lövblom        NaN        NaN  2022   \n",
      "304313      148986   Charlotta Säfvenberg        NaN        NaN  2022   \n",
      "\n",
      "                    discipline                          event  noc  place  \\\n",
      "0                       Tennis         Singles, Men (Olympic)  FRA   17.0   \n",
      "1                       Tennis         Doubles, Men (Olympic)  FRA    NaN   \n",
      "2                       Tennis         Singles, Men (Olympic)  FRA   32.0   \n",
      "3                       Tennis       Doubles, Mixed (Olympic)  FRA    8.0   \n",
      "4                       Tennis         Doubles, Men (Olympic)  FRA    4.0   \n",
      "...                        ...                            ...  ...    ...   \n",
      "304309                    Luge         Singles, Men (Olympic)  SVK   26.0   \n",
      "304310  Alpine Skiing (Skiing)        Slalom, Women (Olympic)  SWE   28.0   \n",
      "304311  Alpine Skiing (Skiing)          Team, Mixed (Olympic)  SWE   13.0   \n",
      "304312  Alpine Skiing (Skiing)  Giant Slalom, Women (Olympic)  SWE    NaN   \n",
      "304313                     NaN        Slalom, Women (Olympic)  NaN   24.0   \n",
      "\n",
      "       medal  \n",
      "0        NaN  \n",
      "1        NaN  \n",
      "2        NaN  \n",
      "3        NaN  \n",
      "4        NaN  \n",
      "...      ...  \n",
      "304309   NaN  \n",
      "304310   NaN  \n",
      "304311   NaN  \n",
      "304312   NaN  \n",
      "304313   NaN  \n",
      "\n",
      "[304314 rows x 10 columns]\n"
     ]
    }
   ],
   "source": [
    "# Seleccionar las columnas que deseas de cada DataFrame\n",
    "df1_subset = df1[['athlete_id', 'name', 'height_cm', 'weight_kg']]\n",
    "df2_subset = df2[['athlete_id', 'year', 'discipline' , 'event' , 'noc', 'place' ,  'medal']]\n",
    "\n",
    "# Realizar el merge usando las columnas seleccionadas\n",
    "df_unificado = pd.merge(df1_subset, df2_subset, on='athlete_id', how='inner')\n",
    "\n",
    "# Mostrar el resultado\n",
    "print(df_unificado)"
   ]
  },
  {
   "cell_type": "code",
   "execution_count": 75,
   "id": "ac1b1d25-43c0-430b-84f1-3b4439db6628",
   "metadata": {},
   "outputs": [
    {
     "name": "stdout",
     "output_type": "stream",
     "text": [
      "discipline\n",
      "Art Competitions                29.237879\n",
      "Weightlifting                   27.463702\n",
      "Bobsleigh (Bobsleigh)           27.061098\n",
      "Rugby (Rugby)                   26.101349\n",
      "Tug-Of-War                      26.076394\n",
      "Baseball (Baseball/Softball)    25.685207\n",
      "Judo                            25.430772\n",
      "Rugby Sevens (Rugby)            25.341001\n",
      "Ice Hockey (Ice Hockey)         25.066652\n",
      "Wrestling                       25.027871\n",
      "Name: BMI, dtype: float64\n"
     ]
    }
   ],
   "source": [
    "'''\n",
    "athletes_df = df3\n",
    "#Paso 1: Cálculo del BMI\n",
    "athletes_df['BMI'] = athletes_df['weight_kg'] / (athletes_df['height_cm'] / 100) ** 2  # Asegura que 'altura' esté en metros\n",
    "\n",
    "#Paso 2: Calcular la media de BMI por disciplina\n",
    "bmi_mean_per_discipline = athletes_df.groupby('discipline')['BMI'].mean().sort_values(ascending=False)\n",
    "\n",
    "#Paso 3: Mostrar el resultado\n",
    "print(bmi_mean_per_discipline.head(10))\n",
    "'''"
   ]
  },
  {
   "cell_type": "code",
   "execution_count": 78,
   "id": "edf59f05-90d0-4af0-a70d-4510b9cfac62",
   "metadata": {},
   "outputs": [
    {
     "name": "stdout",
     "output_type": "stream",
     "text": [
      "discipline\n",
      "Weightlifting                   27.940897\n",
      "Bobsleigh (Bobsleigh)           27.122071\n",
      "Rugby (Rugby)                   26.101349\n",
      "Tug-Of-War                      25.951557\n",
      "Judo                            25.859891\n",
      "Baseball (Baseball/Softball)    25.729378\n",
      "Rugby Sevens (Rugby)            25.567633\n",
      "Wrestling                       25.299880\n",
      "Ice Hockey (Ice Hockey)         25.120308\n",
      "3x3 Basketball (Basketball)     25.013190\n",
      "Name: BMI, dtype: float64\n"
     ]
    }
   ],
   "source": [
    "# Paso 1: Filtrar atletas con medalla y hacer una copia para evitar la advertencia\n",
    "medalists_df = df3.dropna(subset=['medal']).copy()\n",
    "\n",
    "# Paso 2: Calcular el BMI para los atletas con medalla\n",
    "medalists_df['BMI'] = medalists_df['weight_kg'] / (medalists_df['height_cm'] / 100) ** 2\n",
    "\n",
    "# Paso 3: Calcular la media de BMI por disciplina\n",
    "bmi_mean_per_discipline_medalists = medalists_df.groupby('discipline')['BMI'].mean().sort_values(ascending=False)\n",
    "\n",
    "# Paso 4: Mostrar el resultado\n",
    "print(bmi_mean_per_discipline_medalists.head(10))"
   ]
  },
  {
   "cell_type": "code",
   "execution_count": 79,
   "id": "31abd631-6cfd-4d4d-ade6-aee5a030293c",
   "metadata": {},
   "outputs": [
    {
     "name": "stdout",
     "output_type": "stream",
     "text": [
      "medal                                Bronze       Gold     Silver\n",
      "discipline                                                       \n",
      "3-on-3 Ice Hockey (Ice Hockey)    21.677853  22.045987  23.453232\n",
      "3x3 Basketball (Basketball)             NaN  25.013190        NaN\n",
      "Alpine Skiing (Skiing)            24.142684  24.014079  23.930901\n",
      "Archery                           23.847159  23.513580  23.458225\n",
      "Artistic Gymnastics (Gymnastics)  21.014410  20.928173  20.952068\n",
      "...                                     ...        ...        ...\n",
      "Tug-Of-War                        25.951557        NaN  25.951557\n",
      "Volleyball (Volleyball)           22.546159  22.876072  22.625210\n",
      "Water Polo (Aquatics)             24.682709  24.715961  24.622274\n",
      "Weightlifting                     27.821667  27.920579  28.078086\n",
      "Wrestling                         25.453919  25.249822  25.169807\n",
      "\n",
      "[71 rows x 3 columns]\n"
     ]
    }
   ],
   "source": [
    "# Filtrar atletas con medallas\n",
    "medalists_data = df3.dropna(subset=['medal'])\n",
    "\n",
    "# Calcular la media de BMI para cada tipo de medalla por disciplina\n",
    "bmi_by_medal_and_discipline = medalists_data.groupby(['discipline', 'medal'])['BMI'].mean().unstack()\n",
    "\n",
    "# Filtrar únicamente las disciplinas y tipos de medalla con BMI no nulo\n",
    "bmi_non_null = bmi_by_medal_and_discipline.dropna(how='all')\n",
    "\n",
    "print(bmi_non_null)\n"
   ]
  },
  {
   "cell_type": "code",
   "execution_count": null,
   "id": "54876b43-2531-421b-8ed5-e632a06890da",
   "metadata": {},
   "outputs": [],
   "source": []
  }
 ],
 "metadata": {
  "kernelspec": {
   "display_name": "Python 3 (ipykernel)",
   "language": "python",
   "name": "python3"
  },
  "language_info": {
   "codemirror_mode": {
    "name": "ipython",
    "version": 3
   },
   "file_extension": ".py",
   "mimetype": "text/x-python",
   "name": "python",
   "nbconvert_exporter": "python",
   "pygments_lexer": "ipython3",
   "version": "3.12.7"
  }
 },
 "nbformat": 4,
 "nbformat_minor": 5
}
