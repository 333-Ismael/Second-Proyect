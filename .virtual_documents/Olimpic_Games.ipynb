import pandas as pd
import matplotlib.pyplot as plt
import seaborn as sns
from scipy import stats


data1 = pd.read_csv('athletes.csv', parse_dates = ['born_date', 'died_date'])
data2 = pd.read_csv('olympic_games_results.csv')
df1 = pd.DataFrame(data1)
df2 = pd.DataFrame(data2)


# Visualizar columnas, tipo de datos y nulls de los datasets
df1.rename(columns={'NOC': 'noc'}, inplace=True)
# Tratamiento de datos
df1['noc'] = df1['noc'].astype('category')
valores_nulos = df1.isnull().sum()
print(valores_nulos)
print('-' * 80)
print(df1['noc'].unique())
print('-' * 80)
print(df1.info())


cols_to_convert = ['type', 'discipline', 'noc', 'medal'] # También se cabió el tipo de datos de la columna Team, tuvo que quitarse del código porque al eliminar la columna daba problemas a ejecutarlo
df2[cols_to_convert] = df2[cols_to_convert].astype('category')
#df2['place'] = df2['place'].astype(int)
print(df2['noc'].unique())
print('-' * 80)
print(df2['place'].unique())
print('-' * 80)
# Pasar year a string para quitar el .0 y luego pasarlo a fecha

print('-' * 80)
print(df2.info())


# Duplicates
print(f"{df1.duplicated().sum()} duplicates in athletes")
print('-' * 80)
print(f"{df2.duplicated().sum()} duplicates in results")



# Remove duplicates
df2.drop_duplicates(inplace = True)
print(f"{df2.duplicated().sum()} duplicates in results")
print('-' * 80)
print(df2.info())
print('-' * 80)
print(df2.isnull().sum())
'''
# Eliminar columna team
df2.drop(columns=['team'], inplace=True)
'''


print(len(df2['event'].unique()))


# Mostrar registros con la palabra Olympic
print(df2[df2['event'].str.contains('Olympic', case=False)].shape[0])


# Registros sin la palabra Olympic
print(df2[~df2['event'].str.contains('Olympic', case=False)].shape[0])


# Mostrar las fechas por orden
sorted_years = df2['year'].unique()
sorted_years.sort()
print(sorted_years)


# Mostrar cuantos Intercalated hay
print(df2[df2['event'].str.contains('Intercalated', case=False)].shape[0])


print(df2[~df2['event'].str.contains('Olympic', case=False)].shape[0])


print(list(df2['event'].unique()))


print(df2[df2['event'].str.contains('painting', case=False)].shape[0])


print(df2[df2['event'].str.contains('open', case=False)].shape[0])


print(df2[df2['event'].str.contains('non-medal', case=False)].shape[0])


# Eliminamos valores con non-medal
df2 = df2[~df2['event'].str.contains('non-medal', case=False)]
print(df2.info())
print('-' * 80)
print(df2[df2['event'].str.contains('non-medal', case=False)].shape[0])


# Eliminamos valores con Intercalated
df2 = df2[~df2['event'].str.contains('Intercalated', case=False)]
print(df2.info())
print('-' * 80)
print(df2[df2['event'].str.contains('Intercalated', case=False)].shape[0])


# Eliminamos valores con Painting
df2 = df2[~df2['event'].str.contains('Painting', case=False)]
print(df2.info())
print('-' * 80)
print(df2[df2['event'].str.contains('Painting', case=False)].shape[0])


print(df2[~df2['event'].str.contains('Olympic', case=False)].shape[0])
print('-' * 80)
print(df2[df2['event'].str.contains('YOG', case=False)].shape[0])


# Filtrar eventos que NO contienen 'Olympic' ni 'YOG' y obtener los únicos
non_olympic_yog_unique_events = df2[
    ~df2['event'].str.contains('Olympic', case=False) & 
    ~df2['event'].str.contains('YOG', case=False)
]['event'].unique()

# Convertir a lista si deseas
non_olympic_yog_unique_events_list = non_olympic_yog_unique_events.tolist()
2615
# Imprimir los eventos únicos
print(non_olympic_yog_unique_events_list)


# Filtrar eventos que NO contienen 'Olympic' ni 'YOG'
filtered_events = df2[
    ~df2['event'].str.contains('Olympic', case=False) & 
    ~df2['event'].str.contains('YOG', case=False)
]

# Contar la frecuencia de cada evento
event_counts = filtered_events['event'].value_counts()

# Imprimir los resultados
print(event_counts)


# Filtrar eventos que NO contienen 'Olympic', 'YOG' y paréntesis
filtered_events = df2[
    ~df2['event'].str.contains('Olympic', case=False) & 
    ~df2['event'].str.contains('YOG', case=False) &
    ~df2['event'].str.contains(r'\(.*\)', regex=True)  # Verifica que no haya paréntesis
]

# Contar la frecuencia de cada evento que cumple con las condiciones
event_counts = filtered_events['event'].value_counts()

# Imprimir los resultados
print(event_counts)



# Filtrar eventos que NO contienen 'Olympic', 'YOG', paréntesis y que tienen registros vacíos en 'place'
filtered_events = df2[
    ~df2['event'].str.contains('Olympic', case=False) & 
    ~df2['event'].str.contains('YOG', case=False) &
    ~df2['event'].str.contains(r'\(.*\)', regex=True) &  # Sin paréntesis
    df2['place'].isnull()  # Sin registros en 'place'
]

# Contar la frecuencia de cada evento que cumple con las condiciones
event_counts = filtered_events['event'].value_counts()

# Imprimir los resultados
print(event_counts)

filtered_events_2020 = filtered_events[filtered_events['year'] == 2020]

# Seleccionar las columnas 'event', 'year' y 'place'
results = filtered_events_2020[['event', 'year', 'place']]

# Imprimir los resultados
print(results)


# Filtrar eventos que NO contienen 'Olympic', 'YOG', paréntesis, tienen registros vacíos en 'place'
# y son eventos de 'mixed sports'
filtered_events = df2[
    ~df2['event'].str.contains('Olympic', case=False) & 
    ~df2['event'].str.contains('YOG', case=False) &
    ~df2['event'].str.contains(r'\(.*\)', regex=True) &  # Sin paréntesis
    df2['place'].isnull() &  # Sin registros en 'place'
    df2['event'].str.contains('mixed', case=False)  # Eventos de mixed sports
]

# Contar la frecuencia de cada evento que cumple con las condiciones
event_counts = filtered_events['event'].value_counts()

# Imprimir los resultados
print(event_counts)



# Filtrar disciplinas donde el evento contiene 'mixed'
mixed_discipline_unique = df2[df2['event'].str.contains('mixed sports', case=False)]['discipline'].unique()

# Convertir a lista si deseas
mixed_discipline_unique_list = mixed_discipline_unique.tolist()

# Imprimir los resultados
print(mixed_discipline_unique_list)



# Contar registros donde 'place' está vacío (nulo)
empty_place_count = df2['place'].isnull().sum()

# Imprimir el resultado
print(f"Número de registros con 'place' vacío: {empty_place_count}")


print('-' * 80)
print(df2.isnull().sum())


# Eliminar los registros mixed sports cuyo valor en place sea null
df2 = df2[~((df2['event'].str.contains('mixed sports', case=False)) & (df2['place'].isnull()))]

# Imprimir el número de registros restantes
print(f"Número de registros restantes: {df2.shape[0]}")


print('-' * 80)
print(df2.isnull().sum())
# Se mantienen los registros con valores null en la columna place ya que sirven para el anlisis


registros_null = df2[df2['year'].isnull()]

print(registros_null)


# Conteo de disciplinas que nos queda al final para la segunda pregunta
valores_unicos = df2['discipline'].unique()
valores = valores_unicos.tolist()
print(valores)
print('-' * 80)
print(len(valores))


# Count de participantes para la primera pregunta
valores_unicos = df2['athlete_id'].unique()
valores = valores_unicos.tolist()
print(len(valores))


# Filtrar filas donde 'year' es null y 'medal' es gold, silver o bronze
filtro = df2[df2['year'].isnull() & df2['medal'].isin(['Gold', 'Silver', 'Bronze'])]

print(len(filtro))


# Atletas con year null y con medallas
filtro = df2[df2['year'].isnull() & df2['medal'].isin(['Gold', 'Silver', 'Bronze'])]
nombres = filtro['as']
print(nombres.tolist())


# Eliminar registros donde la columna 'year' tiene valores nulos
df2 = df2.dropna(subset=['year'])

# Verificar el tamaño del DataFrame después de la eliminación
print(len(df2))

print('-' * 80)
print(df2.isnull().sum())


# Filtrar registros donde 'discipline' y 'noc' son nulos
filtro = df2[df2['discipline'].isnull() & df2['noc'].isnull()]

# Mostrar los nombres de la columna 'as' de esos registros
nombres_nulos = filtro['as']

# Mostrar los nombres
print(nombres_nulos)


# Total histórico de atletas con medallas
filtro = df2[df2['medal'].isin(['Gold', 'Silver', 'Bronze'])]
print(len(filtro))


# Cambio de del tipo de dato de la columna year de float a int.
df2['year'] = df2['year'].astype(int)
print(df2.info())


# Se intentó rellenar los null del resgistro pero no se consiguió guardar los cambios en el CSV
'''
df2.loc[304337, 'discipline'] =  'Alpine Skiing (Skiing)'
df2.loc[304337, 'noc'] = 'SWE'
print('-' * 80)
# Guardar el DataFrame modificado de vuelta en el CSV
df2.to_csv('olympic_games_results.csv', index=False)
# Mostrar solo el registro con el índice 304337
registro = df2.loc[304337]

# Imprimir el registro completo
print(registro)
'''


'''
# Eliminar la fila con índice específico y modificar el DataFrame original directamente
df2.drop(304337, inplace=True)

# Verificar que la fila fue eliminada
print(df2)
'''
# Se eliminó la columna, da error al ejecutarlo otra vez y por eso está como comentario


#df2.to_csv('olympic_cleaned_lunes.csv', index=False, encoding='utf-8')


#df1.to_csv('athlete_cleaned_lunes.csv', index=False, encoding='utf-8')


#Unificación de datasets
# Seleccionar las columnas que deseas de cada DataFrame
df1_subset = df1[['athlete_id', 'name', 'height_cm', 'weight_kg' ]]
df2_subset = df2[['athlete_id','year','discipline','event','noc','place','medal']]

# Realizar el merge usando las columnas seleccionadas
df_unificado = pd.merge(df1_subset, df2_subset, on='athlete_id', how='inner')

# Mostrar el resultado
print(df_unificado)


#Creacion de un dataset unificado con culumnas de df1 y df2.
#df_unificado.to_csv('ds_unificado.csv', index=False, encoding='utf-8')


data3=pd.read_csv('ds_unificado.csv')
df3=pd.DataFrame(data3)


df3.info()


#Eliminacion de un registro 'extraviado' con valores nulos 

# Definir las condiciones de valores nulos en las columnas 'name' y 'sport'
condicion = df3['discipline'].isnull() & df3['noc'].isnull()

# Eliminar las filas que cumplen con ambas condiciones (valores nulos en 'name' y 'sport')
df_limpio = df3[~condicion]

# Mostrar el DataFrame después de eliminar las filas
print("\nDataFrame después de eliminar los registros con valores nulos en 'name' y 'sport':")
print(df_limpio.info())


# Iteracion 1 ----- Participacion historica por paises

# Agrupar por la columna 'noc' y contar los valores únicos de 'athlete_id'
df_grouped = df3.groupby('noc')['athlete_id'].nunique().reset_index()

# Renombrar la columna para mayor claridad
df_grouped.rename(columns={'athlete_id': 'unique_athletes'}, inplace=True)

# Ordenar los resultados por la cantidad de atletas (de mayor a menor)
df_grouped_sorted = df_grouped.sort_values(by='unique_athletes', ascending=False)

# Mostrar el resultado
print("\nNúmero de atletas distintos por país:")
print(df_grouped_sorted)
print('-' * 80)
print(df_grouped_sorted.head(10))
print('-' * 80)
print(df_grouped_sorted.tail(10))


# Filtrar los registros con medalla de 'Gold'
df_gold = df3[df3['medal'] == 'Gold']

# Filtrar los registros con medalla de 'Silver'
df_silver = df3[df3['medal'] == 'Silver']

# Filtrar los registros con medalla de 'Bronze'
df_bronze = df3[df3['medal'] == 'Bronze']
print('-' * 80)
# Mostrar los DataFrames separados por tipo de medalla
print("\nDataFrame con medalla Gold:")
print(df_gold)
print(len(df_gold))
print('-' * 80)
print("\nDataFrame con medalla Silver:")
print(df_silver)
print(len(df_silver))
print('-' * 80)
print("\nDataFrame con medalla Bronze:")
print(df_bronze)
print(len(df_bronze))



# Suponiendo que df3 es el DataFrame original con las columnas 'athlete_id', 'noc', 'medal', etc.

# Filtrar los registros con medalla de 'Gold'
df_gold = df3[df3['medal'] == 'Gold']
df_gold_grouped = df_gold.groupby('noc')['athlete_id'].nunique().reset_index()
df_gold_grouped.rename(columns={'athlete_id': 'gold_medals'}, inplace=True)

# Filtrar los registros con medalla de 'Silver'
df_silver = df3[df3['medal'] == 'Silver']
df_silver_grouped = df_silver.groupby('noc')['athlete_id'].nunique().reset_index()
df_silver_grouped.rename(columns={'athlete_id': 'silver_medals'}, inplace=True)

# Filtrar los registros con medalla de 'Bronze'
df_bronze = df3[df3['medal'] == 'Bronze']
df_bronze_grouped = df_bronze.groupby('noc')['athlete_id'].nunique().reset_index()
df_bronze_grouped.rename(columns={'athlete_id': 'bronze_medals'}, inplace=True)

# Unir los tres DataFrames (Gold, Silver, Bronze) por la columna 'noc' (país)
df_medals = pd.merge(df_gold_grouped, df_silver_grouped, on='noc', how='outer')
df_medals = pd.merge(df_medals, df_bronze_grouped, on='noc', how='outer')

# Añadir una columna con el total de medallas por país
df_medals['total_medals'] = df_medals['gold_medals'].fillna(0) + df_medals['silver_medals'].fillna(0) + df_medals['bronze_medals'].fillna(0)

df_medals_sorted = df_medals.sort_values(by='total_medals', ascending=False)

# Mostrar los DataFrames agrupados por tipo de medalla y país
print('-' * 80)
print("\nDataFrame con medallas por país:")
print(df_medals_sorted)
print('-' * 80)


# Filtrar los registros con medalla de 'Gold'
df_gold = df3[df3['medal'] == 'Gold']
df_gold_grouped = df_gold.groupby('noc')['athlete_id'].nunique().reset_index()
df_gold_grouped.rename(columns={'athlete_id': 'gold_medals'}, inplace=True)

# Filtrar los registros con medalla de 'Silver'
df_silver = df3[df3['medal'] == 'Silver']
df_silver_grouped = df_silver.groupby('noc')['athlete_id'].nunique().reset_index()
df_silver_grouped.rename(columns={'athlete_id': 'silver_medals'}, inplace=True)

# Filtrar los registros con medalla de 'Bronze'
df_bronze = df3[df3['medal'] == 'Bronze']
df_bronze_grouped = df_bronze.groupby('noc')['athlete_id'].nunique().reset_index()
df_bronze_grouped.rename(columns={'athlete_id': 'bronze_medals'}, inplace=True)

# Unir los tres DataFrames (Gold, Silver, Bronze) por la columna 'noc' (país)
#df_medals = pd.merge(df_gold_grouped, df_silver_grouped, on='noc', how='outer')
#df_medals = pd.merge(df_medals, df_bronze_grouped, on='noc', how='outer')

# Añadir una columna con el total de medallas por país
df_medals['total_medals'] = df_medals['gold_medals'].fillna(0) + df_medals['silver_medals'].fillna(0) + df_medals['bronze_medals'].fillna(0)

# Ordenar por medallas de oro, luego de plata, y luego de bronce
df_medals_sorted = df_medals.sort_values(by=['gold_medals', 'silver_medals', 'bronze_medals'], ascending=False)
'''
df_medals_gold = df_medals.sort_values(by=['gold_medals'], ascending=False)
df_medals_silver = df_medals.sort_values(by=['silver_medals'], ascending=False)
df_medals_bronze = df_medals.sort_values(by=['bronze_medals'], ascending=False)
# Mostrar el DataFrame con los resultados ordenados
print('-' * 80)
print("\nDataFrame con medallas por país, ordenado por oro, plata y bronce:")
print(df_medals_sorted)
print('-' * 80)

print(df_medals_gold.head(10))
print('-' * 80)
print(df_medals_silver.head(10))
print('-' * 80)
print(df_medals_bronze.head(10))
''' 

# Mostrar solo los primeros 10 países con el total de medallas
print('-' * 80)
print("\nDataFrame con medallas por país (Top 10, ordenado por oro, plata y bronce):")
for index, row in df_medals_sorted.head(10).iterrows():  # Aquí se usan los primeros 10 países
    print(f"{row['noc']} {row['gold_medals']:.1f} {row['silver_medals']:.1f} {row['bronze_medals']:.1f} Total {row['total_medals']:.1f}")
print('-' * 80)

# Ordenar el DataFrame por medallas de oro y mostrar el Top 10
df_gold_grouped_sorted = df_gold_grouped.sort_values(by='gold_medals', ascending=False)
print("\nTop 10 países con medallas de oro:")
for index, row in df_gold_grouped_sorted.head(10).iterrows():
    if row['gold_medals'] > 0:
        print(f"GOLD : {row['noc']} {row['gold_medals']}")

# Ordenar el DataFrame por medallas de plata y mostrar el Top 10
df_silver_grouped_sorted = df_silver_grouped.sort_values(by='silver_medals', ascending=False)
print("\nTop 10 países con medallas de plata:")
for index, row in df_silver_grouped_sorted.head(10).iterrows():
    if row['silver_medals'] > 0:
        print(f"SILVER : {row['noc']} {row['silver_medals']}")

# Ordenar el DataFrame por medallas de bronce y mostrar el Top 10
df_bronze_grouped_sorted = df_bronze_grouped.sort_values(by='bronze_medals', ascending=False)
print("\nTop 10 países con medallas de bronce:")
for index, row in df_bronze_grouped_sorted.head(10).iterrows():
    if row['bronze_medals'] > 0:
        print(f"BRONZE : {row['noc']} {row['bronze_medals']}")


# Seleccionar las columnas que deseas de cada DataFrame
df1_subset = df1[['athlete_id', 'name', 'height_cm', 'weight_kg']]
df2_subset = df2[['athlete_id', 'year', 'discipline' , 'event' , 'noc', 'place' ,  'medal']]

# Realizar el merge usando las columnas seleccionadas
df_unificado = pd.merge(df1_subset, df2_subset, on='athlete_id', how='inner')

# Mostrar el resultado
print(df_unificado)


athletes_df = df3
#Paso 1: Cálculo del BMI
athletes_df['BMI'] = athletes_df['weight_kg'] / (athletes_df['height_cm'] / 100) ** 2  # Asegura que 'altura' esté en metros

#Paso 2: Calcular la media de BMI por disciplina
bmi_mean_per_discipline = athletes_df.groupby('discipline')['BMI'].mean().sort_values(ascending=False)

#Paso 3: Mostrar el resultado
print(bmi_mean_per_discipline.head(10))


# Paso 1: Filtrar atletas con medalla y hacer una copia para evitar la advertencia
medalists_df = df3.dropna(subset=['medal', 'weight_kg', 'height_cm']).copy()

# Paso 2: Calcular el BMI para los atletas con medalla
medalists_df['BMI'] = medalists_df['weight_kg'] / (medalists_df['height_cm'] / 100) ** 2

# Paso 3: Calcular la media de BMI por disciplina
bmi_mean_per_discipline_medalists = medalists_df.groupby('discipline')['BMI'].mean().dropna().sort_values(ascending=False)

# Paso 4: Mostrar el resultado
print(bmi_mean_per_discipline_medalists.head(10))



import matplotlib.pyplot as plt
import seaborn as sns

#PREGUNTA 3

# Paso 1: Filtrar atletas con medalla y hacer una copia para evitar la advertencia
medalists_df = df3.dropna(subset=['medal', 'weight_kg', 'height_cm']).copy()

# Paso 2: Calcular el BMI para los atletas con medalla
medalists_df['BMI'] = medalists_df['weight_kg'] / (medalists_df['height_cm'] / 100) ** 2

# Paso 3: Calcular la media de BMI por disciplina (excluyendo NaN en BMI)
bmi_mean_per_discipline_medalists = medalists_df.groupby('discipline')['BMI'].mean().dropna().sort_values(ascending=False)

# Paso 4: Filtrar el top 5 con mayor BMI y el bottom 5 con menor BMI
top_5_bmi = bmi_mean_per_discipline_medalists.head(5)
bottom_5_bmi = bmi_mean_per_discipline_medalists.tail(5)

# Colores de los anillos olímpicos
olympic_colors = ['#0085CA', '#F4C300', '#3E3A3A', '#00A859', '#F10000']

# Función para personalizar el formato del BMI
def bmi_format(value):
    return f'{value:.2f}'

# Establecer el estilo de Seaborn
sns.set(style="whitegrid")

# Paso 5: Crear los gráficos de pastel (Pie chart) para el top 5 y bottom 5
plt.figure(figsize=(14, 8))

# Pie chart para las 5 disciplinas con mayor BMI (anillo)
plt.subplot(1, 2, 1)  # Subgráfico 1
wedges, texts, autotexts = plt.pie(
    top_5_bmi, 
    labels=top_5_bmi.index, 
    autopct='%1.1f%%',  # Esto se reemplaza con los BMI en el siguiente paso
    startangle=140, 
    colors=olympic_colors,
    wedgeprops={'width': 0.2}  # Esto hace que el gráfico sea un anillo más fino (width=0.2)
)

# Reemplazamos los porcentajes por los valores de BMI
for i, autotext in enumerate(autotexts):
    autotext.set_text(bmi_format(top_5_bmi.iloc[i]))  # Muestra el BMI en lugar del porcentaje



plt.title("Top 5 Disciplinas con Mayor BMI", fontsize=14, color='black')

# Pie chart para las 5 disciplinas con menor BMI (anillo)
plt.subplot(1, 2, 2)  # Subgráfico 2
wedges, texts, autotexts = plt.pie(
    bottom_5_bmi, 
    labels=bottom_5_bmi.index, 
    autopct='%1.1f%%',  # Esto se reemplaza con los BMI en el siguiente paso
    startangle=140, 
    colors=olympic_colors,
    wedgeprops={'width': 0.2}  # Esto hace que el gráfico sea un anillo más fino (width=0.2)
)

# Reemplazamos los porcentajes por los valores de BMI
for i, autotext in enumerate(autotexts):
    autotext.set_text(bmi_format(bottom_5_bmi.iloc[i]))  # Muestra el BMI en lugar del porcentaje


plt.title("Bottom 5 Disciplinas con Menor BMI", fontsize=14, color='black')

# Ajuste de layout para evitar que se solapen los títulos
plt.tight_layout()

# Mostrar los gráficos
plt.show()






# Filtrar atletas con medallas
medalists_data = df3.dropna(subset=['medal'])

# Calcular la media de BMI para cada tipo de medalla por disciplina
bmi_by_medal_and_discipline = medalists_data.groupby(['discipline', 'medal'])['BMI'].mean().unstack()

# Filtrar únicamente las disciplinas y tipos de medalla con BMI no nulo
bmi_non_null = bmi_by_medal_and_discipline.dropna(how='all')

print(bmi_non_null)


import matplotlib.pyplot as plt
import seaborn as sns

#PREGUNTA 2

# Paso 1: Filtrar los datos
medalists_df = df3.dropna(subset=['medal'])

# Dividir en dos conjuntos
yog_medalists = medalists_df[medalists_df['event'].str.contains('YOG')]
non_yog_medalists = medalists_df[~medalists_df['event'].str.contains('YOG')]

# Paso 2: Contar medallas por país
yog_medal_counts = yog_medalists.groupby('noc').size().reset_index(name='medals').sort_values(by='medals', ascending=False).head(5)
non_yog_medal_counts = non_yog_medalists.groupby('noc').size().reset_index(name='medals').sort_values(by='medals', ascending=False).head(5)

# Colores olímpicos básicos
olympic_colors = ['#0085CA', '#F4C300', '#3E3A3A', '#00A859', '#F10000']

# Gráfico para YOG
plt.figure(figsize=(12, 6))
sns.barplot(data=yog_medal_counts, x='noc', y='medals', palette=olympic_colors)
plt.title("Number of Medals by Country (Youth)", fontsize=16)
plt.xlabel("Country", fontsize=12)
plt.ylabel("Number of Medals", fontsize=12)
plt.xticks(rotation=90)
plt.tight_layout()
plt.show()

# Gráfico para No YOG
plt.figure(figsize=(12, 6))
sns.barplot(data=non_yog_medal_counts, x='noc', y='medals', palette=olympic_colors)
plt.title("Number of Medals by Country (Adult)", fontsize=16)
plt.xlabel("Country", fontsize=12)
plt.ylabel("Number of Medals", fontsize=12)
plt.xticks(rotation=90)
plt.tight_layout()
plt.show()



import matplotlib.pyplot as plt
import seaborn as sns

#PREGUNTA 2

# Paso 1: Filtrar los datos para cada tipo de medalla (oro, plata, bronce)
gold_medalists = df3[df3['medal'] == 'Gold']
silver_medalists = df3[df3['medal'] == 'Silver']
bronze_medalists = df3[df3['medal'] == 'Bronze']

# Paso 2: Contar medallas por país para cada tipo
gold_medal_counts = gold_medalists.groupby('noc').size().sort_values(ascending=False).head(5)
silver_medal_counts = silver_medalists.groupby('noc').size().sort_values(ascending=False).head(5)
bronze_medal_counts = bronze_medalists.groupby('noc').size().sort_values(ascending=False).head(5)

# Establecer el estilo de Seaborn
sns.set(style="whitegrid")

# Paso 3: Crear los pie charts (con efecto de anillo) con matplotlib, pero manteniendo el estilo Seaborn
plt.figure(figsize=(15, 15))

# Gráfico para medallas de oro (más contraste)
plt.subplot(3, 1, 1)
wedges, texts, autotexts = plt.pie(gold_medal_counts, 
                                   labels=gold_medal_counts.index, 
                                   autopct='%1.1f%%', 
                                   startangle=90, 
                                   colors=['#FFAA00', '#FFD700', '#FF9900', '#FFCC00', '#FF7F32'],  # Colores oro más contrastantes
                                   wedgeprops={'width': 0.25})  # Efecto anillo

# Reemplazar los porcentajes por los valores de medallas de oro
for i, autotext in enumerate(autotexts):
    autotext.set_text(f'{gold_medal_counts.iloc[i]}')

# Estilo de las letras dentro del gráfico
for i, autotext in enumerate(autotexts):
    if ['#FFAA00', '#FFD700', '#FF9900', '#FFCC00', '#FF7F32'][i] == '#FFD700':  # Si es el oro
        autotext.set_color('black')
    else:
        autotext.set_color('black')

plt.title("Top 5 Countries with the Most Gold Medals")
plt.ylabel('')

# Gráfico para medallas de plata (más contraste)
plt.subplot(3, 1, 2)
wedges, texts, autotexts = plt.pie(silver_medal_counts, 
                                   labels=silver_medal_counts.index, 
                                   autopct='%1.1f%%', 
                                   startangle=90, 
                                   colors=['#C0C0C0', '#A5A5A5', '#B0B0B0', '#D3D3D3', '#DCDCDC'],  # Colores plata más contrastantes
                                   wedgeprops={'width': 0.25})  # Efecto anillo

# Reemplazar los porcentajes por los valores de medallas de plata
for i, autotext in enumerate(autotexts):
    autotext.set_text(f'{silver_medal_counts.iloc[i]}')

# Estilo de las letras dentro del gráfico
for i, autotext in enumerate(autotexts):
    autotext.set_color('black')

plt.title("Top 5 Countries with the Most Silver Medals")
plt.ylabel('')

# Gráfico para medallas de bronce (más contraste)
plt.subplot(3, 1, 3)
wedges, texts, autotexts = plt.pie(bronze_medal_counts, 
                                   labels=bronze_medal_counts.index, 
                                   autopct='%1.1f%%', 
                                   startangle=90, 
                                   colors=['#CD7F32', '#B87333', '#A96D49', '#D77B3A', '#9C5E39'],  # Colores bronce más contrastantes
                                   wedgeprops={'width': 0.25})  # Efecto anillo

# Reemplazar los porcentajes por los valores de medallas de bronce
for i, autotext in enumerate(autotexts):
    autotext.set_text(f'{bronze_medal_counts.iloc[i]}')

# Estilo de las letras dentro del gráfico
for i, autotext in enumerate(autotexts):
    autotext.set_color('black')

plt.title("Top 5 Countries with the Most Bronze Medals")
plt.ylabel('')

# Ajuste de layout para evitar que se solapen los gráficos
plt.tight_layout()

# Mostrar los gráficos
plt.show()



import seaborn as sns
import matplotlib.pyplot as plt
import pandas as pd

#PREGUNTA 3

# Paso 1: Filtrar atletas con medalla y hacer una copia para evitar la advertencia
medalists_df = df3.dropna(subset=['medal', 'weight_kg', 'height_cm']).copy()

# Paso 2: Calcular el BMI para los atletas con medalla
medalists_df['BMI'] = medalists_df['weight_kg'] / (medalists_df['height_cm'] / 100) ** 2

# Paso 3: Filtrar por eventos YOG y no YOG
yog_medalists = medalists_df[medalists_df['event'].str.contains('YOG', case=False, na=False)]
non_yog_medalists = medalists_df[~medalists_df['event'].str.contains('YOG', case=False, na=False)]

# Paso 4: Filtrar por géneros
# Para no YOG (mujeres, hombres, y mezclado)
non_yog_women = non_yog_medalists[non_yog_medalists['event'].str.contains('women', case=False, na=False)]
non_yog_men = non_yog_medalists[non_yog_medalists['event'].str.contains('men', case=False, na=False)]
non_yog_mixed = non_yog_medalists[non_yog_medalists['event'].str.contains('mixed', case=False, na=False)]

# Para YOG (chicas, chicos, y mixto juvenil)
yog_girls = yog_medalists[yog_medalists['event'].str.contains('girls', case=False, na=False)]
yog_boys = yog_medalists[yog_medalists['event'].str.contains('boys', case=False, na=False)]
yog_mixed_youth = yog_medalists[yog_medalists['event'].str.contains('mixed youth', case=False, na=False)]

# Paso 5: Calcular el BMI promedio por género en cada grupo (YOG y no YOG)
# Para YOG
yog_bmi_by_gender = {
    'Girls': yog_girls.groupby('discipline')['BMI'].mean(),
    'Boys': yog_boys.groupby('discipline')['BMI'].mean(),
    'Mixed Youth': yog_mixed_youth.groupby('discipline')['BMI'].mean()
}

# Para no YOG
non_yog_bmi_by_gender = {
    'Women': non_yog_women.groupby('discipline')['BMI'].mean(),
    'Men': non_yog_men.groupby('discipline')['BMI'].mean(),
    'Mixed': non_yog_mixed.groupby('discipline')['BMI'].mean()
}

# Convertir los resultados a DataFrame para que sea más fácil de trabajar
yog_bmi_by_gender_df = pd.DataFrame(yog_bmi_by_gender)
non_yog_bmi_by_gender_df = pd.DataFrame(non_yog_bmi_by_gender)

# Paso 6: Crear los gráficos de pie para YOG y no YOG
plt.figure(figsize=(15, 8))

# Colores olímpicos + color neutro
olympic_colors_yog = ['#0085CA', '#00A859', '#3E3A3A']  # Colores olímpicos + gris neutro
olympic_colors_non_yog = ['#F10000', '#F4C300', '#3E3A3A']  # Mismo conjunto de colores

# Gráfico de pie para el grupo YOG
plt.subplot(1, 2, 1)
yog_bmi_by_gender_df.mean().plot(kind='pie', autopct='%1.1f%%', startangle=90, wedgeprops={'width': 0.3}, colors=olympic_colors_yog)
plt.title("Average BMI by Gender for Youth", fontsize=14)
plt.ylabel('')

# Gráfico de pie para el grupo no YOG
plt.subplot(1, 2, 2)
non_yog_bmi_by_gender_df.mean().plot(kind='pie', autopct='%1.1f%%', startangle=90, wedgeprops={'width': 0.3}, colors=olympic_colors_non_yog)
plt.title("Average BMI by Gender for Adults", fontsize=14)
plt.ylabel('')

# Ajuste del diseño para que no se superpongan los gráficos
plt.tight_layout()

# Mostrar los gráficos
plt.show()



import seaborn as sns
import matplotlib.pyplot as plt

#PREGUNTA 3

# Paso 1: Filtrar atletas con medalla y hacer una copia para evitar la advertencia
medalists_df = df3.dropna(subset=['medal', 'weight_kg', 'height_cm']).copy()

# Paso 2: Calcular el BMI para los atletas con medalla
medalists_df['BMI'] = medalists_df['weight_kg'] / (medalists_df['height_cm'] / 100) ** 2

# Paso 3: Filtrar por eventos YOG y no YOG
yog_medalists = medalists_df[medalists_df['event'].str.contains('YOG', case=False, na=False)]
non_yog_medalists = medalists_df[~medalists_df['event'].str.contains('YOG', case=False, na=False)]

# Paso 4: Filtrar por géneros
# Para no YOG (mujeres, hombres, y mezclado)
non_yog_women = non_yog_medalists[non_yog_medalists['event'].str.contains('women', case=False, na=False)]
non_yog_men = non_yog_medalists[non_yog_medalists['event'].str.contains('men', case=False, na=False)]
non_yog_mixed = non_yog_medalists[non_yog_medalists['event'].str.contains('mixed', case=False, na=False)]

# Para YOG (chicas, chicos, y mixto juvenil)
yog_girls = yog_medalists[yog_medalists['event'].str.contains('girls', case=False, na=False)]
yog_boys = yog_medalists[yog_medalists['event'].str.contains('boys', case=False, na=False)]
yog_mixed_youth = yog_medalists[yog_medalists['event'].str.contains('mixed youth', case=False, na=False)]

# Paso 5: Calcular el BMI promedio por género en cada grupo (YOG y no YOG)
# Para YOG
yog_bmi_by_gender = {
    'Girls': yog_girls.groupby('discipline')['BMI'].mean(),
    'Boys': yog_boys.groupby('discipline')['BMI'].mean(),
    'Mixed Youth': yog_mixed_youth.groupby('discipline')['BMI'].mean()
}

# Para no YOG
non_yog_bmi_by_gender = {
    'Women': non_yog_women.groupby('discipline')['BMI'].mean(),
    'Men': non_yog_men.groupby('discipline')['BMI'].mean(),
    'Mixed': non_yog_mixed.groupby('discipline')['BMI'].mean()
}

# Convertir los resultados a DataFrame para que sea más fácil de trabajar
yog_bmi_by_gender_df = pd.DataFrame(yog_bmi_by_gender)
non_yog_bmi_by_gender_df = pd.DataFrame(non_yog_bmi_by_gender)

# Paso 6: Crear los gráficos de pie para YOG y no YOG con BMI en lugar de porcentaje
plt.figure(figsize=(15, 8))

# Gráfico de pie para el grupo YOG
plt.subplot(1, 2, 1)
wedges, texts, autotexts = plt.pie(
    yog_bmi_by_gender_df.mean(), 
    labels=yog_bmi_by_gender_df.columns, 
    startangle=90, 
    wedgeprops={'width': 0.3}, 
    colors=['#0085CA', '#00A859', '#3E3A3A'], 
    autopct='%1.1f%%'  # Esto se usa para tener el texto en el gráfico, pero lo vamos a modificar
)

# Reemplazamos los porcentajes por los BMI en el gráfico
for i, autotext in enumerate(autotexts):
    autotext.set_text(f'{yog_bmi_by_gender_df.mean().iloc[i]:.2f}')  # Muestra el BMI en lugar del porcentaje

plt.title("Average BMI by Gender for Youth", fontsize=14)
plt.ylabel('')

# Gráfico de pie para el grupo no YOG
plt.subplot(1, 2, 2)
wedges, texts, autotexts = plt.pie(
    non_yog_bmi_by_gender_df.mean(), 
    labels=non_yog_bmi_by_gender_df.columns, 
    startangle=90, 
    wedgeprops={'width': 0.3}, 
    colors=['#F10000', '#F4C300', '#3E3A3A'],
    autopct='%1.1f%%'  # Lo usamos para que se vean los textos, pero los reemplazamos por los BMI
)

# Reemplazamos los porcentajes por los BMI en el gráfico
for i, autotext in enumerate(autotexts):
    autotext.set_text(f'{non_yog_bmi_by_gender_df.mean().iloc[i]:.2f}')  # Muestra el BMI en lugar del porcentaje

plt.title("Average BMI by Gender for Adults", fontsize=14)
plt.ylabel('')

# Ajuste del diseño para que no se superpongan los gráficos
plt.tight_layout()

# Mostrar los gráficos
plt.show()



import matplotlib.pyplot as plt
from matplotlib.ticker import MaxNLocator

#PREGUNTA 1

#Filtrar el DataFrame para incluir solo eventos que contengan "Olympic" en el nombre de la disciplina
df_filtered = df2[(df2['event'].str.contains("Olympic", case=False))]

#Contar disciplinas únicas por año y tipo en el DataFrame filtrado
unique_disciplines = df_filtered.groupby(['year', 'type'], observed=False)['event'].nunique().reset_index()

#Pivotar los datos para que cada tipo de deporte sea una columna
pivot_table = unique_disciplines.pivot(index='year', columns='type', values='event').fillna(0)

#Graficar
plt.figure(figsize=(12, 6))
plt.plot(pivot_table.index, pivot_table['Summer'], color='red', marker='o', label='Summer Sports')
plt.plot(pivot_table.index, pivot_table['Winter'], color='blue', marker='o', label='Winter Sports')

#Personalizar el gráfico
plt.title("Number of Unique Disciplines per Year")
plt.xlabel("Year")
plt.ylabel("Number of Unique Disciplines")

#Ajustar las etiquetas del eje X para mostrar más años
plt.xticks(rotation=45)
plt.gca().xaxis.set_major_locator(MaxNLocator(integer=True, prune='both', nbins=20))  # Ajusta 'nbins' según la cantidad de etiquetas que desees

plt.legend(title='Sport Type')
plt.grid()

#Mostrar el gráfico
plt.tight_layout()
plt.show()


#tendencia de numero de disciplinas por año (YOG):

#PREGUNTA 1

#Filtrar el DataFrame para incluir solo eventos que contengan "Olympic" en el nombre de la disciplina
df_filtered = df2[(df2['event'].str.contains("YOG", case=False))]

#Contar disciplinas únicas por año y tipo en el DataFrame filtrado
unique_disciplines = df_filtered.groupby(['year', 'type'], observed=False)['event'].nunique().reset_index()

#Pivotar los datos para que cada tipo de deporte sea una columna
pivot_table = unique_disciplines.pivot(index='year', columns='type', values='event').fillna(0)

#Graficar
plt.figure(figsize=(12, 6))
plt.plot(pivot_table.index, pivot_table['Summer'], color='red', marker='o', label='Summer Sports')
plt.plot(pivot_table.index, pivot_table['Winter'], color='blue', marker='o', label='Winter Sports')

#Personalizar el gráfico
plt.title("Number of Unique Disciplines per Year (Youth)")
plt.xlabel("Year")
plt.ylabel("Number of Unique Disciplines")

#Ajustar las etiquetas del eje X para mostrar más años
plt.xticks(rotation=45)
plt.gca().xaxis.set_major_locator(MaxNLocator(integer=True, prune='both', nbins=20))  # Ajusta 'nbins' según la cantidad de etiquetas que desees

plt.legend(title='Sport Type')
plt.grid()

#Mostrar el gráfico
plt.tight_layout()
plt.show()


#PREGUNTA 1

#Contar la cantidad de representantes por país
country_counts = df3['noc'].value_counts().head(5)

#Configurar el estilo del gráfico
sns.set(style="whitegrid")

#Crear el gráfico de barras
plt.figure(figsize=(12, 6))
sns.barplot(x=country_counts.index, y=country_counts.values, hue = country_counts.index , palette=olympic_colors)

#Personalizar el gráfico
plt.title("Countries with the largest Number of Representatives")
plt.xlabel("Country")
plt.ylabel("Number of Representatives")
plt.xticks(rotation=45)  # Rotar etiquetas para mejor visualización

#Mostrar el gráfico
plt.tight_layout()
plt.show()


#PREGUNTA 1

#Contar la cantidad de representantes por país
country_counts = df3['noc'].value_counts().tail(5)

#Configurar el estilo del gráfico
sns.set(style="whitegrid")

#Crear el gráfico de barras, ordenando de mayor a menor
plt.figure(figsize=(12, 6))
sns.barplot(x=country_counts.index, y=country_counts.values, hue=country_counts.index, palette=olympic_colors, 
            order=country_counts.index[::-1])  # Invertir el orden para mostrar las barras de mayor a menor

#Personalizar el gráfico
plt.title("Countries with the smallest Number of Representatives")
plt.xlabel("Country")
plt.ylabel("Number of Representatives")
plt.xticks(rotation=45)  # Rotar etiquetas para mejor visualización

#Mostrar el gráfico
plt.tight_layout()
plt.show()
